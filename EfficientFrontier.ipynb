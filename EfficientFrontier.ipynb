{
 "cells": [
  {
   "cell_type": "markdown",
   "id": "290ba7af",
   "metadata": {},
   "source": [
    "Shreyansh Misra"
   ]
  },
  {
   "cell_type": "markdown",
   "id": "c1291ba3",
   "metadata": {},
   "source": [
    "# I. Dataset Creation"
   ]
  },
  {
   "cell_type": "markdown",
   "id": "9e65e885",
   "metadata": {},
   "source": [
    "#### Importing Dependencies"
   ]
  },
  {
   "cell_type": "code",
   "execution_count": 1,
   "id": "c4faa145",
   "metadata": {},
   "outputs": [],
   "source": [
    "import requests\n",
    "import re\n",
    "import numpy as np\n",
    "from bs4 import BeautifulSoup as bs"
   ]
  },
  {
   "cell_type": "markdown",
   "id": "438efcf9",
   "metadata": {},
   "source": [
    "#### S&P 500"
   ]
  },
  {
   "cell_type": "markdown",
   "id": "84ca6146",
   "metadata": {},
   "source": [
    "The S&P500 is an index tracking the stock performance of the 500 largest public companies in the USA by market capitalization. This dataset was selected as companies within the S&P500 are well established and have large market capitalizations in a variety of industires, thereby making them low-risk equities for investment."
   ]
  },
  {
   "cell_type": "code",
   "execution_count": 2,
   "id": "19d668ca",
   "metadata": {},
   "outputs": [],
   "source": [
    "sp500_url = \"https://thirsty-golick-fbd29a.netlify.app/table\""
   ]
  },
  {
   "cell_type": "markdown",
   "id": "3602a229",
   "metadata": {},
   "source": [
    "#### Scraping List of Stock Tickers"
   ]
  },
  {
   "cell_type": "code",
   "execution_count": 3,
   "id": "5903c459",
   "metadata": {},
   "outputs": [],
   "source": [
    "res = requests.get(sp500_url)\n",
    "soup = bs(res.text, 'html.parser')\n",
    "\n",
    "table = soup.findAll('table')[0].findAll('tbody')"
   ]
  },
  {
   "cell_type": "code",
   "execution_count": 4,
   "id": "89a17091",
   "metadata": {},
   "outputs": [
    {
     "data": {
      "text/plain": [
       "('\\n class=\"g-0lax\"span syle=\"fon-weigh:400;fon-syle:nomal;ex-ecoaion:none;colo:#000;backgoun-colo:anspaen\"MSFT',\n",
       " '\\n class=\"g-0lax\"span syle=\"fon-weigh:400;fon-syle:nomal;ex-ecoaion:none;colo:#000;backgoun-colo:anspaen\"AAPL',\n",
       " '\\n class=\"g-0lax\"span syle=\"fon-weigh:400;fon-syle:nomal;ex-ecoaion:none;colo:#000;backgoun-colo:anspaen\"AMZN')"
      ]
     },
     "execution_count": 4,
     "metadata": {},
     "output_type": "execute_result"
    }
   ],
   "source": [
    "SP500 = []\n",
    "\n",
    "#\n",
    "for i, ticker in enumerate(table[0]):\n",
    "    if len(ticker) > 1:\n",
    "        \n",
    "        #\n",
    "        text = re.sub(r\"[<trd>]\", \"\", str(ticker))\n",
    "        text = text.split('/')\n",
    "        \n",
    "        SP500.append(text[4])\n",
    "        \n",
    "        \n",
    "SP500[0], SP500[1], SP500[2]"
   ]
  },
  {
   "cell_type": "markdown",
   "id": "30ca26b3",
   "metadata": {},
   "source": [
    "#### Cleaning Stock Tickers Dataset"
   ]
  },
  {
   "cell_type": "code",
   "execution_count": 5,
   "id": "ccb81eeb",
   "metadata": {},
   "outputs": [
    {
     "name": "stdout",
     "output_type": "stream",
     "text": [
      "['MSFT', 'AAPL', 'AMZN', 'TSLA', 'GOOGL', 'GOOG', 'FB', 'NVDA', 'BRK.B', 'JPM', 'JNJ', 'UNH', 'HD', 'V', 'PG', 'BAC', 'DIS', 'ADBE', 'MA', 'CRM', 'NFLX', 'XOM', 'PFE', 'PYPL', 'CMCSA', 'TMO', 'CSCO', 'ACN', 'PEP', 'AVGO', 'NKE', 'COST', 'CVX', 'KO', 'ABT', 'VZ', 'WMT', 'LLY', 'WFC', 'ABBV', 'INTC', 'MRK', 'MCD', 'DHR', 'QCOM', 'T', 'TXN', 'LIN', 'INTU', 'NEE', 'LOW', 'AMD', 'MDT', 'ORCL', 'HON', 'UNP', 'UPS', 'PM', 'MS', 'AMAT', 'SBUX', 'RTX', 'GS', 'NOW', 'BLK', 'C', 'BMY', 'ISRG', 'AMT', 'TGT', 'CVS', 'BA', 'SCHW', 'AMGN', 'GE', 'AXP', 'CAT', 'SPGI', 'IBM', 'PLD', 'BKNG', 'MMM', 'ANTM', 'ZTS', 'COP', 'DE', 'ADI', 'ADP', 'SYK', 'PNC', 'CHTR', 'LRCX', 'MDLZ', 'TJX', 'TFC', 'GM', 'CB', 'LMT', 'MO', 'GILD', 'MU', 'USB', 'MMC', 'EL', 'CSX', 'CME', 'DUK', 'CCI', 'SHW', 'ICE', 'F', 'EW', 'CI', 'TMUS', 'ADSK', 'FIS', 'EQIX', 'NSC', 'BDX', 'COF', 'APD', 'ETN', 'ITW', 'SO', 'CL', 'AON', 'REGN', 'KLAC', 'MCO', 'WM', 'D', 'DXCM', 'BSX', 'HCA', 'ILMN', 'FISV', 'FDX', 'NXPI', 'EMR', 'HUM', 'ECL', 'PGR', 'SPG', 'EOG', 'NOC', 'FCX', 'IDXX', 'MSCI', 'DG', 'JCI', 'EXC', 'ATVI', 'TEL', 'SNPS', 'ROP', 'INFO', 'AIG', 'CMG', 'TROW', 'VRTX', 'ALGN', 'CDNS', 'PSA', 'XLNX', 'APH', 'EBAY', 'A', 'IQV', 'APTV', 'MCHP', 'SLB', 'BK', 'MET', 'GD', 'FTNT', 'MAR', 'CARR', 'NEM', 'LHX', 'KMB', 'MTCH', 'ORLY', 'DLR', 'TT', 'SIVB', 'DOW', 'CNC', 'PRU', 'ROST', 'AEP', 'TWTR', 'HLT', 'DD', 'PXD', 'PH', 'CTSH', 'MPC', 'MSI', 'SYY', 'BIIB', 'SRE', 'GPN', 'PAYX', 'TRV', 'EA', 'O', 'ROK', 'AZO', 'BAX', 'PPG', 'CTAS', 'FRC', 'HPQ', 'GIS', 'RMD', 'SBAC', 'STZ', 'YUM', 'ADM', 'WBA', 'CBRE', 'IFF', 'WELL', 'ANSS', 'MTD', 'AFL', 'STT', 'CTVA', 'DFS', 'OTIS', 'TDG', 'AMP', 'WMB', 'EFX', 'ALL', 'VRSK', 'XEL', 'MCK', 'MNST', 'PSX', 'CMI', 'KEYS', 'FAST', 'AVB', 'AJG', 'KMI', 'NUE', 'ODFL', 'AME', 'PEG', 'ZBRA', 'CPRT', 'ENPH', 'ALB', 'VLO', 'ETSY', 'PCAR', 'LUV', 'AWK', 'FITB', 'DHI', 'WST', 'WLTW', 'SWK', 'OXY', 'ZBH', 'BLL', 'GLW', 'ANET', 'ES', 'BBY', 'OKE', 'EQR', 'KR', 'WY', 'WEC', 'LEN', 'ARE', 'URI', 'DAL', 'FTV', 'KSU', 'SYF', 'GNRC', 'RSG', 'IT', 'DVN', 'SWKS', 'ED', 'LH', 'EXR', 'VMC', 'EXPE', 'NTRS', 'MLM', 'CDW', 'DLTR', 'HSY', 'KMX', 'TSCO', 'HIG', 'NDAQ', 'KHC', 'DOV', 'EIX', 'PAYC', 'LYB', 'TSN', 'VFC', 'XYL', 'HBAN', 'MPWR', 'MAA', 'RF', 'IR', 'HES', 'KEY', 'VRSN', 'TER', 'CZR', 'CERN', 'DTE', 'PPL', 'STE', 'AEE', 'VIAC', 'HAL', 'ESS', 'TYL', 'CHD', 'TRMB', 'TTWO', 'ULTA', 'GRMN', 'RCL', 'EXPD', 'FE', 'DRE', 'WAT', 'ETR', 'COO', 'TDY', 'CTLT', 'POOL', 'GWW', 'BKR', 'NTAP', 'VTR', 'CFG', 'MKC', 'MGM', 'FLT', 'HPE', 'BR', 'DRI', 'CLX', 'MTB', 'BBWI', 'CCL', 'GPC', 'STX', 'FANG', 'TECH', 'IP', 'ABC', 'PKI', 'CINF', 'CRL', 'CE', 'AVY', 'AMCR', 'J', 'RJF', 'PEAK', 'DPZ', 'IEX', 'WAB', 'CMS', 'HOLX', 'CTRA', 'AKAM', 'QRVO', 'TXT', 'WDC', 'PFG', 'NVR', 'DGX', 'UAL', 'CDAY', 'AES', 'BXP', 'VTRS', 'TFX', 'ABMD', 'PWR', 'LYV', 'JBHT', 'MAS', 'K', 'CAG', 'CNP', 'BIO', 'LKQ', 'UDR', 'EMN', 'AAP', 'EVRG', 'OMC', 'KIM', 'MKTX', 'BRO', 'NLOK', 'CAH', 'IPG', 'CBOE', 'LNT', 'FBHS', 'LVS', 'AAL', 'LUMN', 'IRM', 'FMC', 'WHR', 'SJM', 'MRO', 'FOXA', 'PTC', 'FFIV', 'RHI', 'BF.B', 'PHM', 'HST', 'WRK', 'MOS', 'HWM', 'PKG', 'LNC', 'INCY', 'CF', 'LDOS', 'CHRW', 'HAS', 'PNR', 'ATO', 'HRL', 'XRAY', 'TPR', 'ALLE', 'JKHY', 'CMA', 'L', 'REG', 'SNA', 'APA', 'WRB', 'BWA', 'HSIC', 'CTXS', 'RE', 'NCLH', 'ZION', 'AOS', 'WYNN', 'JNPR', 'MHK', 'BEN', 'NI', 'UHS', 'NWSA', 'AIZ', 'DISH', 'SEE', 'FRT', 'PENN', 'OGN', 'NWL', 'NRG', 'GL', 'IVZ', 'TAP', 'PVH', 'DXC', 'LW', 'CPB', 'ROL', 'HII', 'PBCT', 'NLSN', 'DISCK', 'ALK', 'DVA', 'WU', 'PNW', 'VNO', 'HBI', 'IPGP', 'RL', 'LEG', 'FOX', 'GPS', 'UAA', 'DISCA', 'UA', 'NWS']\n"
     ]
    }
   ],
   "source": [
    "# removing text styling prefix\n",
    "SP500 = [value.removeprefix('\\n class=\"g-0lax\"span syle=\"fon-weigh:400;fon-syle:nomal;ex-ecoaion:none;colo:#000;backgoun-colo:anspaen\"') for value in SP500]\n",
    "\n",
    "# removing element 99 \"span\"\n",
    "SP500.pop(99)\n",
    "\n",
    "\n",
    "print(SP500)"
   ]
  },
  {
   "cell_type": "markdown",
   "id": "0d82bda0",
   "metadata": {},
   "source": [
    "#### Scraping List of Stock Weights"
   ]
  },
  {
   "cell_type": "code",
   "execution_count": 6,
   "id": "e1a820d3",
   "metadata": {},
   "outputs": [
    {
     "data": {
      "text/plain": [
       "('\\n class=\"g-0lax\"span syle=\"fon-weigh:400;fon-syle:nomal;ex-ecoaion:none;colo:#000;backgoun-colo:anspaen\"6.33576',\n",
       " '\\n class=\"g-0lax\"span syle=\"fon-weigh:400;fon-syle:nomal;ex-ecoaion:none;colo:#000;backgoun-colo:anspaen\"5.95990',\n",
       " '\\n class=\"g-0lax\"span syle=\"fon-weigh:400;fon-syle:nomal;ex-ecoaion:none;colo:#000;backgoun-colo:anspaen\"3.84511')"
      ]
     },
     "execution_count": 6,
     "metadata": {},
     "output_type": "execute_result"
    }
   ],
   "source": [
    "weight500 = []\n",
    "\n",
    "#\n",
    "for i, ticker in enumerate(table[0]):\n",
    "    if len(ticker) > 1:\n",
    "        \n",
    "        text = re.sub(r\"[<trd>]\", \"\", str(ticker))\n",
    "        text = text.split('/')\n",
    "        \n",
    "        weight500.append(text[6])\n",
    "\n",
    "weight500[0], weight500[1], weight500[2]"
   ]
  },
  {
   "cell_type": "markdown",
   "id": "060cc019",
   "metadata": {},
   "source": [
    "#### Cleaning Stock Weights Dataset"
   ]
  },
  {
   "cell_type": "code",
   "execution_count": 7,
   "id": "6e366653",
   "metadata": {},
   "outputs": [
    {
     "data": {
      "text/plain": [
       "'span'"
      ]
     },
     "execution_count": 7,
     "metadata": {},
     "output_type": "execute_result"
    }
   ],
   "source": [
    "# removing text styling prefix\n",
    "weight500 = [value.removeprefix('\\n class=\"g-0lax\"span syle=\"fon-weigh:400;fon-syle:nomal;ex-ecoaion:none;colo:#000;backgoun-colo:anspaen\"') for value in weight500]\n",
    "\n",
    "# removing element 99 \"span\"\n",
    "weight500.pop(99)"
   ]
  },
  {
   "cell_type": "markdown",
   "id": "ca79e59c",
   "metadata": {},
   "source": [
    "#### Converting Weights from Percentages to Decimals"
   ]
  },
  {
   "cell_type": "code",
   "execution_count": 8,
   "id": "762357c8",
   "metadata": {},
   "outputs": [
    {
     "name": "stdout",
     "output_type": "stream",
     "text": [
      "Pass\n",
      "[0.0634, 0.0596, 0.0385, 0.0249, 0.0225, 0.0211, 0.0204, 0.0186, 0.0134, 0.0126, 0.0108, 0.0108, 0.0098, 0.0092, 0.0089, 0.0087, 0.008, 0.0079, 0.0076, 0.0075, 0.0072, 0.0069, 0.0068, 0.0067, 0.0062, 0.0061, 0.006, 0.0059, 0.0058, 0.0058, 0.0057, 0.0057, 0.0056, 0.0055, 0.0055, 0.0054, 0.0054, 0.0053, 0.0052, 0.0052, 0.0052, 0.0052, 0.0048, 0.0047, 0.0046, 0.0045, 0.0045, 0.0043, 0.0042, 0.0042, 0.0042, 0.0042, 0.0041, 0.0039, 0.0039, 0.0039, 0.0038, 0.0037, 0.0037, 0.0035, 0.0035, 0.0035, 0.0034, 0.0034, 0.0034, 0.0034, 0.0033, 0.0033, 0.0032, 0.0032, 0.0031, 0.0031, 0.0031, 0.003, 0.003, 0.0029, 0.0028, 0.0028, 0.0028, 0.0027, 0.0027, 0.0026, 0.0026, 0.0026, 0.0025, 0.0025, 0.0025, 0.0024, 0.0023, 0.0022, 0.0022, 0.0022, 0.0022, 0.0022, 0.0022, 0.0021, 0.0021, 0.0021, 0.0021, 0.0021, 0.0021, 0.0021, 0.0021, 0.002, 0.002, 0.002, 0.002, 0.002, 0.0019, 0.0019, 0.0019, 0.0019, 0.0018, 0.0018, 0.0018, 0.0018, 0.0018, 0.0018, 0.0018, 0.0017, 0.0017, 0.0017, 0.0017, 0.0017, 0.0016, 0.0016, 0.0016, 0.0016, 0.0016, 0.0016, 0.0016, 0.0015, 0.0015, 0.0015, 0.0015, 0.0015, 0.0015, 0.0015, 0.0015, 0.0015, 0.0014, 0.0014, 0.0014, 0.0014, 0.0014, 0.0014, 0.0014, 0.0014, 0.0013, 0.0013, 0.0013, 0.0013, 0.0013, 0.0013, 0.0013, 0.0013, 0.0013, 0.0013, 0.0013, 0.0013, 0.0013, 0.0012, 0.0012, 0.0012, 0.0012, 0.0012, 0.0012, 0.0012, 0.0012, 0.0012, 0.0012, 0.0012, 0.0012, 0.0012, 0.0012, 0.0012, 0.0011, 0.0011, 0.0011, 0.0011, 0.0011, 0.0011, 0.0011, 0.0011, 0.0011, 0.0011, 0.0011, 0.0011, 0.0011, 0.0011, 0.0011, 0.0011, 0.0011, 0.0011, 0.0011, 0.0011, 0.0011, 0.0011, 0.001, 0.001, 0.001, 0.001, 0.001, 0.001, 0.001, 0.001, 0.001, 0.001, 0.001, 0.001, 0.001, 0.001, 0.001, 0.001, 0.001, 0.0009, 0.0009, 0.0009, 0.0009, 0.0009, 0.0009, 0.0009, 0.0009, 0.0009, 0.0009, 0.0009, 0.0009, 0.0009, 0.0009, 0.0009, 0.0009, 0.0009, 0.0009, 0.0009, 0.0009, 0.0009, 0.0009, 0.0009, 0.0009, 0.0009, 0.0009, 0.0008, 0.0008, 0.0008, 0.0008, 0.0008, 0.0008, 0.0008, 0.0008, 0.0008, 0.0008, 0.0008, 0.0008, 0.0008, 0.0008, 0.0008, 0.0008, 0.0008, 0.0008, 0.0008, 0.0008, 0.0007, 0.0007, 0.0007, 0.0007, 0.0007, 0.0007, 0.0007, 0.0007, 0.0007, 0.0007, 0.0007, 0.0007, 0.0007, 0.0007, 0.0007, 0.0007, 0.0007, 0.0007, 0.0007, 0.0007, 0.0007, 0.0007, 0.0007, 0.0007, 0.0007, 0.0007, 0.0007, 0.0007, 0.0007, 0.0007, 0.0007, 0.0007, 0.0006, 0.0006, 0.0006, 0.0006, 0.0006, 0.0006, 0.0006, 0.0006, 0.0006, 0.0006, 0.0006, 0.0006, 0.0006, 0.0006, 0.0006, 0.0006, 0.0006, 0.0006, 0.0006, 0.0006, 0.0006, 0.0006, 0.0006, 0.0006, 0.0006, 0.0006, 0.0006, 0.0006, 0.0006, 0.0006, 0.0006, 0.0006, 0.0006, 0.0006, 0.0006, 0.0005, 0.0005, 0.0005, 0.0005, 0.0005, 0.0005, 0.0005, 0.0005, 0.0005, 0.0005, 0.0005, 0.0005, 0.0005, 0.0005, 0.0005, 0.0005, 0.0005, 0.0005, 0.0005, 0.0005, 0.0005, 0.0005, 0.0005, 0.0005, 0.0005, 0.0005, 0.0005, 0.0005, 0.0005, 0.0005, 0.0005, 0.0005, 0.0005, 0.0005, 0.0005, 0.0005, 0.0005, 0.0005, 0.0005, 0.0005, 0.0005, 0.0005, 0.0005, 0.0005, 0.0005, 0.0005, 0.0005, 0.0004, 0.0004, 0.0004, 0.0004, 0.0004, 0.0004, 0.0004, 0.0004, 0.0004, 0.0004, 0.0004, 0.0004, 0.0004, 0.0004, 0.0004, 0.0004, 0.0004, 0.0004, 0.0004, 0.0004, 0.0004, 0.0004, 0.0004, 0.0004, 0.0004, 0.0004, 0.0004, 0.0004, 0.0004, 0.0004, 0.0004, 0.0004, 0.0004, 0.0004, 0.0004, 0.0004, 0.0004, 0.0004, 0.0004, 0.0004, 0.0004, 0.0004, 0.0004, 0.0004, 0.0004, 0.0003, 0.0003, 0.0003, 0.0003, 0.0003, 0.0003, 0.0003, 0.0003, 0.0003, 0.0003, 0.0003, 0.0003, 0.0003, 0.0003, 0.0003, 0.0003, 0.0003, 0.0003, 0.0003, 0.0003, 0.0003, 0.0003, 0.0003, 0.0003, 0.0003, 0.0003, 0.0003, 0.0003, 0.0003, 0.0003, 0.0003, 0.0003, 0.0003, 0.0003, 0.0003, 0.0003, 0.0003, 0.0003, 0.0003, 0.0003, 0.0003, 0.0003, 0.0003, 0.0003, 0.0002, 0.0002, 0.0002, 0.0002, 0.0002, 0.0002, 0.0002, 0.0002, 0.0002, 0.0002, 0.0002, 0.0002, 0.0002, 0.0002, 0.0002, 0.0002, 0.0002, 0.0002, 0.0002, 0.0002, 0.0002, 0.0002, 0.0002, 0.0002, 0.0002, 0.0002, 0.0002, 0.0002, 0.0002, 0.0002, 0.0002, 0.0002, 0.0002, 0.0001, 0.0001, 0.0001, 0.0001, 0.0001, 0.0001, 0.0001]\n"
     ]
    }
   ],
   "source": [
    "# converting weight500 elements from strings to floats\n",
    "weight500 = list(np.float_(weight500))\n",
    "\n",
    "# dividing all weights by 100\n",
    "weight500[:] = [x / 100 for x in weight500]\n",
    "\n",
    "# round all weights to four decimal places\n",
    "weight500[:] = [round(num, 4) for num in weight500]\n",
    "\n",
    "# weights cannot equal zero\n",
    "if any(i == 0.0000 for i in weight500):\n",
    "    print(\"Fail\")\n",
    "else:\n",
    "    print(\"Pass\")\n",
    "\n",
    "print(weight500)"
   ]
  },
  {
   "cell_type": "markdown",
   "id": "778f51c0",
   "metadata": {},
   "source": [
    "#### Checking Lengths of Datasets"
   ]
  },
  {
   "cell_type": "markdown",
   "id": "f37f5f80",
   "metadata": {},
   "source": [
    "Weights will correspond to a stock ticker of the same index. Ensuring that the two lists have the same length ensures that there aren't any missing elements and that the weights correspond to the right ticker. We observe that the S&P500 does not have exactly 500 tickers. This is because some companies have multiple classes of shares with large market capitalizations. For example, Alphabet (holding company of Google) lists both `GOOG` and `GOOGL`."
   ]
  },
  {
   "cell_type": "code",
   "execution_count": 9,
   "id": "d07e8947",
   "metadata": {},
   "outputs": [
    {
     "data": {
      "text/plain": [
       "(504, 504)"
      ]
     },
     "execution_count": 9,
     "metadata": {},
     "output_type": "execute_result"
    }
   ],
   "source": [
    "numTickers = len(SP500)\n",
    "numWeights = len(weight500)\n",
    "\n",
    "(numTickers, numWeights)"
   ]
  },
  {
   "cell_type": "markdown",
   "id": "0a1fd3e4",
   "metadata": {},
   "source": [
    "\n",
    "\n",
    "\n"
   ]
  },
  {
   "cell_type": "markdown",
   "id": "c5452d75",
   "metadata": {},
   "source": [
    "\n",
    "\n",
    "\n"
   ]
  },
  {
   "cell_type": "markdown",
   "id": "4d15657d",
   "metadata": {},
   "source": [
    "\n",
    "\n",
    "\n"
   ]
  },
  {
   "cell_type": "markdown",
   "id": "bc8428c4",
   "metadata": {},
   "source": [
    "# II. Screening Stocks"
   ]
  },
  {
   "cell_type": "markdown",
   "id": "25f816f9",
   "metadata": {},
   "source": [
    "#### Importing Dependencies"
   ]
  },
  {
   "cell_type": "code",
   "execution_count": 10,
   "id": "240f640e",
   "metadata": {},
   "outputs": [],
   "source": [
    "import time\n",
    "import os\n",
    "import pandas as pd\n",
    "import pickle as pkl"
   ]
  },
  {
   "cell_type": "markdown",
   "id": "c9142963",
   "metadata": {},
   "source": [
    "#### Ameritrade API"
   ]
  },
  {
   "cell_type": "markdown",
   "id": "8fcfb627",
   "metadata": {},
   "source": [
    "Ameritrade's API provides free stock data for almost all publicly traded stocks in the United States. As API keys are confidential, my Ameritrade API key was stored within a `keys.py` file. "
   ]
  },
  {
   "cell_type": "code",
   "execution_count": 11,
   "id": "8de57762",
   "metadata": {},
   "outputs": [],
   "source": [
    "from keys import ameritrade\n",
    "url = 'https://api.tdameritrade.com/v1/instruments'"
   ]
  },
  {
   "cell_type": "code",
   "execution_count": 12,
   "id": "89dd4bbf",
   "metadata": {},
   "outputs": [],
   "source": [
    "def getMetrics(tickers):\n",
    "    \n",
    "    # ameritrade has limits on how many requests at a time\n",
    "    start = 0\n",
    "    end = 500\n",
    "    \n",
    "    while start < len(tickers):\n",
    "        tickers = tickers[start:end]\n",
    "    \n",
    "        # api\n",
    "        payload = {'apikey':ameritrade,\n",
    "                   'symbol': tickers,\n",
    "                   'projection':'fundamental'}\n",
    "\n",
    "        results = requests.get(url,params=payload)\n",
    "        data = results.json()\n",
    "\n",
    "        # file\n",
    "        name = 'temp' + '.pkL'\n",
    "\n",
    "        files = []\n",
    "        files.append(name)\n",
    "\n",
    "        with open(name, 'wb') as file:\n",
    "                pkl.dump(data, file)\n",
    "            \n",
    "        start = end\n",
    "        end += 500\n",
    "\n",
    "        time.sleep(1)\n",
    "    \n",
    "    \n",
    "    #\n",
    "    StockData = []\n",
    "\n",
    "    for file in files:\n",
    "        with open(file, 'rb') as f:\n",
    "            info = pkl.load(f)\n",
    "\n",
    "        tickers = list(info)\n",
    "        metrics = ['symbol', 'peRatio', 'pegRatio', 'returnOnEquity', 'returnOnEquity']\n",
    "\n",
    "        for ticker in tickers:\n",
    "            row = []\n",
    "\n",
    "            for metric in metrics:\n",
    "                row.append(info[ticker]['fundamental'][metric])\n",
    "\n",
    "            StockData.append(row)\n",
    "\n",
    "        os.remove(file)\n",
    "    \n",
    "    # dataframe\n",
    "    Titles = ['Ticker', 'Price to Earnings Ratio', 'Price to Earnings Growth', 'Return on Equity', 'Earnings Per Share Growth']\n",
    "    df = pd.DataFrame(StockData, columns=Titles)\n",
    "\n",
    "    return df        "
   ]
  },
  {
   "cell_type": "markdown",
   "id": "a26def4e",
   "metadata": {},
   "source": [
    "#### Stock Metrics Dataframe"
   ]
  },
  {
   "cell_type": "markdown",
   "id": "093a4a73",
   "metadata": {},
   "source": [
    "Notice that there are 493 stocks listed in the dataframe, rather than the 504 stocks listed in the list `SP500`. This indicates that we were not able to find information for 11 stocks."
   ]
  },
  {
   "cell_type": "code",
   "execution_count": 13,
   "id": "e123f4ff",
   "metadata": {},
   "outputs": [
    {
     "data": {
      "text/html": [
       "<div>\n",
       "<style scoped>\n",
       "    .dataframe tbody tr th:only-of-type {\n",
       "        vertical-align: middle;\n",
       "    }\n",
       "\n",
       "    .dataframe tbody tr th {\n",
       "        vertical-align: top;\n",
       "    }\n",
       "\n",
       "    .dataframe thead th {\n",
       "        text-align: right;\n",
       "    }\n",
       "</style>\n",
       "<table border=\"1\" class=\"dataframe\">\n",
       "  <thead>\n",
       "    <tr style=\"text-align: right;\">\n",
       "      <th></th>\n",
       "      <th>Ticker</th>\n",
       "      <th>Price to Earnings Ratio</th>\n",
       "      <th>Price to Earnings Growth</th>\n",
       "      <th>Return on Equity</th>\n",
       "      <th>Earnings Per Share Growth</th>\n",
       "    </tr>\n",
       "  </thead>\n",
       "  <tbody>\n",
       "    <tr>\n",
       "      <th>0</th>\n",
       "      <td>TER</td>\n",
       "      <td>21.16302</td>\n",
       "      <td>0.000000</td>\n",
       "      <td>34.92339</td>\n",
       "      <td>34.92339</td>\n",
       "    </tr>\n",
       "    <tr>\n",
       "      <th>1</th>\n",
       "      <td>IPG</td>\n",
       "      <td>12.08989</td>\n",
       "      <td>0.386043</td>\n",
       "      <td>30.36495</td>\n",
       "      <td>30.36495</td>\n",
       "    </tr>\n",
       "    <tr>\n",
       "      <th>2</th>\n",
       "      <td>LVS</td>\n",
       "      <td>0.00000</td>\n",
       "      <td>0.000000</td>\n",
       "      <td>0.00000</td>\n",
       "      <td>0.00000</td>\n",
       "    </tr>\n",
       "    <tr>\n",
       "      <th>3</th>\n",
       "      <td>WYNN</td>\n",
       "      <td>0.00000</td>\n",
       "      <td>0.000000</td>\n",
       "      <td>0.00000</td>\n",
       "      <td>0.00000</td>\n",
       "    </tr>\n",
       "    <tr>\n",
       "      <th>4</th>\n",
       "      <td>TFC</td>\n",
       "      <td>11.60927</td>\n",
       "      <td>0.758927</td>\n",
       "      <td>10.03857</td>\n",
       "      <td>10.03857</td>\n",
       "    </tr>\n",
       "    <tr>\n",
       "      <th>...</th>\n",
       "      <td>...</td>\n",
       "      <td>...</td>\n",
       "      <td>...</td>\n",
       "      <td>...</td>\n",
       "      <td>...</td>\n",
       "    </tr>\n",
       "    <tr>\n",
       "      <th>488</th>\n",
       "      <td>GRMN</td>\n",
       "      <td>18.80439</td>\n",
       "      <td>0.000000</td>\n",
       "      <td>17.72269</td>\n",
       "      <td>17.72269</td>\n",
       "    </tr>\n",
       "    <tr>\n",
       "      <th>489</th>\n",
       "      <td>CCL</td>\n",
       "      <td>0.00000</td>\n",
       "      <td>0.000000</td>\n",
       "      <td>0.00000</td>\n",
       "      <td>0.00000</td>\n",
       "    </tr>\n",
       "    <tr>\n",
       "      <th>490</th>\n",
       "      <td>FIS</td>\n",
       "      <td>73.77180</td>\n",
       "      <td>0.085347</td>\n",
       "      <td>1.78297</td>\n",
       "      <td>1.78297</td>\n",
       "    </tr>\n",
       "    <tr>\n",
       "      <th>491</th>\n",
       "      <td>BAX</td>\n",
       "      <td>30.74888</td>\n",
       "      <td>0.000000</td>\n",
       "      <td>11.65216</td>\n",
       "      <td>11.65216</td>\n",
       "    </tr>\n",
       "    <tr>\n",
       "      <th>492</th>\n",
       "      <td>TEL</td>\n",
       "      <td>17.79186</td>\n",
       "      <td>0.351890</td>\n",
       "      <td>24.54102</td>\n",
       "      <td>24.54102</td>\n",
       "    </tr>\n",
       "  </tbody>\n",
       "</table>\n",
       "<p>493 rows × 5 columns</p>\n",
       "</div>"
      ],
      "text/plain": [
       "    Ticker  Price to Earnings Ratio  Price to Earnings Growth  \\\n",
       "0      TER                 21.16302                  0.000000   \n",
       "1      IPG                 12.08989                  0.386043   \n",
       "2      LVS                  0.00000                  0.000000   \n",
       "3     WYNN                  0.00000                  0.000000   \n",
       "4      TFC                 11.60927                  0.758927   \n",
       "..     ...                      ...                       ...   \n",
       "488   GRMN                 18.80439                  0.000000   \n",
       "489    CCL                  0.00000                  0.000000   \n",
       "490    FIS                 73.77180                  0.085347   \n",
       "491    BAX                 30.74888                  0.000000   \n",
       "492    TEL                 17.79186                  0.351890   \n",
       "\n",
       "     Return on Equity  Earnings Per Share Growth  \n",
       "0            34.92339                   34.92339  \n",
       "1            30.36495                   30.36495  \n",
       "2             0.00000                    0.00000  \n",
       "3             0.00000                    0.00000  \n",
       "4            10.03857                   10.03857  \n",
       "..                ...                        ...  \n",
       "488          17.72269                   17.72269  \n",
       "489           0.00000                    0.00000  \n",
       "490           1.78297                    1.78297  \n",
       "491          11.65216                   11.65216  \n",
       "492          24.54102                   24.54102  \n",
       "\n",
       "[493 rows x 5 columns]"
      ]
     },
     "execution_count": 13,
     "metadata": {},
     "output_type": "execute_result"
    }
   ],
   "source": [
    "metrics500 = getMetrics(tickers=SP500)\n",
    "metrics500"
   ]
  },
  {
   "cell_type": "markdown",
   "id": "09390864",
   "metadata": {},
   "source": [
    "#### Screening Stocks"
   ]
  },
  {
   "cell_type": "markdown",
   "id": "468e61eb",
   "metadata": {},
   "source": [
    "The proccess of screening stocks varies from person to person. There are a large number of factor models, stock metrics, and alternative data sources that can be taken into account whilst screening stocks. This project considered each stock's `Price to Earnings Ratio`, `Growth in Price to Earnings Ratio`, `Return of Equity`, and `Earnings per Share Growth`. "
   ]
  },
  {
   "cell_type": "code",
   "execution_count": 14,
   "id": "5805df76",
   "metadata": {},
   "outputs": [
    {
     "data": {
      "text/html": [
       "<div>\n",
       "<style scoped>\n",
       "    .dataframe tbody tr th:only-of-type {\n",
       "        vertical-align: middle;\n",
       "    }\n",
       "\n",
       "    .dataframe tbody tr th {\n",
       "        vertical-align: top;\n",
       "    }\n",
       "\n",
       "    .dataframe thead th {\n",
       "        text-align: right;\n",
       "    }\n",
       "</style>\n",
       "<table border=\"1\" class=\"dataframe\">\n",
       "  <thead>\n",
       "    <tr style=\"text-align: right;\">\n",
       "      <th></th>\n",
       "      <th>Ticker</th>\n",
       "      <th>Price to Earnings Ratio</th>\n",
       "      <th>Price to Earnings Growth</th>\n",
       "      <th>Return on Equity</th>\n",
       "      <th>Earnings Per Share Growth</th>\n",
       "    </tr>\n",
       "  </thead>\n",
       "  <tbody>\n",
       "    <tr>\n",
       "      <th>54</th>\n",
       "      <td>V</td>\n",
       "      <td>32.92148</td>\n",
       "      <td>0.910284</td>\n",
       "      <td>42.42532</td>\n",
       "      <td>42.42532</td>\n",
       "    </tr>\n",
       "    <tr>\n",
       "      <th>61</th>\n",
       "      <td>NVDA</td>\n",
       "      <td>49.20008</td>\n",
       "      <td>0.641749</td>\n",
       "      <td>41.95237</td>\n",
       "      <td>41.95237</td>\n",
       "    </tr>\n",
       "    <tr>\n",
       "      <th>173</th>\n",
       "      <td>IT</td>\n",
       "      <td>35.44394</td>\n",
       "      <td>0.970420</td>\n",
       "      <td>382.39060</td>\n",
       "      <td>382.39060</td>\n",
       "    </tr>\n",
       "    <tr>\n",
       "      <th>240</th>\n",
       "      <td>MA</td>\n",
       "      <td>36.00521</td>\n",
       "      <td>0.971600</td>\n",
       "      <td>153.79370</td>\n",
       "      <td>153.79370</td>\n",
       "    </tr>\n",
       "    <tr>\n",
       "      <th>324</th>\n",
       "      <td>VRSK</td>\n",
       "      <td>31.41290</td>\n",
       "      <td>0.563459</td>\n",
       "      <td>41.01540</td>\n",
       "      <td>41.01540</td>\n",
       "    </tr>\n",
       "  </tbody>\n",
       "</table>\n",
       "</div>"
      ],
      "text/plain": [
       "    Ticker  Price to Earnings Ratio  Price to Earnings Growth  \\\n",
       "54       V                 32.92148                  0.910284   \n",
       "61    NVDA                 49.20008                  0.641749   \n",
       "173     IT                 35.44394                  0.970420   \n",
       "240     MA                 36.00521                  0.971600   \n",
       "324   VRSK                 31.41290                  0.563459   \n",
       "\n",
       "     Return on Equity  Earnings Per Share Growth  \n",
       "54           42.42532                   42.42532  \n",
       "61           41.95237                   41.95237  \n",
       "173         382.39060                  382.39060  \n",
       "240         153.79370                  153.79370  \n",
       "324          41.01540                   41.01540  "
      ]
     },
     "execution_count": 14,
     "metadata": {},
     "output_type": "execute_result"
    }
   ],
   "source": [
    "screen = metrics500[\n",
    "    \n",
    "    # P/E over 30\n",
    "    (metrics500['Price to Earnings Ratio'] > 30)\n",
    "    \n",
    "    # P/E Growth over 0.4 but less than 1.0\n",
    "    & (metrics500['Price to Earnings Growth'] < 1 & (metrics500['Price to Earnings Growth'] > 0.4) \n",
    "     \n",
    "    # RoE\n",
    "    & (metrics500['Return on Equity'] > 20) \n",
    "     \n",
    "    # epsGrowth  \n",
    "     & (metrics500['Earnings Per Share Growth'] > 40))\n",
    "]\n",
    "\n",
    "screen"
   ]
  },
  {
   "cell_type": "markdown",
   "id": "8bffeb18",
   "metadata": {},
   "source": [
    "###### List of Top Stocks and Corresponding Weights"
   ]
  },
  {
   "cell_type": "code",
   "execution_count": 15,
   "id": "034a9e10",
   "metadata": {},
   "outputs": [
    {
     "data": {
      "text/plain": [
       "(   Index Ticker  Weight\n",
       " 0     13      V  0.0092\n",
       " 1      7   NVDA  0.0186\n",
       " 2    285     IT  0.0007\n",
       " 3     18     MA  0.0076\n",
       " 4    235   VRSK  0.0009,\n",
       " ['V', 'NVDA', 'IT', 'MA', 'VRSK'])"
      ]
     },
     "execution_count": 15,
     "metadata": {},
     "output_type": "execute_result"
    }
   ],
   "source": [
    "portfolio = screen.Ticker.values.tolist()\n",
    "\n",
    "hold = []\n",
    "\n",
    "for top in portfolio:\n",
    "    index = SP500.index(top)\n",
    "    weight = weight500[index]\n",
    "    \n",
    "    hold.append([index, top ,weight])\n",
    "\n",
    "\n",
    "top5 = pd.DataFrame(hold)\n",
    "top5.columns =['Index', 'Ticker', 'Weight']\n",
    "\n",
    "top5, portfolio"
   ]
  },
  {
   "cell_type": "markdown",
   "id": "772116e5",
   "metadata": {},
   "source": [
    "#### Adjusting Stock Weights"
   ]
  },
  {
   "cell_type": "markdown",
   "id": "c783898b",
   "metadata": {},
   "source": [
    "The weight in `weight500`are these stock's weights with respect to the S&P500. The sum of stock weights needs to equal 100% and therefore, the formula below was used. "
   ]
  },
  {
   "cell_type": "markdown",
   "id": "e943308c",
   "metadata": {},
   "source": [
    "$$Adjusted \\; Weight = \\frac{Weight}{\\sum Weights} \\times 100 $$ "
   ]
  },
  {
   "cell_type": "code",
   "execution_count": 16,
   "id": "89f8139b",
   "metadata": {},
   "outputs": [
    {
     "data": {
      "text/plain": [
       "0.037"
      ]
     },
     "execution_count": 16,
     "metadata": {},
     "output_type": "execute_result"
    }
   ],
   "source": [
    "sumWeights = top5.Weight.values.tolist()\n",
    "sum(sumWeights)"
   ]
  },
  {
   "cell_type": "code",
   "execution_count": 17,
   "id": "f7e3e832",
   "metadata": {},
   "outputs": [
    {
     "data": {
      "text/html": [
       "<div>\n",
       "<style scoped>\n",
       "    .dataframe tbody tr th:only-of-type {\n",
       "        vertical-align: middle;\n",
       "    }\n",
       "\n",
       "    .dataframe tbody tr th {\n",
       "        vertical-align: top;\n",
       "    }\n",
       "\n",
       "    .dataframe thead th {\n",
       "        text-align: right;\n",
       "    }\n",
       "</style>\n",
       "<table border=\"1\" class=\"dataframe\">\n",
       "  <thead>\n",
       "    <tr style=\"text-align: right;\">\n",
       "      <th></th>\n",
       "      <th>Index</th>\n",
       "      <th>Ticker</th>\n",
       "      <th>AdjustedWeight</th>\n",
       "    </tr>\n",
       "  </thead>\n",
       "  <tbody>\n",
       "    <tr>\n",
       "      <th>0</th>\n",
       "      <td>13</td>\n",
       "      <td>V</td>\n",
       "      <td>24.864865</td>\n",
       "    </tr>\n",
       "    <tr>\n",
       "      <th>1</th>\n",
       "      <td>7</td>\n",
       "      <td>NVDA</td>\n",
       "      <td>50.270270</td>\n",
       "    </tr>\n",
       "    <tr>\n",
       "      <th>2</th>\n",
       "      <td>285</td>\n",
       "      <td>IT</td>\n",
       "      <td>1.891892</td>\n",
       "    </tr>\n",
       "    <tr>\n",
       "      <th>3</th>\n",
       "      <td>18</td>\n",
       "      <td>MA</td>\n",
       "      <td>20.540541</td>\n",
       "    </tr>\n",
       "    <tr>\n",
       "      <th>4</th>\n",
       "      <td>235</td>\n",
       "      <td>VRSK</td>\n",
       "      <td>2.432432</td>\n",
       "    </tr>\n",
       "  </tbody>\n",
       "</table>\n",
       "</div>"
      ],
      "text/plain": [
       "   Index Ticker  AdjustedWeight\n",
       "0     13      V       24.864865\n",
       "1      7   NVDA       50.270270\n",
       "2    285     IT        1.891892\n",
       "3     18     MA       20.540541\n",
       "4    235   VRSK        2.432432"
      ]
     },
     "execution_count": 17,
     "metadata": {},
     "output_type": "execute_result"
    }
   ],
   "source": [
    "hold = []\n",
    "\n",
    "for top in portfolio:\n",
    "    index = SP500.index(top)\n",
    "    adjWeight = (weight500[index] / 0.037) * 100 \n",
    "    \n",
    "    hold.append([index, top , adjWeight])\n",
    "\n",
    "\n",
    "top5 = pd.DataFrame(hold)\n",
    "top5.columns =['Index', 'Ticker', 'AdjustedWeight']\n",
    "\n",
    "top5"
   ]
  },
  {
   "cell_type": "code",
   "execution_count": 18,
   "id": "e1781957",
   "metadata": {},
   "outputs": [
    {
     "data": {
      "text/plain": [
       "99.99999999999999"
      ]
     },
     "execution_count": 18,
     "metadata": {},
     "output_type": "execute_result"
    }
   ],
   "source": [
    "adjWeights = top5.AdjustedWeight.values.tolist()\n",
    "weight500[:] = [round(num, 4) for num in weight500]\n",
    "\n",
    "sum(adjWeights)"
   ]
  },
  {
   "cell_type": "markdown",
   "id": "23149288",
   "metadata": {},
   "source": [
    "\n",
    "\n"
   ]
  },
  {
   "cell_type": "markdown",
   "id": "4c3be91d",
   "metadata": {},
   "source": [
    "\n",
    "\n"
   ]
  },
  {
   "cell_type": "markdown",
   "id": "66c3de41",
   "metadata": {},
   "source": [
    "\n",
    "\n"
   ]
  },
  {
   "cell_type": "markdown",
   "id": "74780fad",
   "metadata": {},
   "source": [
    "# III. Portfolio Optimization (Data Collection)"
   ]
  },
  {
   "cell_type": "markdown",
   "id": "21c2b7f9",
   "metadata": {},
   "source": [
    "#### Importing Dependencies"
   ]
  },
  {
   "cell_type": "code",
   "execution_count": 19,
   "id": "744f8417",
   "metadata": {},
   "outputs": [],
   "source": [
    "import datetime as dt\n",
    "from pandas_datareader import data as web\n",
    "import matplotlib.pyplot as plt"
   ]
  },
  {
   "cell_type": "markdown",
   "id": "50d55df1",
   "metadata": {},
   "source": [
    "#### Portfolio Tickers and Initial Weights"
   ]
  },
  {
   "cell_type": "code",
   "execution_count": 20,
   "id": "b87d0136",
   "metadata": {},
   "outputs": [
    {
     "data": {
      "text/plain": [
       "(['V', 'NVDA', 'IT', 'MA', 'VRSK'],\n",
       " array([0.24864865, 0.5027027 , 0.01891892, 0.20540541, 0.02432432]),\n",
       " array([0.2, 0.2, 0.2, 0.2, 0.2]))"
      ]
     },
     "execution_count": 20,
     "metadata": {},
     "output_type": "execute_result"
    }
   ],
   "source": [
    "EqualWeights = np.array([0.2, 0.2, 0.2, 0.2, 0.2])\n",
    "\n",
    "adjWeights = list(np.float_(adjWeights))\n",
    "adjWeights[:] = [x / 100 for x in adjWeights]\n",
    "adjWeights = np.array(adjWeights)\n",
    "\n",
    "portfolio, adjWeights, EqualWeights"
   ]
  },
  {
   "cell_type": "markdown",
   "id": "f33244ee",
   "metadata": {},
   "source": [
    "#### Historical Pricing Data"
   ]
  },
  {
   "cell_type": "code",
   "execution_count": 21,
   "id": "e35d07c3",
   "metadata": {},
   "outputs": [
    {
     "data": {
      "text/plain": [
       "'2022-08-18'"
      ]
     },
     "execution_count": 21,
     "metadata": {},
     "output_type": "execute_result"
    }
   ],
   "source": [
    "startDate = '2015-01-01'\n",
    "todayDate = dt.datetime.today().strftime('%Y-%m-%d')\n",
    "\n",
    "todayDate"
   ]
  },
  {
   "cell_type": "markdown",
   "id": "968d227b",
   "metadata": {},
   "source": [
    "#### Stock Close Prices"
   ]
  },
  {
   "cell_type": "markdown",
   "id": "6bc4d9c2",
   "metadata": {},
   "source": [
    "A stock's closing price is the last price anyone paid for a share of that stock during the business hours of the exchange where the stock is listed. It's often used by investors to compare a stock's day-to-day performance (they are typically used in the line graphs depicting a stock's performance). The adjusted closing price of a stock factors in anything that could affect the stock's price after the market closes. "
   ]
  },
  {
   "cell_type": "code",
   "execution_count": 22,
   "id": "12f4f752",
   "metadata": {},
   "outputs": [
    {
     "data": {
      "text/html": [
       "<div>\n",
       "<style scoped>\n",
       "    .dataframe tbody tr th:only-of-type {\n",
       "        vertical-align: middle;\n",
       "    }\n",
       "\n",
       "    .dataframe tbody tr th {\n",
       "        vertical-align: top;\n",
       "    }\n",
       "\n",
       "    .dataframe thead th {\n",
       "        text-align: right;\n",
       "    }\n",
       "</style>\n",
       "<table border=\"1\" class=\"dataframe\">\n",
       "  <thead>\n",
       "    <tr style=\"text-align: right;\">\n",
       "      <th>Symbols</th>\n",
       "      <th>V</th>\n",
       "      <th>NVDA</th>\n",
       "      <th>IT</th>\n",
       "      <th>MA</th>\n",
       "      <th>VRSK</th>\n",
       "    </tr>\n",
       "    <tr>\n",
       "      <th>Date</th>\n",
       "      <th></th>\n",
       "      <th></th>\n",
       "      <th></th>\n",
       "      <th></th>\n",
       "      <th></th>\n",
       "    </tr>\n",
       "  </thead>\n",
       "  <tbody>\n",
       "    <tr>\n",
       "      <th>2015-01-02</th>\n",
       "      <td>62.883408</td>\n",
       "      <td>4.837623</td>\n",
       "      <td>83.599998</td>\n",
       "      <td>81.657913</td>\n",
       "      <td>62.517605</td>\n",
       "    </tr>\n",
       "    <tr>\n",
       "      <th>2015-01-05</th>\n",
       "      <td>61.495354</td>\n",
       "      <td>4.755915</td>\n",
       "      <td>82.099998</td>\n",
       "      <td>79.361031</td>\n",
       "      <td>61.706451</td>\n",
       "    </tr>\n",
       "    <tr>\n",
       "      <th>2015-01-06</th>\n",
       "      <td>61.099083</td>\n",
       "      <td>4.611724</td>\n",
       "      <td>81.349998</td>\n",
       "      <td>79.189453</td>\n",
       "      <td>61.491444</td>\n",
       "    </tr>\n",
       "    <tr>\n",
       "      <th>2015-01-07</th>\n",
       "      <td>61.917698</td>\n",
       "      <td>4.599708</td>\n",
       "      <td>82.599998</td>\n",
       "      <td>80.421310</td>\n",
       "      <td>61.530548</td>\n",
       "    </tr>\n",
       "    <tr>\n",
       "      <th>2015-01-08</th>\n",
       "      <td>62.748173</td>\n",
       "      <td>4.772738</td>\n",
       "      <td>83.430000</td>\n",
       "      <td>81.672203</td>\n",
       "      <td>62.146240</td>\n",
       "    </tr>\n",
       "  </tbody>\n",
       "</table>\n",
       "</div>"
      ],
      "text/plain": [
       "Symbols             V      NVDA         IT         MA       VRSK\n",
       "Date                                                            \n",
       "2015-01-02  62.883408  4.837623  83.599998  81.657913  62.517605\n",
       "2015-01-05  61.495354  4.755915  82.099998  79.361031  61.706451\n",
       "2015-01-06  61.099083  4.611724  81.349998  79.189453  61.491444\n",
       "2015-01-07  61.917698  4.599708  82.599998  80.421310  61.530548\n",
       "2015-01-08  62.748173  4.772738  83.430000  81.672203  62.146240"
      ]
     },
     "execution_count": 22,
     "metadata": {},
     "output_type": "execute_result"
    }
   ],
   "source": [
    "adjClose = web.get_data_yahoo(portfolio, start=startDate, end=todayDate)\n",
    "adjClose = adjClose['Adj Close']\n",
    "\n",
    "adjClose.head()"
   ]
  },
  {
   "cell_type": "code",
   "execution_count": 23,
   "id": "154cea1e",
   "metadata": {},
   "outputs": [
    {
     "data": {
      "image/png": "[encoded data removed]",
      "text/plain": [
       "<Figure size 1080x360 with 1 Axes>"
      ]
     },
     "metadata": {
      "needs_background": "light"
     },
     "output_type": "display_data"
    }
   ],
   "source": [
    "plt.style.use('fivethirtyeight')\n",
    "plt.figure(figsize=(15, 5))\n",
    "\n",
    "stocks = adjClose\n",
    "\n",
    "for x in stocks.columns.values:\n",
    "  plt.plot(stocks[x],label=x)\n",
    "\n",
    "title = 'Adjusted Close Price History of Portfolio Stocks'\n",
    "\n",
    "plt.title(title, fontsize=30)\n",
    "plt.xlabel('Date',fontsize=24)\n",
    "plt.ylabel('Adjusted Closing Price ($)',fontsize=24)\n",
    "plt.legend(stocks.columns.values,loc='upper left', fontsize=12)\n",
    "plt.show()"
   ]
  },
  {
   "cell_type": "markdown",
   "id": "df0449fc",
   "metadata": {},
   "source": [
    "#### Logarithmic Returns"
   ]
  },
  {
   "cell_type": "markdown",
   "id": "cf48e8da",
   "metadata": {},
   "source": [
    "xxx"
   ]
  },
  {
   "cell_type": "code",
   "execution_count": 24,
   "id": "aaabaa0d",
   "metadata": {},
   "outputs": [
    {
     "data": {
      "text/html": [
       "<div>\n",
       "<style scoped>\n",
       "    .dataframe tbody tr th:only-of-type {\n",
       "        vertical-align: middle;\n",
       "    }\n",
       "\n",
       "    .dataframe tbody tr th {\n",
       "        vertical-align: top;\n",
       "    }\n",
       "\n",
       "    .dataframe thead th {\n",
       "        text-align: right;\n",
       "    }\n",
       "</style>\n",
       "<table border=\"1\" class=\"dataframe\">\n",
       "  <thead>\n",
       "    <tr style=\"text-align: right;\">\n",
       "      <th>Symbols</th>\n",
       "      <th>V</th>\n",
       "      <th>NVDA</th>\n",
       "      <th>IT</th>\n",
       "      <th>MA</th>\n",
       "      <th>VRSK</th>\n",
       "    </tr>\n",
       "    <tr>\n",
       "      <th>Date</th>\n",
       "      <th></th>\n",
       "      <th></th>\n",
       "      <th></th>\n",
       "      <th></th>\n",
       "      <th></th>\n",
       "    </tr>\n",
       "  </thead>\n",
       "  <tbody>\n",
       "    <tr>\n",
       "      <th>2015-01-02</th>\n",
       "      <td>NaN</td>\n",
       "      <td>NaN</td>\n",
       "      <td>NaN</td>\n",
       "      <td>NaN</td>\n",
       "      <td>NaN</td>\n",
       "    </tr>\n",
       "    <tr>\n",
       "      <th>2015-01-05</th>\n",
       "      <td>-0.022321</td>\n",
       "      <td>-0.017034</td>\n",
       "      <td>-0.018106</td>\n",
       "      <td>-0.028531</td>\n",
       "      <td>-0.013060</td>\n",
       "    </tr>\n",
       "    <tr>\n",
       "      <th>2015-01-06</th>\n",
       "      <td>-0.006465</td>\n",
       "      <td>-0.030787</td>\n",
       "      <td>-0.009177</td>\n",
       "      <td>-0.002164</td>\n",
       "      <td>-0.003490</td>\n",
       "    </tr>\n",
       "    <tr>\n",
       "      <th>2015-01-07</th>\n",
       "      <td>0.013309</td>\n",
       "      <td>-0.002609</td>\n",
       "      <td>0.015249</td>\n",
       "      <td>0.015436</td>\n",
       "      <td>0.000636</td>\n",
       "    </tr>\n",
       "    <tr>\n",
       "      <th>2015-01-08</th>\n",
       "      <td>0.013323</td>\n",
       "      <td>0.036927</td>\n",
       "      <td>0.009998</td>\n",
       "      <td>0.015435</td>\n",
       "      <td>0.009957</td>\n",
       "    </tr>\n",
       "  </tbody>\n",
       "</table>\n",
       "</div>"
      ],
      "text/plain": [
       "Symbols            V      NVDA        IT        MA      VRSK\n",
       "Date                                                        \n",
       "2015-01-02       NaN       NaN       NaN       NaN       NaN\n",
       "2015-01-05 -0.022321 -0.017034 -0.018106 -0.028531 -0.013060\n",
       "2015-01-06 -0.006465 -0.030787 -0.009177 -0.002164 -0.003490\n",
       "2015-01-07  0.013309 -0.002609  0.015249  0.015436  0.000636\n",
       "2015-01-08  0.013323  0.036927  0.009998  0.015435  0.009957"
      ]
     },
     "execution_count": 24,
     "metadata": {},
     "output_type": "execute_result"
    }
   ],
   "source": [
    "logReturns = np.log(adjClose/adjClose.shift(1))\n",
    "logReturns.head()"
   ]
  },
  {
   "cell_type": "markdown",
   "id": "a4267875",
   "metadata": {},
   "source": [
    "#### Mean Returns"
   ]
  },
  {
   "cell_type": "code",
   "execution_count": 25,
   "id": "977c0793",
   "metadata": {},
   "outputs": [
    {
     "data": {
      "text/plain": [
       "Symbols\n",
       "V       0.000637\n",
       "NVDA    0.001896\n",
       "IT      0.000689\n",
       "MA      0.000765\n",
       "VRSK    0.000616\n",
       "dtype: float64"
      ]
     },
     "execution_count": 25,
     "metadata": {},
     "output_type": "execute_result"
    }
   ],
   "source": [
    "meanReturns = logReturns.mean()\n",
    "meanReturns"
   ]
  },
  {
   "cell_type": "markdown",
   "id": "24717fb3",
   "metadata": {},
   "source": [
    "#### Covariance Matrix"
   ]
  },
  {
   "cell_type": "markdown",
   "id": "3ad5cc27",
   "metadata": {},
   "source": [
    "Covariance is a measure of the relationship between two or more variables. In finance, it is used to measure the relationship between two assets' returns. In practice, if there is a positive covariance, so the two stocks tend to move together. When one stock has a positive return, the other tends to have a positive return as well."
   ]
  },
  {
   "cell_type": "code",
   "execution_count": 26,
   "id": "6f204bca",
   "metadata": {},
   "outputs": [
    {
     "data": {
      "text/html": [
       "<div>\n",
       "<style scoped>\n",
       "    .dataframe tbody tr th:only-of-type {\n",
       "        vertical-align: middle;\n",
       "    }\n",
       "\n",
       "    .dataframe tbody tr th {\n",
       "        vertical-align: top;\n",
       "    }\n",
       "\n",
       "    .dataframe thead th {\n",
       "        text-align: right;\n",
       "    }\n",
       "</style>\n",
       "<table border=\"1\" class=\"dataframe\">\n",
       "  <thead>\n",
       "    <tr style=\"text-align: right;\">\n",
       "      <th>Symbols</th>\n",
       "      <th>V</th>\n",
       "      <th>NVDA</th>\n",
       "      <th>IT</th>\n",
       "      <th>MA</th>\n",
       "      <th>VRSK</th>\n",
       "    </tr>\n",
       "    <tr>\n",
       "      <th>Symbols</th>\n",
       "      <th></th>\n",
       "      <th></th>\n",
       "      <th></th>\n",
       "      <th></th>\n",
       "      <th></th>\n",
       "    </tr>\n",
       "  </thead>\n",
       "  <tbody>\n",
       "    <tr>\n",
       "      <th>V</th>\n",
       "      <td>0.000269</td>\n",
       "      <td>0.000251</td>\n",
       "      <td>0.000166</td>\n",
       "      <td>0.000266</td>\n",
       "      <td>0.000140</td>\n",
       "    </tr>\n",
       "    <tr>\n",
       "      <th>NVDA</th>\n",
       "      <td>0.000251</td>\n",
       "      <td>0.000882</td>\n",
       "      <td>0.000223</td>\n",
       "      <td>0.000282</td>\n",
       "      <td>0.000187</td>\n",
       "    </tr>\n",
       "    <tr>\n",
       "      <th>IT</th>\n",
       "      <td>0.000166</td>\n",
       "      <td>0.000223</td>\n",
       "      <td>0.000360</td>\n",
       "      <td>0.000183</td>\n",
       "      <td>0.000136</td>\n",
       "    </tr>\n",
       "    <tr>\n",
       "      <th>MA</th>\n",
       "      <td>0.000266</td>\n",
       "      <td>0.000282</td>\n",
       "      <td>0.000183</td>\n",
       "      <td>0.000324</td>\n",
       "      <td>0.000148</td>\n",
       "    </tr>\n",
       "    <tr>\n",
       "      <th>VRSK</th>\n",
       "      <td>0.000140</td>\n",
       "      <td>0.000187</td>\n",
       "      <td>0.000136</td>\n",
       "      <td>0.000148</td>\n",
       "      <td>0.000218</td>\n",
       "    </tr>\n",
       "  </tbody>\n",
       "</table>\n",
       "</div>"
      ],
      "text/plain": [
       "Symbols         V      NVDA        IT        MA      VRSK\n",
       "Symbols                                                  \n",
       "V        0.000269  0.000251  0.000166  0.000266  0.000140\n",
       "NVDA     0.000251  0.000882  0.000223  0.000282  0.000187\n",
       "IT       0.000166  0.000223  0.000360  0.000183  0.000136\n",
       "MA       0.000266  0.000282  0.000183  0.000324  0.000148\n",
       "VRSK     0.000140  0.000187  0.000136  0.000148  0.000218"
      ]
     },
     "execution_count": 26,
     "metadata": {},
     "output_type": "execute_result"
    }
   ],
   "source": [
    "covMatrix = logReturns.cov()\n",
    "covMatrix"
   ]
  },
  {
   "cell_type": "markdown",
   "id": "cc523fce",
   "metadata": {},
   "source": [
    "\n",
    "\n",
    "\n"
   ]
  },
  {
   "cell_type": "markdown",
   "id": "611935b2",
   "metadata": {},
   "source": [
    "\n",
    "\n",
    "\n"
   ]
  },
  {
   "cell_type": "markdown",
   "id": "82273605",
   "metadata": {},
   "source": [
    "\n",
    "\n",
    "\n"
   ]
  },
  {
   "cell_type": "markdown",
   "id": "1b4ce858",
   "metadata": {},
   "source": [
    "# IV. Portfolio Optimization (Functions and Efficient Frontier)"
   ]
  },
  {
   "cell_type": "markdown",
   "id": "86467593",
   "metadata": {},
   "source": [
    "#### Importing Dependencies"
   ]
  },
  {
   "cell_type": "code",
   "execution_count": 27,
   "id": "eedc729d",
   "metadata": {},
   "outputs": [],
   "source": [
    "from scipy.optimize import minimize"
   ]
  },
  {
   "cell_type": "markdown",
   "id": "1adac944",
   "metadata": {},
   "source": [
    "#### Generating Random Portfolios"
   ]
  },
  {
   "cell_type": "code",
   "execution_count": 28,
   "id": "40328974",
   "metadata": {},
   "outputs": [],
   "source": [
    "np.random.seed(42)\n",
    "num_ports = 6000\n",
    "all_weights = np.zeros((num_ports, len(adjClose.columns)))\n",
    "ret_arr = np.zeros(num_ports)\n",
    "vol_arr = np.zeros(num_ports)\n",
    "sharpe_arr = np.zeros(num_ports)\n",
    "\n",
    "for x in range(num_ports):\n",
    "    # Weights\n",
    "    weights = np.array(np.random.random(5))\n",
    "    weights = weights/np.sum(weights)\n",
    "    \n",
    "    # Save weights\n",
    "    all_weights[x,:] = weights\n",
    "    \n",
    "    # Expected return\n",
    "    ret_arr[x] = np.sum( (logReturns.mean() * weights * 252))\n",
    "    \n",
    "    # Expected volatility\n",
    "    vol_arr[x] = np.sqrt(np.dot(weights.T, np.dot(logReturns.cov()*252, weights)))\n",
    "    \n",
    "    # Sharpe Ratio\n",
    "    sharpe_arr[x] = ret_arr[x]/vol_arr[x]"
   ]
  },
  {
   "cell_type": "markdown",
   "id": "9701dc8b",
   "metadata": {},
   "source": [
    "#### Max Shapre Ratio from Random Portfolios"
   ]
  },
  {
   "cell_type": "code",
   "execution_count": 29,
   "id": "f757c654",
   "metadata": {},
   "outputs": [
    {
     "name": "stdout",
     "output_type": "stream",
     "text": [
      "Max SR: 1.0489878721305903\n",
      "Location: 4304\n"
     ]
    }
   ],
   "source": [
    "print('Max SR: {}'.format(sharpe_arr.max()))\n",
    "print('Location: {}'.format(sharpe_arr.argmax()))"
   ]
  },
  {
   "cell_type": "markdown",
   "id": "20c3e91d",
   "metadata": {},
   "source": [
    "#### title"
   ]
  },
  {
   "cell_type": "code",
   "execution_count": 30,
   "id": "8f7b3828",
   "metadata": {},
   "outputs": [
    {
     "name": "stdout",
     "output_type": "stream",
     "text": [
      "[0.32929617 0.31407276 0.01132636 0.19092092 0.15438379]\n"
     ]
    }
   ],
   "source": [
    "print(all_weights[1648,:])\n",
    "\n",
    "maxSR_return = ret_arr[sharpe_arr.argmax()]\n",
    "maxSR_vol = vol_arr[sharpe_arr.argmax()]"
   ]
  },
  {
   "cell_type": "code",
   "execution_count": 31,
   "id": "bac58b1c",
   "metadata": {},
   "outputs": [
    {
     "data": {
      "image/png": "[encoded data removed]",
      "text/plain": [
       "<Figure size 864x576 with 2 Axes>"
      ]
     },
     "metadata": {
      "needs_background": "light"
     },
     "output_type": "display_data"
    }
   ],
   "source": [
    "plt.figure(figsize=(12,8))\n",
    "plt.style.use('fivethirtyeight')\n",
    "plt.scatter(vol_arr, ret_arr, c=sharpe_arr, cmap='viridis')\n",
    "plt.colorbar(label='Sharpe Ratio')\n",
    "plt.xlabel('Volatility')\n",
    "plt.ylabel('Return')\n",
    "plt.scatter(maxSR_vol, maxSR_return,c='red', s=50) # red dot\n",
    "plt.show()"
   ]
  },
  {
   "cell_type": "markdown",
   "id": "24fd703a",
   "metadata": {},
   "source": [
    "#### title"
   ]
  },
  {
   "cell_type": "code",
   "execution_count": 32,
   "id": "3d381621",
   "metadata": {},
   "outputs": [],
   "source": [
    "def get_ret_vol_sr(weights):\n",
    "    weights = np.array(weights)\n",
    "    ret = np.sum(logReturns.mean() * weights) * 252\n",
    "    vol = np.sqrt(np.dot(weights.T, np.dot(logReturns.cov()*252, weights)))\n",
    "    sr = ret/vol\n",
    "    return np.array([ret, vol, sr])\n",
    "\n",
    "def neg_sharpe(weights):\n",
    "# the number 2 is the sharpe ratio index from the get_ret_vol_sr\n",
    "    return get_ret_vol_sr(weights)[2] * -1\n",
    "\n",
    "def check_sum(weights):\n",
    "    #return 0 if sum of the weights is 1\n",
    "    return np.sum(weights)-1"
   ]
  },
  {
   "cell_type": "markdown",
   "id": "5931f0fd",
   "metadata": {},
   "source": [
    "#### title"
   ]
  },
  {
   "cell_type": "code",
   "execution_count": 33,
   "id": "f0bdfddc",
   "metadata": {},
   "outputs": [],
   "source": [
    "cons = ({'type':'eq', 'fun':check_sum})\n",
    "bounds = ((0,1), (0,1), (0,1), (0,1), (0,1))\n",
    "init_guess = [0.2, 0.2, 0.2, 0.2, 0.2]"
   ]
  },
  {
   "cell_type": "code",
   "execution_count": 34,
   "id": "c7a59d4b",
   "metadata": {},
   "outputs": [
    {
     "name": "stdout",
     "output_type": "stream",
     "text": [
      "     fun: -1.0502346881303832\n",
      "     jac: array([ 3.85493189e-02, -5.71906567e-05, -2.10106373e-06,  2.66775489e-04,\n",
      "        6.60419464e-05])\n",
      " message: 'Optimization terminated successfully'\n",
      "    nfev: 54\n",
      "     nit: 9\n",
      "    njev: 9\n",
      "  status: 0\n",
      " success: True\n",
      "       x: array([0.        , 0.55391575, 0.10798712, 0.04779605, 0.29030109])\n"
     ]
    }
   ],
   "source": [
    "opt_results = minimize(neg_sharpe, init_guess,method='SLSQP', bounds=bounds, constraints=cons)\n",
    "print(opt_results)"
   ]
  },
  {
   "cell_type": "code",
   "execution_count": 35,
   "id": "c5f04049",
   "metadata": {},
   "outputs": [
    {
     "data": {
      "text/plain": [
       "array([0.33766117, 0.32151021, 1.05023469])"
      ]
     },
     "execution_count": 35,
     "metadata": {},
     "output_type": "execute_result"
    }
   ],
   "source": [
    "get_ret_vol_sr(opt_results.x)"
   ]
  },
  {
   "cell_type": "code",
   "execution_count": 36,
   "id": "ab294cab",
   "metadata": {},
   "outputs": [],
   "source": [
    "frontier_y = np.linspace(0.15,0.40,200)"
   ]
  },
  {
   "cell_type": "code",
   "execution_count": 37,
   "id": "056ca8d0",
   "metadata": {},
   "outputs": [],
   "source": [
    "def minimize_volatility(weights):\n",
    "    return get_ret_vol_sr(weights)[1]"
   ]
  },
  {
   "cell_type": "code",
   "execution_count": 38,
   "id": "258abc08",
   "metadata": {},
   "outputs": [],
   "source": [
    "frontier_x = []\n",
    "\n",
    "for possible_return in frontier_y:\n",
    "    cons = ({'type':'eq', 'fun':check_sum},\n",
    "            {'type':'eq', 'fun': lambda w: get_ret_vol_sr(w)[0] - possible_return})\n",
    "    \n",
    "    result = minimize(minimize_volatility,init_guess,method='SLSQP', bounds=bounds, constraints=cons)\n",
    "    frontier_x.append(result['fun'])"
   ]
  },
  {
   "cell_type": "code",
   "execution_count": 39,
   "id": "4cba3e02",
   "metadata": {},
   "outputs": [
    {
     "data": {
      "image/png": "[encoded data removed]",
      "text/plain": [
       "<Figure size 864x576 with 2 Axes>"
      ]
     },
     "metadata": {},
     "output_type": "display_data"
    }
   ],
   "source": [
    "plt.figure(figsize=(12,8))\n",
    "plt.style.use('fivethirtyeight')\n",
    "plt.scatter(vol_arr, ret_arr, c=sharpe_arr, cmap='viridis')\n",
    "plt.colorbar(label='Sharpe Ratio')\n",
    "plt.xlabel('Volatility')\n",
    "plt.ylabel('Return')\n",
    "plt.scatter(maxSR_vol, maxSR_return,c='red', s=100) # red dot\n",
    "plt.plot(frontier_x,frontier_y, 'r--', linewidth=3)\n",
    "plt.show()"
   ]
  }
 ],
 "metadata": {
  "kernelspec": {
   "display_name": "Python 3 (ipykernel)",
   "language": "python",
   "name": "python3"
  },
  "language_info": {
   "codemirror_mode": {
    "name": "ipython",
    "version": 3
   },
   "file_extension": ".py",
   "mimetype": "text/x-python",
   "name": "python",
   "nbconvert_exporter": "python",
   "pygments_lexer": "ipython3",
   "version": "3.10.5"
  }
 },
 "nbformat": 4,
 "nbformat_minor": 5
}
