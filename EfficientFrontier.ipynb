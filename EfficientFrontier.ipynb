{
 "cells": [
  {
   "cell_type": "markdown",
   "id": "0ed6932e",
   "metadata": {},
   "source": [
    "Shreyansh Misra"
   ]
  },
  {
   "cell_type": "markdown",
   "id": "b2aa0a96",
   "metadata": {},
   "source": [
    "# I. Creating the Datasets"
   ]
  },
  {
   "cell_type": "markdown",
   "id": "2a967055",
   "metadata": {},
   "source": [
    "### Importing Dependencies"
   ]
  },
  {
   "cell_type": "code",
   "execution_count": 1,
   "id": "cd249cdb",
   "metadata": {},
   "outputs": [],
   "source": [
    "import requests\n",
    "import re\n",
    "import numpy as np\n",
    "from bs4 import BeautifulSoup as bs"
   ]
  },
  {
   "cell_type": "markdown",
   "id": "0275dea0",
   "metadata": {},
   "source": [
    "### List of S&P500 Compaines and their Weights"
   ]
  },
  {
   "cell_type": "markdown",
   "id": "0844fd63",
   "metadata": {},
   "source": [
    "The S&P500 is an index tracking the stock performance of the top 500 publicly traded companies in the United States by market capitalization. The depth and diversity of the index makes it one of the best gagues of prominent American equities' performance, and by extension, that of the stock market overall. This dataset was selected as companies within the S&P500 are well established and have large market capitalizations in a variety of industires, thereby making them low-risk equities for investment."
   ]
  },
  {
   "cell_type": "code",
   "execution_count": 2,
   "id": "4949db7b",
   "metadata": {},
   "outputs": [],
   "source": [
    "sp500_url = \"https://thirsty-golick-fbd29a.netlify.app/table\""
   ]
  },
  {
   "cell_type": "markdown",
   "id": "8bef9916",
   "metadata": {},
   "source": [
    "### Web Scraping"
   ]
  },
  {
   "cell_type": "code",
   "execution_count": 3,
   "id": "9f6c5abf",
   "metadata": {},
   "outputs": [],
   "source": [
    "res = requests.get(sp500_url)\n",
    "soup = bs(res.text, 'html.parser')\n",
    "\n",
    "table = soup.findAll('table')[0].findAll('tbody')"
   ]
  },
  {
   "cell_type": "markdown",
   "id": "99883ad0",
   "metadata": {},
   "source": [
    "### List of Stock Tickers"
   ]
  },
  {
   "cell_type": "code",
   "execution_count": 4,
   "id": "cc42dbc9",
   "metadata": {},
   "outputs": [
    {
     "data": {
      "text/plain": [
       "('\\n class=\"g-0lax\"span syle=\"fon-weigh:400;fon-syle:nomal;ex-ecoaion:none;colo:#000;backgoun-colo:anspaen\"MSFT',\n",
       " '\\n class=\"g-0lax\"span syle=\"fon-weigh:400;fon-syle:nomal;ex-ecoaion:none;colo:#000;backgoun-colo:anspaen\"AAPL',\n",
       " '\\n class=\"g-0lax\"span syle=\"fon-weigh:400;fon-syle:nomal;ex-ecoaion:none;colo:#000;backgoun-colo:anspaen\"AMZN')"
      ]
     },
     "execution_count": 4,
     "metadata": {},
     "output_type": "execute_result"
    }
   ],
   "source": [
    "SP500 = []\n",
    "\n",
    "#\n",
    "for i, ticker in enumerate(table[0]):\n",
    "    if len(ticker) > 1:\n",
    "        \n",
    "        #\n",
    "        text = re.sub(r\"[<trd>]\", \"\", str(ticker))\n",
    "        text = text.split('/')\n",
    "        \n",
    "        SP500.append(text[4])\n",
    "        \n",
    "        \n",
    "SP500[0], SP500[1], SP500[2]"
   ]
  },
  {
   "cell_type": "markdown",
   "id": "69dc87c9",
   "metadata": {},
   "source": [
    "### Cleaning Tickers Dataset"
   ]
  },
  {
   "cell_type": "code",
   "execution_count": 5,
   "id": "ca244173",
   "metadata": {},
   "outputs": [
    {
     "name": "stdout",
     "output_type": "stream",
     "text": [
      "['MSFT', 'AAPL', 'AMZN', 'TSLA', 'GOOGL', 'GOOG', 'FB', 'NVDA', 'BRK.B', 'JPM', 'JNJ', 'UNH', 'HD', 'V', 'PG', 'BAC', 'DIS', 'ADBE', 'MA', 'CRM', 'NFLX', 'XOM', 'PFE', 'PYPL', 'CMCSA', 'TMO', 'CSCO', 'ACN', 'PEP', 'AVGO', 'NKE', 'COST', 'CVX', 'KO', 'ABT', 'VZ', 'WMT', 'LLY', 'WFC', 'ABBV', 'INTC', 'MRK', 'MCD', 'DHR', 'QCOM', 'T', 'TXN', 'LIN', 'INTU', 'NEE', 'LOW', 'AMD', 'MDT', 'ORCL', 'HON', 'UNP', 'UPS', 'PM', 'MS', 'AMAT', 'SBUX', 'RTX', 'GS', 'NOW', 'BLK', 'C', 'BMY', 'ISRG', 'AMT', 'TGT', 'CVS', 'BA', 'SCHW', 'AMGN', 'GE', 'AXP', 'CAT', 'SPGI', 'IBM', 'PLD', 'BKNG', 'MMM', 'ANTM', 'ZTS', 'COP', 'DE', 'ADI', 'ADP', 'SYK', 'PNC', 'CHTR', 'LRCX', 'MDLZ', 'TJX', 'TFC', 'GM', 'CB', 'LMT', 'MO', 'GILD', 'MU', 'USB', 'MMC', 'EL', 'CSX', 'CME', 'DUK', 'CCI', 'SHW', 'ICE', 'F', 'EW', 'CI', 'TMUS', 'ADSK', 'FIS', 'EQIX', 'NSC', 'BDX', 'COF', 'APD', 'ETN', 'ITW', 'SO', 'CL', 'AON', 'REGN', 'KLAC', 'MCO', 'WM', 'D', 'DXCM', 'BSX', 'HCA', 'ILMN', 'FISV', 'FDX', 'NXPI', 'EMR', 'HUM', 'ECL', 'PGR', 'SPG', 'EOG', 'NOC', 'FCX', 'IDXX', 'MSCI', 'DG', 'JCI', 'EXC', 'ATVI', 'TEL', 'SNPS', 'ROP', 'INFO', 'AIG', 'CMG', 'TROW', 'VRTX', 'ALGN', 'CDNS', 'PSA', 'XLNX', 'APH', 'EBAY', 'A', 'IQV', 'APTV', 'MCHP', 'SLB', 'BK', 'MET', 'GD', 'FTNT', 'MAR', 'CARR', 'NEM', 'LHX', 'KMB', 'MTCH', 'ORLY', 'DLR', 'TT', 'SIVB', 'DOW', 'CNC', 'PRU', 'ROST', 'AEP', 'TWTR', 'HLT', 'DD', 'PXD', 'PH', 'CTSH', 'MPC', 'MSI', 'SYY', 'BIIB', 'SRE', 'GPN', 'PAYX', 'TRV', 'EA', 'O', 'ROK', 'AZO', 'BAX', 'PPG', 'CTAS', 'FRC', 'HPQ', 'GIS', 'RMD', 'SBAC', 'STZ', 'YUM', 'ADM', 'WBA', 'CBRE', 'IFF', 'WELL', 'ANSS', 'MTD', 'AFL', 'STT', 'CTVA', 'DFS', 'OTIS', 'TDG', 'AMP', 'WMB', 'EFX', 'ALL', 'VRSK', 'XEL', 'MCK', 'MNST', 'PSX', 'CMI', 'KEYS', 'FAST', 'AVB', 'AJG', 'KMI', 'NUE', 'ODFL', 'AME', 'PEG', 'ZBRA', 'CPRT', 'ENPH', 'ALB', 'VLO', 'ETSY', 'PCAR', 'LUV', 'AWK', 'FITB', 'DHI', 'WST', 'WLTW', 'SWK', 'OXY', 'ZBH', 'BLL', 'GLW', 'ANET', 'ES', 'BBY', 'OKE', 'EQR', 'KR', 'WY', 'WEC', 'LEN', 'ARE', 'URI', 'DAL', 'FTV', 'KSU', 'SYF', 'GNRC', 'RSG', 'IT', 'DVN', 'SWKS', 'ED', 'LH', 'EXR', 'VMC', 'EXPE', 'NTRS', 'MLM', 'CDW', 'DLTR', 'HSY', 'KMX', 'TSCO', 'HIG', 'NDAQ', 'KHC', 'DOV', 'EIX', 'PAYC', 'LYB', 'TSN', 'VFC', 'XYL', 'HBAN', 'MPWR', 'MAA', 'RF', 'IR', 'HES', 'KEY', 'VRSN', 'TER', 'CZR', 'CERN', 'DTE', 'PPL', 'STE', 'AEE', 'VIAC', 'HAL', 'ESS', 'TYL', 'CHD', 'TRMB', 'TTWO', 'ULTA', 'GRMN', 'RCL', 'EXPD', 'FE', 'DRE', 'WAT', 'ETR', 'COO', 'TDY', 'CTLT', 'POOL', 'GWW', 'BKR', 'NTAP', 'VTR', 'CFG', 'MKC', 'MGM', 'FLT', 'HPE', 'BR', 'DRI', 'CLX', 'MTB', 'BBWI', 'CCL', 'GPC', 'STX', 'FANG', 'TECH', 'IP', 'ABC', 'PKI', 'CINF', 'CRL', 'CE', 'AVY', 'AMCR', 'J', 'RJF', 'PEAK', 'DPZ', 'IEX', 'WAB', 'CMS', 'HOLX', 'CTRA', 'AKAM', 'QRVO', 'TXT', 'WDC', 'PFG', 'NVR', 'DGX', 'UAL', 'CDAY', 'AES', 'BXP', 'VTRS', 'TFX', 'ABMD', 'PWR', 'LYV', 'JBHT', 'MAS', 'K', 'CAG', 'CNP', 'BIO', 'LKQ', 'UDR', 'EMN', 'AAP', 'EVRG', 'OMC', 'KIM', 'MKTX', 'BRO', 'NLOK', 'CAH', 'IPG', 'CBOE', 'LNT', 'FBHS', 'LVS', 'AAL', 'LUMN', 'IRM', 'FMC', 'WHR', 'SJM', 'MRO', 'FOXA', 'PTC', 'FFIV', 'RHI', 'BF.B', 'PHM', 'HST', 'WRK', 'MOS', 'HWM', 'PKG', 'LNC', 'INCY', 'CF', 'LDOS', 'CHRW', 'HAS', 'PNR', 'ATO', 'HRL', 'XRAY', 'TPR', 'ALLE', 'JKHY', 'CMA', 'L', 'REG', 'SNA', 'APA', 'WRB', 'BWA', 'HSIC', 'CTXS', 'RE', 'NCLH', 'ZION', 'AOS', 'WYNN', 'JNPR', 'MHK', 'BEN', 'NI', 'UHS', 'NWSA', 'AIZ', 'DISH', 'SEE', 'FRT', 'PENN', 'OGN', 'NWL', 'NRG', 'GL', 'IVZ', 'TAP', 'PVH', 'DXC', 'LW', 'CPB', 'ROL', 'HII', 'PBCT', 'NLSN', 'DISCK', 'ALK', 'DVA', 'WU', 'PNW', 'VNO', 'HBI', 'IPGP', 'RL', 'LEG', 'FOX', 'GPS', 'UAA', 'DISCA', 'UA', 'NWS']\n"
     ]
    }
   ],
   "source": [
    "# removing text styling prefix\n",
    "SP500 = [value.removeprefix('\\n class=\"g-0lax\"span syle=\"fon-weigh:400;fon-syle:nomal;ex-ecoaion:none;colo:#000;backgoun-colo:anspaen\"') for value in SP500]\n",
    "\n",
    "# removing element 99 \"span\"\n",
    "SP500.pop(99)\n",
    "\n",
    "\n",
    "print(SP500)"
   ]
  },
  {
   "cell_type": "markdown",
   "id": "726caa5e",
   "metadata": {},
   "source": [
    "### List of Stock Tickers"
   ]
  },
  {
   "cell_type": "code",
   "execution_count": 6,
   "id": "5743d169",
   "metadata": {},
   "outputs": [
    {
     "data": {
      "text/plain": [
       "('\\n class=\"g-0lax\"span syle=\"fon-weigh:400;fon-syle:nomal;ex-ecoaion:none;colo:#000;backgoun-colo:anspaen\"6.33576',\n",
       " '\\n class=\"g-0lax\"span syle=\"fon-weigh:400;fon-syle:nomal;ex-ecoaion:none;colo:#000;backgoun-colo:anspaen\"5.95990',\n",
       " '\\n class=\"g-0lax\"span syle=\"fon-weigh:400;fon-syle:nomal;ex-ecoaion:none;colo:#000;backgoun-colo:anspaen\"3.84511')"
      ]
     },
     "execution_count": 6,
     "metadata": {},
     "output_type": "execute_result"
    }
   ],
   "source": [
    "weight500 = []\n",
    "\n",
    "#\n",
    "for i, ticker in enumerate(table[0]):\n",
    "    if len(ticker) > 1:\n",
    "        \n",
    "        text = re.sub(r\"[<trd>]\", \"\", str(ticker))\n",
    "        text = text.split('/')\n",
    "        \n",
    "        weight500.append(text[6])\n",
    "\n",
    "weight500[0], weight500[1], weight500[2]"
   ]
  },
  {
   "cell_type": "markdown",
   "id": "5a5988b2",
   "metadata": {},
   "source": [
    "### Cleaning Weights Dataset"
   ]
  },
  {
   "cell_type": "code",
   "execution_count": 7,
   "id": "1aa0a458",
   "metadata": {},
   "outputs": [
    {
     "data": {
      "text/plain": [
       "'span'"
      ]
     },
     "execution_count": 7,
     "metadata": {},
     "output_type": "execute_result"
    }
   ],
   "source": [
    "# removing text styling prefix\n",
    "weight500 = [value.removeprefix('\\n class=\"g-0lax\"span syle=\"fon-weigh:400;fon-syle:nomal;ex-ecoaion:none;colo:#000;backgoun-colo:anspaen\"') for value in weight500]\n",
    "\n",
    "# removing element 99 \"span\"\n",
    "weight500.pop(99)"
   ]
  },
  {
   "cell_type": "markdown",
   "id": "14bbcfba",
   "metadata": {},
   "source": [
    "### Converting Weights from Percentage to Decimals"
   ]
  },
  {
   "cell_type": "code",
   "execution_count": 8,
   "id": "fa5723e4",
   "metadata": {},
   "outputs": [
    {
     "name": "stdout",
     "output_type": "stream",
     "text": [
      "Pass\n",
      "[0.0634, 0.0596, 0.0385, 0.0249, 0.0225, 0.0211, 0.0204, 0.0186, 0.0134, 0.0126, 0.0108, 0.0108, 0.0098, 0.0092, 0.0089, 0.0087, 0.008, 0.0079, 0.0076, 0.0075, 0.0072, 0.0069, 0.0068, 0.0067, 0.0062, 0.0061, 0.006, 0.0059, 0.0058, 0.0058, 0.0057, 0.0057, 0.0056, 0.0055, 0.0055, 0.0054, 0.0054, 0.0053, 0.0052, 0.0052, 0.0052, 0.0052, 0.0048, 0.0047, 0.0046, 0.0045, 0.0045, 0.0043, 0.0042, 0.0042, 0.0042, 0.0042, 0.0041, 0.0039, 0.0039, 0.0039, 0.0038, 0.0037, 0.0037, 0.0035, 0.0035, 0.0035, 0.0034, 0.0034, 0.0034, 0.0034, 0.0033, 0.0033, 0.0032, 0.0032, 0.0031, 0.0031, 0.0031, 0.003, 0.003, 0.0029, 0.0028, 0.0028, 0.0028, 0.0027, 0.0027, 0.0026, 0.0026, 0.0026, 0.0025, 0.0025, 0.0025, 0.0024, 0.0023, 0.0022, 0.0022, 0.0022, 0.0022, 0.0022, 0.0022, 0.0021, 0.0021, 0.0021, 0.0021, 0.0021, 0.0021, 0.0021, 0.0021, 0.002, 0.002, 0.002, 0.002, 0.002, 0.0019, 0.0019, 0.0019, 0.0019, 0.0018, 0.0018, 0.0018, 0.0018, 0.0018, 0.0018, 0.0018, 0.0017, 0.0017, 0.0017, 0.0017, 0.0017, 0.0016, 0.0016, 0.0016, 0.0016, 0.0016, 0.0016, 0.0016, 0.0015, 0.0015, 0.0015, 0.0015, 0.0015, 0.0015, 0.0015, 0.0015, 0.0015, 0.0014, 0.0014, 0.0014, 0.0014, 0.0014, 0.0014, 0.0014, 0.0014, 0.0013, 0.0013, 0.0013, 0.0013, 0.0013, 0.0013, 0.0013, 0.0013, 0.0013, 0.0013, 0.0013, 0.0013, 0.0013, 0.0012, 0.0012, 0.0012, 0.0012, 0.0012, 0.0012, 0.0012, 0.0012, 0.0012, 0.0012, 0.0012, 0.0012, 0.0012, 0.0012, 0.0012, 0.0011, 0.0011, 0.0011, 0.0011, 0.0011, 0.0011, 0.0011, 0.0011, 0.0011, 0.0011, 0.0011, 0.0011, 0.0011, 0.0011, 0.0011, 0.0011, 0.0011, 0.0011, 0.0011, 0.0011, 0.0011, 0.0011, 0.001, 0.001, 0.001, 0.001, 0.001, 0.001, 0.001, 0.001, 0.001, 0.001, 0.001, 0.001, 0.001, 0.001, 0.001, 0.001, 0.001, 0.0009, 0.0009, 0.0009, 0.0009, 0.0009, 0.0009, 0.0009, 0.0009, 0.0009, 0.0009, 0.0009, 0.0009, 0.0009, 0.0009, 0.0009, 0.0009, 0.0009, 0.0009, 0.0009, 0.0009, 0.0009, 0.0009, 0.0009, 0.0009, 0.0009, 0.0009, 0.0008, 0.0008, 0.0008, 0.0008, 0.0008, 0.0008, 0.0008, 0.0008, 0.0008, 0.0008, 0.0008, 0.0008, 0.0008, 0.0008, 0.0008, 0.0008, 0.0008, 0.0008, 0.0008, 0.0008, 0.0007, 0.0007, 0.0007, 0.0007, 0.0007, 0.0007, 0.0007, 0.0007, 0.0007, 0.0007, 0.0007, 0.0007, 0.0007, 0.0007, 0.0007, 0.0007, 0.0007, 0.0007, 0.0007, 0.0007, 0.0007, 0.0007, 0.0007, 0.0007, 0.0007, 0.0007, 0.0007, 0.0007, 0.0007, 0.0007, 0.0007, 0.0007, 0.0006, 0.0006, 0.0006, 0.0006, 0.0006, 0.0006, 0.0006, 0.0006, 0.0006, 0.0006, 0.0006, 0.0006, 0.0006, 0.0006, 0.0006, 0.0006, 0.0006, 0.0006, 0.0006, 0.0006, 0.0006, 0.0006, 0.0006, 0.0006, 0.0006, 0.0006, 0.0006, 0.0006, 0.0006, 0.0006, 0.0006, 0.0006, 0.0006, 0.0006, 0.0006, 0.0005, 0.0005, 0.0005, 0.0005, 0.0005, 0.0005, 0.0005, 0.0005, 0.0005, 0.0005, 0.0005, 0.0005, 0.0005, 0.0005, 0.0005, 0.0005, 0.0005, 0.0005, 0.0005, 0.0005, 0.0005, 0.0005, 0.0005, 0.0005, 0.0005, 0.0005, 0.0005, 0.0005, 0.0005, 0.0005, 0.0005, 0.0005, 0.0005, 0.0005, 0.0005, 0.0005, 0.0005, 0.0005, 0.0005, 0.0005, 0.0005, 0.0005, 0.0005, 0.0005, 0.0005, 0.0005, 0.0005, 0.0004, 0.0004, 0.0004, 0.0004, 0.0004, 0.0004, 0.0004, 0.0004, 0.0004, 0.0004, 0.0004, 0.0004, 0.0004, 0.0004, 0.0004, 0.0004, 0.0004, 0.0004, 0.0004, 0.0004, 0.0004, 0.0004, 0.0004, 0.0004, 0.0004, 0.0004, 0.0004, 0.0004, 0.0004, 0.0004, 0.0004, 0.0004, 0.0004, 0.0004, 0.0004, 0.0004, 0.0004, 0.0004, 0.0004, 0.0004, 0.0004, 0.0004, 0.0004, 0.0004, 0.0004, 0.0003, 0.0003, 0.0003, 0.0003, 0.0003, 0.0003, 0.0003, 0.0003, 0.0003, 0.0003, 0.0003, 0.0003, 0.0003, 0.0003, 0.0003, 0.0003, 0.0003, 0.0003, 0.0003, 0.0003, 0.0003, 0.0003, 0.0003, 0.0003, 0.0003, 0.0003, 0.0003, 0.0003, 0.0003, 0.0003, 0.0003, 0.0003, 0.0003, 0.0003, 0.0003, 0.0003, 0.0003, 0.0003, 0.0003, 0.0003, 0.0003, 0.0003, 0.0003, 0.0003, 0.0002, 0.0002, 0.0002, 0.0002, 0.0002, 0.0002, 0.0002, 0.0002, 0.0002, 0.0002, 0.0002, 0.0002, 0.0002, 0.0002, 0.0002, 0.0002, 0.0002, 0.0002, 0.0002, 0.0002, 0.0002, 0.0002, 0.0002, 0.0002, 0.0002, 0.0002, 0.0002, 0.0002, 0.0002, 0.0002, 0.0002, 0.0002, 0.0002, 0.0001, 0.0001, 0.0001, 0.0001, 0.0001, 0.0001, 0.0001]\n"
     ]
    }
   ],
   "source": [
    "# converting weight500 elements from strings to floats\n",
    "weight500 = list(np.float_(weight500))\n",
    "\n",
    "# dividing all weights by 100\n",
    "weight500[:] = [x / 100 for x in weight500]\n",
    "\n",
    "# round all weights to four decimal places\n",
    "weight500[:] = [round(num, 4) for num in weight500]\n",
    "\n",
    "# weights cannot equal zero\n",
    "if any(i == 0.0000 for i in weight500):\n",
    "    print(\"Fail\")\n",
    "else:\n",
    "    print(\"Pass\")\n",
    "\n",
    "print(weight500)"
   ]
  },
  {
   "cell_type": "markdown",
   "id": "b1b5f4f6",
   "metadata": {},
   "source": [
    "### Checking Lengths of Datasets"
   ]
  },
  {
   "cell_type": "markdown",
   "id": "27031e69",
   "metadata": {},
   "source": [
    "Weights will correspond to a stock ticker of the same index. Ensuring that the two lists have the same length ensures that there aren't any missing elements and that the weights correspond to the right ticker. We also observe that the S&P500 does not have exactly 500 tickers. This is because some companies have multiple classes of shares with large market capitalizations. For example, Alphabet (holding company of Google) lists both GOOG and GOOGL."
   ]
  },
  {
   "cell_type": "code",
   "execution_count": 9,
   "id": "ef14ada9",
   "metadata": {},
   "outputs": [
    {
     "data": {
      "text/plain": [
       "(504, 504)"
      ]
     },
     "execution_count": 9,
     "metadata": {},
     "output_type": "execute_result"
    }
   ],
   "source": [
    "numTickers = len(SP500)\n",
    "numWeights = len(weight500)\n",
    "\n",
    "(numTickers, numWeights)"
   ]
  },
  {
   "cell_type": "markdown",
   "id": "67fc681a",
   "metadata": {},
   "source": [
    "\n",
    "\n",
    "\n"
   ]
  },
  {
   "cell_type": "markdown",
   "id": "37744220",
   "metadata": {},
   "source": [
    "\n",
    "\n",
    "\n"
   ]
  },
  {
   "cell_type": "markdown",
   "id": "6f89fdef",
   "metadata": {},
   "source": [
    "\n",
    "\n",
    "\n"
   ]
  },
  {
   "cell_type": "markdown",
   "id": "5772b84d",
   "metadata": {},
   "source": [
    "\n",
    "\n",
    "\n"
   ]
  },
  {
   "cell_type": "markdown",
   "id": "2447536f",
   "metadata": {},
   "source": [
    "\n",
    "\n",
    "\n"
   ]
  },
  {
   "cell_type": "markdown",
   "id": "29b77695",
   "metadata": {},
   "source": [
    "# II. Screening Stocks"
   ]
  },
  {
   "cell_type": "markdown",
   "id": "74c7af95",
   "metadata": {},
   "source": [
    "### Importing Dependencies"
   ]
  },
  {
   "cell_type": "code",
   "execution_count": 10,
   "id": "e2085292",
   "metadata": {},
   "outputs": [],
   "source": [
    "import time\n",
    "import os\n",
    "import pandas as pd\n",
    "import pickle as pkl"
   ]
  },
  {
   "cell_type": "markdown",
   "id": "915bb345",
   "metadata": {},
   "source": [
    "### Ameritrade API"
   ]
  },
  {
   "cell_type": "markdown",
   "id": "698c858c",
   "metadata": {},
   "source": [
    "Ameritrade's API provides free stock data for almost all publicly traded stocks in the United States. As API keys are confidential, my Ameritrade API key was stored within a `keys.py` file. "
   ]
  },
  {
   "cell_type": "code",
   "execution_count": 11,
   "id": "e56dae8a",
   "metadata": {},
   "outputs": [],
   "source": [
    "from keys import ameritrade\n",
    "url = 'https://api.tdameritrade.com/v1/instruments'"
   ]
  },
  {
   "cell_type": "code",
   "execution_count": 12,
   "id": "d02cefe1",
   "metadata": {},
   "outputs": [],
   "source": [
    "def getMetrics(tickers):\n",
    "    \n",
    "    # ameritrade has limits on how many requests at a time\n",
    "    start = 0\n",
    "    end = 500\n",
    "    \n",
    "    while start < len(tickers):\n",
    "        tickers = tickers[start:end]\n",
    "    \n",
    "        # api\n",
    "        payload = {'apikey':ameritrade,\n",
    "                   'symbol': tickers,\n",
    "                   'projection':'fundamental'}\n",
    "\n",
    "        results = requests.get(url,params=payload)\n",
    "        data = results.json()\n",
    "\n",
    "        # file\n",
    "        name = 'temp' + '.pkL'\n",
    "\n",
    "        files = []\n",
    "        files.append(name)\n",
    "\n",
    "        with open(name, 'wb') as file:\n",
    "                pkl.dump(data, file)\n",
    "            \n",
    "        start = end\n",
    "        end += 500\n",
    "\n",
    "        time.sleep(1)\n",
    "    \n",
    "    \n",
    "    #\n",
    "    StockData = []\n",
    "\n",
    "    for file in files:\n",
    "        with open(file, 'rb') as f:\n",
    "            info = pkl.load(f)\n",
    "\n",
    "        tickers = list(info)\n",
    "        metrics = ['symbol', 'peRatio', 'pegRatio', 'returnOnEquity', 'returnOnEquity']\n",
    "\n",
    "        for ticker in tickers:\n",
    "            row = []\n",
    "\n",
    "            for metric in metrics:\n",
    "                row.append(info[ticker]['fundamental'][metric])\n",
    "\n",
    "            StockData.append(row)\n",
    "\n",
    "        os.remove(file)\n",
    "    \n",
    "    # dataframe\n",
    "    Titles = ['Ticker', 'Price to Earnings Ratio', 'Price to Earnings Growth', 'Return on Equity', 'Earnings Per Share Growth']\n",
    "    df = pd.DataFrame(StockData, columns=Titles)\n",
    "\n",
    "    return df        "
   ]
  },
  {
   "cell_type": "markdown",
   "id": "3edec928",
   "metadata": {},
   "source": [
    "Notice that there are 493 stocks listed in the dataframe, rather than the 504 stocks listed in the list `SP500`. This indicates that we were not able to find information for 11 stocks."
   ]
  },
  {
   "cell_type": "code",
   "execution_count": 13,
   "id": "7c8442c0",
   "metadata": {},
   "outputs": [
    {
     "data": {
      "text/html": [
       "<div>\n",
       "<style scoped>\n",
       "    .dataframe tbody tr th:only-of-type {\n",
       "        vertical-align: middle;\n",
       "    }\n",
       "\n",
       "    .dataframe tbody tr th {\n",
       "        vertical-align: top;\n",
       "    }\n",
       "\n",
       "    .dataframe thead th {\n",
       "        text-align: right;\n",
       "    }\n",
       "</style>\n",
       "<table border=\"1\" class=\"dataframe\">\n",
       "  <thead>\n",
       "    <tr style=\"text-align: right;\">\n",
       "      <th></th>\n",
       "      <th>Ticker</th>\n",
       "      <th>Price to Earnings Ratio</th>\n",
       "      <th>Price to Earnings Growth</th>\n",
       "      <th>Return on Equity</th>\n",
       "      <th>Earnings Per Share Growth</th>\n",
       "    </tr>\n",
       "  </thead>\n",
       "  <tbody>\n",
       "    <tr>\n",
       "      <th>0</th>\n",
       "      <td>TER</td>\n",
       "      <td>20.88073</td>\n",
       "      <td>0.000000</td>\n",
       "      <td>34.92339</td>\n",
       "      <td>34.92339</td>\n",
       "    </tr>\n",
       "    <tr>\n",
       "      <th>1</th>\n",
       "      <td>IPG</td>\n",
       "      <td>12.02124</td>\n",
       "      <td>0.383851</td>\n",
       "      <td>30.36495</td>\n",
       "      <td>30.36495</td>\n",
       "    </tr>\n",
       "    <tr>\n",
       "      <th>2</th>\n",
       "      <td>LVS</td>\n",
       "      <td>0.00000</td>\n",
       "      <td>0.000000</td>\n",
       "      <td>0.00000</td>\n",
       "      <td>0.00000</td>\n",
       "    </tr>\n",
       "    <tr>\n",
       "      <th>3</th>\n",
       "      <td>WYNN</td>\n",
       "      <td>0.00000</td>\n",
       "      <td>0.000000</td>\n",
       "      <td>0.00000</td>\n",
       "      <td>0.00000</td>\n",
       "    </tr>\n",
       "    <tr>\n",
       "      <th>4</th>\n",
       "      <td>TFC</td>\n",
       "      <td>11.54124</td>\n",
       "      <td>0.754479</td>\n",
       "      <td>10.03857</td>\n",
       "      <td>10.03857</td>\n",
       "    </tr>\n",
       "    <tr>\n",
       "      <th>...</th>\n",
       "      <td>...</td>\n",
       "      <td>...</td>\n",
       "      <td>...</td>\n",
       "      <td>...</td>\n",
       "      <td>...</td>\n",
       "    </tr>\n",
       "    <tr>\n",
       "      <th>488</th>\n",
       "      <td>GRMN</td>\n",
       "      <td>18.73768</td>\n",
       "      <td>0.000000</td>\n",
       "      <td>17.72269</td>\n",
       "      <td>17.72269</td>\n",
       "    </tr>\n",
       "    <tr>\n",
       "      <th>489</th>\n",
       "      <td>CCL</td>\n",
       "      <td>0.00000</td>\n",
       "      <td>0.000000</td>\n",
       "      <td>0.00000</td>\n",
       "      <td>0.00000</td>\n",
       "    </tr>\n",
       "    <tr>\n",
       "      <th>490</th>\n",
       "      <td>FIS</td>\n",
       "      <td>72.52291</td>\n",
       "      <td>0.083902</td>\n",
       "      <td>1.78297</td>\n",
       "      <td>1.78297</td>\n",
       "    </tr>\n",
       "    <tr>\n",
       "      <th>491</th>\n",
       "      <td>BAX</td>\n",
       "      <td>30.00746</td>\n",
       "      <td>0.000000</td>\n",
       "      <td>11.65216</td>\n",
       "      <td>11.65216</td>\n",
       "    </tr>\n",
       "    <tr>\n",
       "      <th>492</th>\n",
       "      <td>TEL</td>\n",
       "      <td>17.56156</td>\n",
       "      <td>0.347335</td>\n",
       "      <td>24.54102</td>\n",
       "      <td>24.54102</td>\n",
       "    </tr>\n",
       "  </tbody>\n",
       "</table>\n",
       "<p>493 rows × 5 columns</p>\n",
       "</div>"
      ],
      "text/plain": [
       "    Ticker  Price to Earnings Ratio  Price to Earnings Growth  \\\n",
       "0      TER                 20.88073                  0.000000   \n",
       "1      IPG                 12.02124                  0.383851   \n",
       "2      LVS                  0.00000                  0.000000   \n",
       "3     WYNN                  0.00000                  0.000000   \n",
       "4      TFC                 11.54124                  0.754479   \n",
       "..     ...                      ...                       ...   \n",
       "488   GRMN                 18.73768                  0.000000   \n",
       "489    CCL                  0.00000                  0.000000   \n",
       "490    FIS                 72.52291                  0.083902   \n",
       "491    BAX                 30.00746                  0.000000   \n",
       "492    TEL                 17.56156                  0.347335   \n",
       "\n",
       "     Return on Equity  Earnings Per Share Growth  \n",
       "0            34.92339                   34.92339  \n",
       "1            30.36495                   30.36495  \n",
       "2             0.00000                    0.00000  \n",
       "3             0.00000                    0.00000  \n",
       "4            10.03857                   10.03857  \n",
       "..                ...                        ...  \n",
       "488          17.72269                   17.72269  \n",
       "489           0.00000                    0.00000  \n",
       "490           1.78297                    1.78297  \n",
       "491          11.65216                   11.65216  \n",
       "492          24.54102                   24.54102  \n",
       "\n",
       "[493 rows x 5 columns]"
      ]
     },
     "execution_count": 13,
     "metadata": {},
     "output_type": "execute_result"
    }
   ],
   "source": [
    "metrics500 = getMetrics(tickers=SP500)\n",
    "metrics500"
   ]
  },
  {
   "cell_type": "markdown",
   "id": "101ce472",
   "metadata": {},
   "source": [
    "### Screening Stocks"
   ]
  },
  {
   "cell_type": "markdown",
   "id": "6a5c60dd",
   "metadata": {},
   "source": [
    "The proccess of screening stocks varies from person to person. There are a large number of factor models, stock metrics, and alternative data sources that can be taken into account whilst screening stocks. For the simplicity of this project, I chose the metrics Net Profit Margin, Price to Earnings Ratio, Growth in Price to Earnings Ratio, and the 52 Week High in order to assess the stocks. Assuming that a stock met the conditions for each of these metrics, it would pass the screening and would be a part of the final portfolio."
   ]
  },
  {
   "cell_type": "markdown",
   "id": "555761cd",
   "metadata": {},
   "source": [
    "The conditions themselves in LaTex"
   ]
  },
  {
   "cell_type": "code",
   "execution_count": 18,
   "id": "f6aec023",
   "metadata": {},
   "outputs": [
    {
     "data": {
      "text/html": [
       "<div>\n",
       "<style scoped>\n",
       "    .dataframe tbody tr th:only-of-type {\n",
       "        vertical-align: middle;\n",
       "    }\n",
       "\n",
       "    .dataframe tbody tr th {\n",
       "        vertical-align: top;\n",
       "    }\n",
       "\n",
       "    .dataframe thead th {\n",
       "        text-align: right;\n",
       "    }\n",
       "</style>\n",
       "<table border=\"1\" class=\"dataframe\">\n",
       "  <thead>\n",
       "    <tr style=\"text-align: right;\">\n",
       "      <th></th>\n",
       "      <th>Ticker</th>\n",
       "      <th>Price to Earnings Ratio</th>\n",
       "      <th>Price to Earnings Growth</th>\n",
       "      <th>Return on Equity</th>\n",
       "      <th>Earnings Per Share Growth</th>\n",
       "    </tr>\n",
       "  </thead>\n",
       "  <tbody>\n",
       "    <tr>\n",
       "      <th>54</th>\n",
       "      <td>V</td>\n",
       "      <td>32.55010</td>\n",
       "      <td>0.900015</td>\n",
       "      <td>42.42532</td>\n",
       "      <td>42.42532</td>\n",
       "    </tr>\n",
       "    <tr>\n",
       "      <th>61</th>\n",
       "      <td>NVDA</td>\n",
       "      <td>48.56143</td>\n",
       "      <td>0.633419</td>\n",
       "      <td>41.95237</td>\n",
       "      <td>41.95237</td>\n",
       "    </tr>\n",
       "    <tr>\n",
       "      <th>173</th>\n",
       "      <td>IT</td>\n",
       "      <td>33.90339</td>\n",
       "      <td>0.928241</td>\n",
       "      <td>382.39060</td>\n",
       "      <td>382.39060</td>\n",
       "    </tr>\n",
       "    <tr>\n",
       "      <th>240</th>\n",
       "      <td>MA</td>\n",
       "      <td>35.80762</td>\n",
       "      <td>0.966268</td>\n",
       "      <td>153.79370</td>\n",
       "      <td>153.79370</td>\n",
       "    </tr>\n",
       "    <tr>\n",
       "      <th>324</th>\n",
       "      <td>VRSK</td>\n",
       "      <td>31.19531</td>\n",
       "      <td>0.559556</td>\n",
       "      <td>41.01540</td>\n",
       "      <td>41.01540</td>\n",
       "    </tr>\n",
       "  </tbody>\n",
       "</table>\n",
       "</div>"
      ],
      "text/plain": [
       "    Ticker  Price to Earnings Ratio  Price to Earnings Growth  \\\n",
       "54       V                 32.55010                  0.900015   \n",
       "61    NVDA                 48.56143                  0.633419   \n",
       "173     IT                 33.90339                  0.928241   \n",
       "240     MA                 35.80762                  0.966268   \n",
       "324   VRSK                 31.19531                  0.559556   \n",
       "\n",
       "     Return on Equity  Earnings Per Share Growth  \n",
       "54           42.42532                   42.42532  \n",
       "61           41.95237                   41.95237  \n",
       "173         382.39060                  382.39060  \n",
       "240         153.79370                  153.79370  \n",
       "324          41.01540                   41.01540  "
      ]
     },
     "execution_count": 18,
     "metadata": {},
     "output_type": "execute_result"
    }
   ],
   "source": [
    "screen = metrics500[(metrics500['Price to Earnings Growth'] < 1 & (metrics500['Price to Earnings Growth'] > 0.4) & (metrics500['Return on Equity'] > 20) & (metrics500['Price to Earnings Ratio'] > 30) & (metrics500['Earnings Per Share Growth'] > 40))]\n",
    "screen"
   ]
  },
  {
   "cell_type": "code",
   "execution_count": 22,
   "id": "8b1dff13",
   "metadata": {},
   "outputs": [
    {
     "data": {
      "text/plain": [
       "(['V', 'NVDA', 'IT', 'MA', 'VRSK'], 5)"
      ]
     },
     "execution_count": 22,
     "metadata": {},
     "output_type": "execute_result"
    }
   ],
   "source": [
    "portfolio = screen.Ticker.values.tolist()\n",
    "portfolio, len(portfolio)"
   ]
  },
  {
   "cell_type": "code",
   "execution_count": null,
   "id": "c8acf7f3",
   "metadata": {},
   "outputs": [],
   "source": []
  },
  {
   "cell_type": "code",
   "execution_count": null,
   "id": "969e3748",
   "metadata": {},
   "outputs": [],
   "source": []
  },
  {
   "cell_type": "code",
   "execution_count": null,
   "id": "5feef57d",
   "metadata": {},
   "outputs": [],
   "source": []
  },
  {
   "cell_type": "code",
   "execution_count": null,
   "id": "9d36a25e",
   "metadata": {},
   "outputs": [],
   "source": []
  },
  {
   "cell_type": "code",
   "execution_count": null,
   "id": "38c75e44",
   "metadata": {},
   "outputs": [],
   "source": []
  },
  {
   "cell_type": "code",
   "execution_count": null,
   "id": "62580e7c",
   "metadata": {},
   "outputs": [],
   "source": []
  },
  {
   "cell_type": "code",
   "execution_count": 23,
   "id": "e84f1785",
   "metadata": {},
   "outputs": [],
   "source": [
    "import datetime as dt\n",
    "from pandas_datareader import data as web\n",
    "from scipy.optimize import minimize\n",
    "import matplotlib.pyplot as plt"
   ]
  },
  {
   "cell_type": "code",
   "execution_count": 25,
   "id": "4291cc20",
   "metadata": {},
   "outputs": [
    {
     "data": {
      "text/plain": [
       "['V', 'NVDA', 'IT', 'MA', 'VRSK']"
      ]
     },
     "execution_count": 25,
     "metadata": {},
     "output_type": "execute_result"
    }
   ],
   "source": [
    "weights = np.array([0.2, 0.2, 0.2, 0.2, 0.2])\n",
    "EqualWeights = np.array([0.2, 0.2, 0.2, 0.2, 0.2])\n",
    "portfolio"
   ]
  },
  {
   "cell_type": "code",
   "execution_count": 26,
   "id": "4b6fbe39",
   "metadata": {},
   "outputs": [
    {
     "data": {
      "text/plain": [
       "'2022-08-11'"
      ]
     },
     "execution_count": 26,
     "metadata": {},
     "output_type": "execute_result"
    }
   ],
   "source": [
    "startDate = '2015-01-01'\n",
    "todayDate = dt.datetime.today().strftime('%Y-%m-%d')\n",
    "\n",
    "todayDate"
   ]
  },
  {
   "cell_type": "code",
   "execution_count": 27,
   "id": "08e871a1",
   "metadata": {},
   "outputs": [
    {
     "data": {
      "text/html": [
       "<div>\n",
       "<style scoped>\n",
       "    .dataframe tbody tr th:only-of-type {\n",
       "        vertical-align: middle;\n",
       "    }\n",
       "\n",
       "    .dataframe tbody tr th {\n",
       "        vertical-align: top;\n",
       "    }\n",
       "\n",
       "    .dataframe thead th {\n",
       "        text-align: right;\n",
       "    }\n",
       "</style>\n",
       "<table border=\"1\" class=\"dataframe\">\n",
       "  <thead>\n",
       "    <tr style=\"text-align: right;\">\n",
       "      <th>Symbols</th>\n",
       "      <th>V</th>\n",
       "      <th>NVDA</th>\n",
       "      <th>IT</th>\n",
       "      <th>MA</th>\n",
       "      <th>VRSK</th>\n",
       "    </tr>\n",
       "    <tr>\n",
       "      <th>Date</th>\n",
       "      <th></th>\n",
       "      <th></th>\n",
       "      <th></th>\n",
       "      <th></th>\n",
       "      <th></th>\n",
       "    </tr>\n",
       "  </thead>\n",
       "  <tbody>\n",
       "    <tr>\n",
       "      <th>2015-01-02</th>\n",
       "      <td>62.994804</td>\n",
       "      <td>4.837622</td>\n",
       "      <td>83.599998</td>\n",
       "      <td>81.657906</td>\n",
       "      <td>62.517612</td>\n",
       "    </tr>\n",
       "    <tr>\n",
       "      <th>2015-01-05</th>\n",
       "      <td>61.604271</td>\n",
       "      <td>4.755916</td>\n",
       "      <td>82.099998</td>\n",
       "      <td>79.361015</td>\n",
       "      <td>61.706455</td>\n",
       "    </tr>\n",
       "    <tr>\n",
       "      <th>2015-01-06</th>\n",
       "      <td>61.207314</td>\n",
       "      <td>4.611723</td>\n",
       "      <td>81.349998</td>\n",
       "      <td>79.189476</td>\n",
       "      <td>61.491444</td>\n",
       "    </tr>\n",
       "    <tr>\n",
       "      <th>2015-01-07</th>\n",
       "      <td>62.027367</td>\n",
       "      <td>4.599707</td>\n",
       "      <td>82.599998</td>\n",
       "      <td>80.421310</td>\n",
       "      <td>61.530529</td>\n",
       "    </tr>\n",
       "    <tr>\n",
       "      <th>2015-01-08</th>\n",
       "      <td>62.859303</td>\n",
       "      <td>4.772738</td>\n",
       "      <td>83.430000</td>\n",
       "      <td>81.672195</td>\n",
       "      <td>62.146236</td>\n",
       "    </tr>\n",
       "  </tbody>\n",
       "</table>\n",
       "</div>"
      ],
      "text/plain": [
       "Symbols             V      NVDA         IT         MA       VRSK\n",
       "Date                                                            \n",
       "2015-01-02  62.994804  4.837622  83.599998  81.657906  62.517612\n",
       "2015-01-05  61.604271  4.755916  82.099998  79.361015  61.706455\n",
       "2015-01-06  61.207314  4.611723  81.349998  79.189476  61.491444\n",
       "2015-01-07  62.027367  4.599707  82.599998  80.421310  61.530529\n",
       "2015-01-08  62.859303  4.772738  83.430000  81.672195  62.146236"
      ]
     },
     "execution_count": 27,
     "metadata": {},
     "output_type": "execute_result"
    }
   ],
   "source": [
    "stockData = web.get_data_yahoo(portfolio, start=startDate, end=todayDate)\n",
    "stockData = stockData['Adj Close']\n",
    "\n",
    "stockData.head()"
   ]
  },
  {
   "cell_type": "code",
   "execution_count": 28,
   "id": "43ef2512",
   "metadata": {},
   "outputs": [
    {
     "data": {
      "text/html": [
       "<div>\n",
       "<style scoped>\n",
       "    .dataframe tbody tr th:only-of-type {\n",
       "        vertical-align: middle;\n",
       "    }\n",
       "\n",
       "    .dataframe tbody tr th {\n",
       "        vertical-align: top;\n",
       "    }\n",
       "\n",
       "    .dataframe thead th {\n",
       "        text-align: right;\n",
       "    }\n",
       "</style>\n",
       "<table border=\"1\" class=\"dataframe\">\n",
       "  <thead>\n",
       "    <tr style=\"text-align: right;\">\n",
       "      <th>Symbols</th>\n",
       "      <th>V</th>\n",
       "      <th>NVDA</th>\n",
       "      <th>IT</th>\n",
       "      <th>MA</th>\n",
       "      <th>VRSK</th>\n",
       "    </tr>\n",
       "    <tr>\n",
       "      <th>Date</th>\n",
       "      <th></th>\n",
       "      <th></th>\n",
       "      <th></th>\n",
       "      <th></th>\n",
       "      <th></th>\n",
       "    </tr>\n",
       "  </thead>\n",
       "  <tbody>\n",
       "    <tr>\n",
       "      <th>2015-01-02</th>\n",
       "      <td>NaN</td>\n",
       "      <td>NaN</td>\n",
       "      <td>NaN</td>\n",
       "      <td>NaN</td>\n",
       "      <td>NaN</td>\n",
       "    </tr>\n",
       "    <tr>\n",
       "      <th>2015-01-05</th>\n",
       "      <td>-0.022321</td>\n",
       "      <td>-0.017034</td>\n",
       "      <td>-0.018106</td>\n",
       "      <td>-0.028531</td>\n",
       "      <td>-0.013060</td>\n",
       "    </tr>\n",
       "    <tr>\n",
       "      <th>2015-01-06</th>\n",
       "      <td>-0.006465</td>\n",
       "      <td>-0.030788</td>\n",
       "      <td>-0.009177</td>\n",
       "      <td>-0.002164</td>\n",
       "      <td>-0.003491</td>\n",
       "    </tr>\n",
       "    <tr>\n",
       "      <th>2015-01-07</th>\n",
       "      <td>0.013309</td>\n",
       "      <td>-0.002609</td>\n",
       "      <td>0.015249</td>\n",
       "      <td>0.015436</td>\n",
       "      <td>0.000635</td>\n",
       "    </tr>\n",
       "    <tr>\n",
       "      <th>2015-01-08</th>\n",
       "      <td>0.013323</td>\n",
       "      <td>0.036928</td>\n",
       "      <td>0.009998</td>\n",
       "      <td>0.015434</td>\n",
       "      <td>0.009957</td>\n",
       "    </tr>\n",
       "  </tbody>\n",
       "</table>\n",
       "</div>"
      ],
      "text/plain": [
       "Symbols            V      NVDA        IT        MA      VRSK\n",
       "Date                                                        \n",
       "2015-01-02       NaN       NaN       NaN       NaN       NaN\n",
       "2015-01-05 -0.022321 -0.017034 -0.018106 -0.028531 -0.013060\n",
       "2015-01-06 -0.006465 -0.030788 -0.009177 -0.002164 -0.003491\n",
       "2015-01-07  0.013309 -0.002609  0.015249  0.015436  0.000635\n",
       "2015-01-08  0.013323  0.036928  0.009998  0.015434  0.009957"
      ]
     },
     "execution_count": 28,
     "metadata": {},
     "output_type": "execute_result"
    }
   ],
   "source": [
    "log_ret = np.log(stockData/stockData.shift(1))\n",
    "log_ret.head()"
   ]
  },
  {
   "cell_type": "code",
   "execution_count": 29,
   "id": "7c2ee256",
   "metadata": {},
   "outputs": [],
   "source": [
    "np.random.seed(42)\n",
    "num_ports = 10000\n",
    "all_weights = np.zeros((num_ports, len(stockData.columns)))\n",
    "ret_arr = np.zeros(num_ports)\n",
    "vol_arr = np.zeros(num_ports)\n",
    "sharpe_arr = np.zeros(num_ports)\n",
    "\n",
    "for x in range(num_ports):\n",
    "    # Weights\n",
    "    weights = np.array(np.random.random(5))\n",
    "    weights = weights/np.sum(weights)\n",
    "    \n",
    "    # Save weights\n",
    "    all_weights[x,:] = weights\n",
    "    \n",
    "    # Expected return\n",
    "    ret_arr[x] = np.sum( (log_ret.mean() * weights * 252))\n",
    "    \n",
    "    # Expected volatility\n",
    "    vol_arr[x] = np.sqrt(np.dot(weights.T, np.dot(log_ret.cov()*252, weights)))\n",
    "    \n",
    "    # Sharpe Ratio\n",
    "    sharpe_arr[x] = ret_arr[x]/vol_arr[x]"
   ]
  },
  {
   "cell_type": "code",
   "execution_count": 30,
   "id": "a15b1e4f",
   "metadata": {},
   "outputs": [
    {
     "name": "stdout",
     "output_type": "stream",
     "text": [
      "Max SR: 1.0454992777324184\n",
      "Location: 4304\n"
     ]
    }
   ],
   "source": [
    "print('Max SR: {}'.format(sharpe_arr.max()))\n",
    "print('Location: {}'.format(sharpe_arr.argmax()))"
   ]
  },
  {
   "cell_type": "code",
   "execution_count": 31,
   "id": "4a0c8983",
   "metadata": {},
   "outputs": [
    {
     "name": "stdout",
     "output_type": "stream",
     "text": [
      "[0.32929617 0.31407276 0.01132636 0.19092092 0.15438379]\n"
     ]
    }
   ],
   "source": [
    "print(all_weights[1648,:])\n",
    "\n",
    "maxSR_return = ret_arr[sharpe_arr.argmax()]\n",
    "maxSR_vol = vol_arr[sharpe_arr.argmax()]"
   ]
  },
  {
   "cell_type": "code",
   "execution_count": 32,
   "id": "237023ac",
   "metadata": {},
   "outputs": [
    {
     "data": {
      "image/png": "[encoded data removed]",
      "text/plain": [
       "<Figure size 864x576 with 2 Axes>"
      ]
     },
     "metadata": {
      "needs_background": "light"
     },
     "output_type": "display_data"
    }
   ],
   "source": [
    "plt.figure(figsize=(12,8))\n",
    "plt.scatter(vol_arr, ret_arr, c=sharpe_arr, cmap='viridis')\n",
    "plt.colorbar(label='Sharpe Ratio')\n",
    "plt.xlabel('Volatility')\n",
    "plt.ylabel('Return')\n",
    "plt.scatter(maxSR_vol, maxSR_return,c='red', s=50) # red dot\n",
    "plt.show()"
   ]
  },
  {
   "cell_type": "code",
   "execution_count": 33,
   "id": "519fa651",
   "metadata": {},
   "outputs": [],
   "source": [
    "def get_ret_vol_sr(weights):\n",
    "    weights = np.array(weights)\n",
    "    ret = np.sum(log_ret.mean() * weights) * 252\n",
    "    vol = np.sqrt(np.dot(weights.T, np.dot(log_ret.cov()*252, weights)))\n",
    "    sr = ret/vol\n",
    "    return np.array([ret, vol, sr])\n",
    "\n",
    "def neg_sharpe(weights):\n",
    "# the number 2 is the sharpe ratio index from the get_ret_vol_sr\n",
    "    return get_ret_vol_sr(weights)[2] * -1\n",
    "\n",
    "def check_sum(weights):\n",
    "    #return 0 if sum of the weights is 1\n",
    "    return np.sum(weights)-1"
   ]
  },
  {
   "cell_type": "code",
   "execution_count": 34,
   "id": "7335ed8f",
   "metadata": {},
   "outputs": [],
   "source": [
    "cons = ({'type':'eq', 'fun':check_sum})\n",
    "bounds = ((0,1), (0,1), (0,1), (0,1), (0,1))\n",
    "init_guess = [0.2, 0.2, 0.2, 0.2, 0.2]"
   ]
  },
  {
   "cell_type": "code",
   "execution_count": 35,
   "id": "397b2bb3",
   "metadata": {},
   "outputs": [
    {
     "name": "stdout",
     "output_type": "stream",
     "text": [
      "     fun: -1.0470120457464878\n",
      "     jac: array([ 3.84096354e-02, -5.12301922e-05, -3.15755606e-05,  2.60174274e-04,\n",
      "        5.58644533e-05])\n",
      " message: 'Optimization terminated successfully'\n",
      "    nfev: 54\n",
      "     nit: 9\n",
      "    njev: 9\n",
      "  status: 0\n",
      " success: True\n",
      "       x: array([0.        , 0.56155407, 0.08418492, 0.05703138, 0.29722964])\n"
     ]
    }
   ],
   "source": [
    "opt_results = minimize(neg_sharpe, init_guess,method='SLSQP', bounds=bounds, constraints=cons)\n",
    "print(opt_results)"
   ]
  },
  {
   "cell_type": "code",
   "execution_count": 36,
   "id": "c7f23f7e",
   "metadata": {},
   "outputs": [
    {
     "data": {
      "text/plain": [
       "array([0.33916539, 0.32393647, 1.04701205])"
      ]
     },
     "execution_count": 36,
     "metadata": {},
     "output_type": "execute_result"
    }
   ],
   "source": [
    "get_ret_vol_sr(opt_results.x)"
   ]
  },
  {
   "cell_type": "code",
   "execution_count": 37,
   "id": "2fc575d8",
   "metadata": {},
   "outputs": [],
   "source": [
    "frontier_y = np.linspace(0,0.40,200)"
   ]
  },
  {
   "cell_type": "code",
   "execution_count": 38,
   "id": "f398ae25",
   "metadata": {},
   "outputs": [],
   "source": [
    "def minimize_volatility(weights):\n",
    "    return get_ret_vol_sr(weights)[1]"
   ]
  },
  {
   "cell_type": "code",
   "execution_count": 39,
   "id": "bcd33439",
   "metadata": {},
   "outputs": [],
   "source": [
    "frontier_x = []\n",
    "\n",
    "for possible_return in frontier_y:\n",
    "    cons = ({'type':'eq', 'fun':check_sum},\n",
    "            {'type':'eq', 'fun': lambda w: get_ret_vol_sr(w)[0] - possible_return})\n",
    "    \n",
    "    result = minimize(minimize_volatility,init_guess,method='SLSQP', bounds=bounds, constraints=cons)\n",
    "    frontier_x.append(result['fun'])"
   ]
  },
  {
   "cell_type": "code",
   "execution_count": 44,
   "id": "92e58a3d",
   "metadata": {},
   "outputs": [
    {
     "data": {
      "image/png": "[encoded data removed]",
      "text/plain": [
       "<Figure size 864x576 with 2 Axes>"
      ]
     },
     "metadata": {
      "needs_background": "light"
     },
     "output_type": "display_data"
    }
   ],
   "source": [
    "plt.figure(figsize=(12,8))\n",
    "plt.scatter(vol_arr, ret_arr, c=sharpe_arr, cmap='viridis')\n",
    "plt.colorbar(label='Sharpe Ratio')\n",
    "plt.xlabel('Volatility')\n",
    "plt.ylabel('Return')\n",
    "plt.scatter(maxSR_vol, maxSR_return,c='cyan', s=100) # red dot\n",
    "plt.plot(frontier_x,frontier_y, 'r--', linewidth=3)\n",
    "plt.show()"
   ]
  },
  {
   "cell_type": "code",
   "execution_count": null,
   "id": "cde77571",
   "metadata": {},
   "outputs": [],
   "source": []
  }
 ],
 "metadata": {
  "kernelspec": {
   "display_name": "Python 3 (ipykernel)",
   "language": "python",
   "name": "python3"
  },
  "language_info": {
   "codemirror_mode": {
    "name": "ipython",
    "version": 3
   },
   "file_extension": ".py",
   "mimetype": "text/x-python",
   "name": "python",
   "nbconvert_exporter": "python",
   "pygments_lexer": "ipython3",
   "version": "3.10.5"
  }
 },
 "nbformat": 4,
 "nbformat_minor": 5
}
