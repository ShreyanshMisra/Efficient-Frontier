{
 "cells": [
  {
   "cell_type": "markdown",
   "id": "f56f1700",
   "metadata": {},
   "source": [
    "Shreyansh Misra"
   ]
  },
  {
   "cell_type": "markdown",
   "id": "8bfc0f16",
   "metadata": {},
   "source": [
    "# I. Creating the Datasets"
   ]
  },
  {
   "cell_type": "markdown",
   "id": "e25897f1",
   "metadata": {},
   "source": [
    "###### Importing Dependencies"
   ]
  },
  {
   "cell_type": "code",
   "execution_count": 1,
   "id": "39b64d57",
   "metadata": {},
   "outputs": [],
   "source": [
    "import requests\n",
    "import re\n",
    "import numpy as np\n",
    "from bs4 import BeautifulSoup as bs"
   ]
  },
  {
   "cell_type": "markdown",
   "id": "0b6fc581",
   "metadata": {},
   "source": [
    "###### List of S&P500 Compaines and their Weights"
   ]
  },
  {
   "cell_type": "markdown",
   "id": "9d90eea3",
   "metadata": {},
   "source": [
    "The S&P500 is an index tracking the stock performance of the top 500 publicly traded companies in the United States by market capitalization. The depth and diversity of the index makes it one of the best gagues of prominent American equities' performance, and by extension, that of the stock market overall. This dataset was selected as companies within the S&P500 are well established and have large market capitalizations in a variety of industires, thereby making them low-risk equities for investment."
   ]
  },
  {
   "cell_type": "code",
   "execution_count": 2,
   "id": "d0ad479c",
   "metadata": {},
   "outputs": [],
   "source": [
    "sp500_url = \"https://thirsty-golick-fbd29a.netlify.app/table\""
   ]
  },
  {
   "cell_type": "markdown",
   "id": "31204d38",
   "metadata": {},
   "source": [
    "###### Web Scraping"
   ]
  },
  {
   "cell_type": "code",
   "execution_count": 3,
   "id": "82a234db",
   "metadata": {},
   "outputs": [],
   "source": [
    "res = requests.get(sp500_url)\n",
    "soup = bs(res.text, 'html.parser')\n",
    "\n",
    "table = soup.findAll('table')[0].findAll('tbody')"
   ]
  },
  {
   "cell_type": "markdown",
   "id": "7a70117e",
   "metadata": {},
   "source": [
    "###### List of Stock Tickers"
   ]
  },
  {
   "cell_type": "code",
   "execution_count": 4,
   "id": "9747b4e0",
   "metadata": {},
   "outputs": [
    {
     "data": {
      "text/plain": [
       "('\\n class=\"g-0lax\"span syle=\"fon-weigh:400;fon-syle:nomal;ex-ecoaion:none;colo:#000;backgoun-colo:anspaen\"MSFT',\n",
       " '\\n class=\"g-0lax\"span syle=\"fon-weigh:400;fon-syle:nomal;ex-ecoaion:none;colo:#000;backgoun-colo:anspaen\"AAPL',\n",
       " '\\n class=\"g-0lax\"span syle=\"fon-weigh:400;fon-syle:nomal;ex-ecoaion:none;colo:#000;backgoun-colo:anspaen\"AMZN')"
      ]
     },
     "execution_count": 4,
     "metadata": {},
     "output_type": "execute_result"
    }
   ],
   "source": [
    "SP500 = []\n",
    "\n",
    "#\n",
    "for i, ticker in enumerate(table[0]):\n",
    "    if len(ticker) > 1:\n",
    "        \n",
    "        #\n",
    "        text = re.sub(r\"[<trd>]\", \"\", str(ticker))\n",
    "        text = text.split('/')\n",
    "        \n",
    "        SP500.append(text[4])\n",
    "        \n",
    "        \n",
    "SP500[0], SP500[1], SP500[2]"
   ]
  },
  {
   "cell_type": "markdown",
   "id": "2a00e4c6",
   "metadata": {},
   "source": [
    "###### Cleaning Tickers Dataset"
   ]
  },
  {
   "cell_type": "code",
   "execution_count": 5,
   "id": "41bd0c23",
   "metadata": {},
   "outputs": [
    {
     "name": "stdout",
     "output_type": "stream",
     "text": [
      "['MSFT', 'AAPL', 'AMZN', 'TSLA', 'GOOGL', 'GOOG', 'FB', 'NVDA', 'BRK.B', 'JPM', 'JNJ', 'UNH', 'HD', 'V', 'PG', 'BAC', 'DIS', 'ADBE', 'MA', 'CRM', 'NFLX', 'XOM', 'PFE', 'PYPL', 'CMCSA', 'TMO', 'CSCO', 'ACN', 'PEP', 'AVGO', 'NKE', 'COST', 'CVX', 'KO', 'ABT', 'VZ', 'WMT', 'LLY', 'WFC', 'ABBV', 'INTC', 'MRK', 'MCD', 'DHR', 'QCOM', 'T', 'TXN', 'LIN', 'INTU', 'NEE', 'LOW', 'AMD', 'MDT', 'ORCL', 'HON', 'UNP', 'UPS', 'PM', 'MS', 'AMAT', 'SBUX', 'RTX', 'GS', 'NOW', 'BLK', 'C', 'BMY', 'ISRG', 'AMT', 'TGT', 'CVS', 'BA', 'SCHW', 'AMGN', 'GE', 'AXP', 'CAT', 'SPGI', 'IBM', 'PLD', 'BKNG', 'MMM', 'ANTM', 'ZTS', 'COP', 'DE', 'ADI', 'ADP', 'SYK', 'PNC', 'CHTR', 'LRCX', 'MDLZ', 'TJX', 'TFC', 'GM', 'CB', 'LMT', 'MO', 'GILD', 'MU', 'USB', 'MMC', 'EL', 'CSX', 'CME', 'DUK', 'CCI', 'SHW', 'ICE', 'F', 'EW', 'CI', 'TMUS', 'ADSK', 'FIS', 'EQIX', 'NSC', 'BDX', 'COF', 'APD', 'ETN', 'ITW', 'SO', 'CL', 'AON', 'REGN', 'KLAC', 'MCO', 'WM', 'D', 'DXCM', 'BSX', 'HCA', 'ILMN', 'FISV', 'FDX', 'NXPI', 'EMR', 'HUM', 'ECL', 'PGR', 'SPG', 'EOG', 'NOC', 'FCX', 'IDXX', 'MSCI', 'DG', 'JCI', 'EXC', 'ATVI', 'TEL', 'SNPS', 'ROP', 'INFO', 'AIG', 'CMG', 'TROW', 'VRTX', 'ALGN', 'CDNS', 'PSA', 'XLNX', 'APH', 'EBAY', 'A', 'IQV', 'APTV', 'MCHP', 'SLB', 'BK', 'MET', 'GD', 'FTNT', 'MAR', 'CARR', 'NEM', 'LHX', 'KMB', 'MTCH', 'ORLY', 'DLR', 'TT', 'SIVB', 'DOW', 'CNC', 'PRU', 'ROST', 'AEP', 'TWTR', 'HLT', 'DD', 'PXD', 'PH', 'CTSH', 'MPC', 'MSI', 'SYY', 'BIIB', 'SRE', 'GPN', 'PAYX', 'TRV', 'EA', 'O', 'ROK', 'AZO', 'BAX', 'PPG', 'CTAS', 'FRC', 'HPQ', 'GIS', 'RMD', 'SBAC', 'STZ', 'YUM', 'ADM', 'WBA', 'CBRE', 'IFF', 'WELL', 'ANSS', 'MTD', 'AFL', 'STT', 'CTVA', 'DFS', 'OTIS', 'TDG', 'AMP', 'WMB', 'EFX', 'ALL', 'VRSK', 'XEL', 'MCK', 'MNST', 'PSX', 'CMI', 'KEYS', 'FAST', 'AVB', 'AJG', 'KMI', 'NUE', 'ODFL', 'AME', 'PEG', 'ZBRA', 'CPRT', 'ENPH', 'ALB', 'VLO', 'ETSY', 'PCAR', 'LUV', 'AWK', 'FITB', 'DHI', 'WST', 'WLTW', 'SWK', 'OXY', 'ZBH', 'BLL', 'GLW', 'ANET', 'ES', 'BBY', 'OKE', 'EQR', 'KR', 'WY', 'WEC', 'LEN', 'ARE', 'URI', 'DAL', 'FTV', 'KSU', 'SYF', 'GNRC', 'RSG', 'IT', 'DVN', 'SWKS', 'ED', 'LH', 'EXR', 'VMC', 'EXPE', 'NTRS', 'MLM', 'CDW', 'DLTR', 'HSY', 'KMX', 'TSCO', 'HIG', 'NDAQ', 'KHC', 'DOV', 'EIX', 'PAYC', 'LYB', 'TSN', 'VFC', 'XYL', 'HBAN', 'MPWR', 'MAA', 'RF', 'IR', 'HES', 'KEY', 'VRSN', 'TER', 'CZR', 'CERN', 'DTE', 'PPL', 'STE', 'AEE', 'VIAC', 'HAL', 'ESS', 'TYL', 'CHD', 'TRMB', 'TTWO', 'ULTA', 'GRMN', 'RCL', 'EXPD', 'FE', 'DRE', 'WAT', 'ETR', 'COO', 'TDY', 'CTLT', 'POOL', 'GWW', 'BKR', 'NTAP', 'VTR', 'CFG', 'MKC', 'MGM', 'FLT', 'HPE', 'BR', 'DRI', 'CLX', 'MTB', 'BBWI', 'CCL', 'GPC', 'STX', 'FANG', 'TECH', 'IP', 'ABC', 'PKI', 'CINF', 'CRL', 'CE', 'AVY', 'AMCR', 'J', 'RJF', 'PEAK', 'DPZ', 'IEX', 'WAB', 'CMS', 'HOLX', 'CTRA', 'AKAM', 'QRVO', 'TXT', 'WDC', 'PFG', 'NVR', 'DGX', 'UAL', 'CDAY', 'AES', 'BXP', 'VTRS', 'TFX', 'ABMD', 'PWR', 'LYV', 'JBHT', 'MAS', 'K', 'CAG', 'CNP', 'BIO', 'LKQ', 'UDR', 'EMN', 'AAP', 'EVRG', 'OMC', 'KIM', 'MKTX', 'BRO', 'NLOK', 'CAH', 'IPG', 'CBOE', 'LNT', 'FBHS', 'LVS', 'AAL', 'LUMN', 'IRM', 'FMC', 'WHR', 'SJM', 'MRO', 'FOXA', 'PTC', 'FFIV', 'RHI', 'BF.B', 'PHM', 'HST', 'WRK', 'MOS', 'HWM', 'PKG', 'LNC', 'INCY', 'CF', 'LDOS', 'CHRW', 'HAS', 'PNR', 'ATO', 'HRL', 'XRAY', 'TPR', 'ALLE', 'JKHY', 'CMA', 'L', 'REG', 'SNA', 'APA', 'WRB', 'BWA', 'HSIC', 'CTXS', 'RE', 'NCLH', 'ZION', 'AOS', 'WYNN', 'JNPR', 'MHK', 'BEN', 'NI', 'UHS', 'NWSA', 'AIZ', 'DISH', 'SEE', 'FRT', 'PENN', 'OGN', 'NWL', 'NRG', 'GL', 'IVZ', 'TAP', 'PVH', 'DXC', 'LW', 'CPB', 'ROL', 'HII', 'PBCT', 'NLSN', 'DISCK', 'ALK', 'DVA', 'WU', 'PNW', 'VNO', 'HBI', 'IPGP', 'RL', 'LEG', 'FOX', 'GPS', 'UAA', 'DISCA', 'UA', 'NWS']\n"
     ]
    }
   ],
   "source": [
    "# removing text styling prefix\n",
    "SP500 = [value.removeprefix('\\n class=\"g-0lax\"span syle=\"fon-weigh:400;fon-syle:nomal;ex-ecoaion:none;colo:#000;backgoun-colo:anspaen\"') for value in SP500]\n",
    "\n",
    "# removing element 99 \"span\"\n",
    "SP500.pop(99)\n",
    "\n",
    "\n",
    "print(SP500)"
   ]
  },
  {
   "cell_type": "markdown",
   "id": "bd99cde5",
   "metadata": {},
   "source": [
    "###### List of Stock Tickers"
   ]
  },
  {
   "cell_type": "code",
   "execution_count": 6,
   "id": "828b2a73",
   "metadata": {},
   "outputs": [
    {
     "data": {
      "text/plain": [
       "('\\n class=\"g-0lax\"span syle=\"fon-weigh:400;fon-syle:nomal;ex-ecoaion:none;colo:#000;backgoun-colo:anspaen\"6.33576',\n",
       " '\\n class=\"g-0lax\"span syle=\"fon-weigh:400;fon-syle:nomal;ex-ecoaion:none;colo:#000;backgoun-colo:anspaen\"5.95990',\n",
       " '\\n class=\"g-0lax\"span syle=\"fon-weigh:400;fon-syle:nomal;ex-ecoaion:none;colo:#000;backgoun-colo:anspaen\"3.84511')"
      ]
     },
     "execution_count": 6,
     "metadata": {},
     "output_type": "execute_result"
    }
   ],
   "source": [
    "weight500 = []\n",
    "\n",
    "#\n",
    "for i, ticker in enumerate(table[0]):\n",
    "    if len(ticker) > 1:\n",
    "        \n",
    "        text = re.sub(r\"[<trd>]\", \"\", str(ticker))\n",
    "        text = text.split('/')\n",
    "        \n",
    "        weight500.append(text[6])\n",
    "\n",
    "weight500[0], weight500[1], weight500[2]"
   ]
  },
  {
   "cell_type": "markdown",
   "id": "8985f66a",
   "metadata": {},
   "source": [
    "###### Cleaning Weights Dataset"
   ]
  },
  {
   "cell_type": "code",
   "execution_count": 7,
   "id": "a12f8b38",
   "metadata": {},
   "outputs": [
    {
     "data": {
      "text/plain": [
       "'span'"
      ]
     },
     "execution_count": 7,
     "metadata": {},
     "output_type": "execute_result"
    }
   ],
   "source": [
    "# removing text styling prefix\n",
    "weight500 = [value.removeprefix('\\n class=\"g-0lax\"span syle=\"fon-weigh:400;fon-syle:nomal;ex-ecoaion:none;colo:#000;backgoun-colo:anspaen\"') for value in weight500]\n",
    "\n",
    "# removing element 99 \"span\"\n",
    "weight500.pop(99)"
   ]
  },
  {
   "cell_type": "markdown",
   "id": "27020258",
   "metadata": {},
   "source": [
    "###### Converting Weights from Percentage to Decimals"
   ]
  },
  {
   "cell_type": "code",
   "execution_count": 8,
   "id": "926dccf1",
   "metadata": {},
   "outputs": [
    {
     "name": "stdout",
     "output_type": "stream",
     "text": [
      "Pass\n",
      "[0.0634, 0.0596, 0.0385, 0.0249, 0.0225, 0.0211, 0.0204, 0.0186, 0.0134, 0.0126, 0.0108, 0.0108, 0.0098, 0.0092, 0.0089, 0.0087, 0.008, 0.0079, 0.0076, 0.0075, 0.0072, 0.0069, 0.0068, 0.0067, 0.0062, 0.0061, 0.006, 0.0059, 0.0058, 0.0058, 0.0057, 0.0057, 0.0056, 0.0055, 0.0055, 0.0054, 0.0054, 0.0053, 0.0052, 0.0052, 0.0052, 0.0052, 0.0048, 0.0047, 0.0046, 0.0045, 0.0045, 0.0043, 0.0042, 0.0042, 0.0042, 0.0042, 0.0041, 0.0039, 0.0039, 0.0039, 0.0038, 0.0037, 0.0037, 0.0035, 0.0035, 0.0035, 0.0034, 0.0034, 0.0034, 0.0034, 0.0033, 0.0033, 0.0032, 0.0032, 0.0031, 0.0031, 0.0031, 0.003, 0.003, 0.0029, 0.0028, 0.0028, 0.0028, 0.0027, 0.0027, 0.0026, 0.0026, 0.0026, 0.0025, 0.0025, 0.0025, 0.0024, 0.0023, 0.0022, 0.0022, 0.0022, 0.0022, 0.0022, 0.0022, 0.0021, 0.0021, 0.0021, 0.0021, 0.0021, 0.0021, 0.0021, 0.0021, 0.002, 0.002, 0.002, 0.002, 0.002, 0.0019, 0.0019, 0.0019, 0.0019, 0.0018, 0.0018, 0.0018, 0.0018, 0.0018, 0.0018, 0.0018, 0.0017, 0.0017, 0.0017, 0.0017, 0.0017, 0.0016, 0.0016, 0.0016, 0.0016, 0.0016, 0.0016, 0.0016, 0.0015, 0.0015, 0.0015, 0.0015, 0.0015, 0.0015, 0.0015, 0.0015, 0.0015, 0.0014, 0.0014, 0.0014, 0.0014, 0.0014, 0.0014, 0.0014, 0.0014, 0.0013, 0.0013, 0.0013, 0.0013, 0.0013, 0.0013, 0.0013, 0.0013, 0.0013, 0.0013, 0.0013, 0.0013, 0.0013, 0.0012, 0.0012, 0.0012, 0.0012, 0.0012, 0.0012, 0.0012, 0.0012, 0.0012, 0.0012, 0.0012, 0.0012, 0.0012, 0.0012, 0.0012, 0.0011, 0.0011, 0.0011, 0.0011, 0.0011, 0.0011, 0.0011, 0.0011, 0.0011, 0.0011, 0.0011, 0.0011, 0.0011, 0.0011, 0.0011, 0.0011, 0.0011, 0.0011, 0.0011, 0.0011, 0.0011, 0.0011, 0.001, 0.001, 0.001, 0.001, 0.001, 0.001, 0.001, 0.001, 0.001, 0.001, 0.001, 0.001, 0.001, 0.001, 0.001, 0.001, 0.001, 0.0009, 0.0009, 0.0009, 0.0009, 0.0009, 0.0009, 0.0009, 0.0009, 0.0009, 0.0009, 0.0009, 0.0009, 0.0009, 0.0009, 0.0009, 0.0009, 0.0009, 0.0009, 0.0009, 0.0009, 0.0009, 0.0009, 0.0009, 0.0009, 0.0009, 0.0009, 0.0008, 0.0008, 0.0008, 0.0008, 0.0008, 0.0008, 0.0008, 0.0008, 0.0008, 0.0008, 0.0008, 0.0008, 0.0008, 0.0008, 0.0008, 0.0008, 0.0008, 0.0008, 0.0008, 0.0008, 0.0007, 0.0007, 0.0007, 0.0007, 0.0007, 0.0007, 0.0007, 0.0007, 0.0007, 0.0007, 0.0007, 0.0007, 0.0007, 0.0007, 0.0007, 0.0007, 0.0007, 0.0007, 0.0007, 0.0007, 0.0007, 0.0007, 0.0007, 0.0007, 0.0007, 0.0007, 0.0007, 0.0007, 0.0007, 0.0007, 0.0007, 0.0007, 0.0006, 0.0006, 0.0006, 0.0006, 0.0006, 0.0006, 0.0006, 0.0006, 0.0006, 0.0006, 0.0006, 0.0006, 0.0006, 0.0006, 0.0006, 0.0006, 0.0006, 0.0006, 0.0006, 0.0006, 0.0006, 0.0006, 0.0006, 0.0006, 0.0006, 0.0006, 0.0006, 0.0006, 0.0006, 0.0006, 0.0006, 0.0006, 0.0006, 0.0006, 0.0006, 0.0005, 0.0005, 0.0005, 0.0005, 0.0005, 0.0005, 0.0005, 0.0005, 0.0005, 0.0005, 0.0005, 0.0005, 0.0005, 0.0005, 0.0005, 0.0005, 0.0005, 0.0005, 0.0005, 0.0005, 0.0005, 0.0005, 0.0005, 0.0005, 0.0005, 0.0005, 0.0005, 0.0005, 0.0005, 0.0005, 0.0005, 0.0005, 0.0005, 0.0005, 0.0005, 0.0005, 0.0005, 0.0005, 0.0005, 0.0005, 0.0005, 0.0005, 0.0005, 0.0005, 0.0005, 0.0005, 0.0005, 0.0004, 0.0004, 0.0004, 0.0004, 0.0004, 0.0004, 0.0004, 0.0004, 0.0004, 0.0004, 0.0004, 0.0004, 0.0004, 0.0004, 0.0004, 0.0004, 0.0004, 0.0004, 0.0004, 0.0004, 0.0004, 0.0004, 0.0004, 0.0004, 0.0004, 0.0004, 0.0004, 0.0004, 0.0004, 0.0004, 0.0004, 0.0004, 0.0004, 0.0004, 0.0004, 0.0004, 0.0004, 0.0004, 0.0004, 0.0004, 0.0004, 0.0004, 0.0004, 0.0004, 0.0004, 0.0003, 0.0003, 0.0003, 0.0003, 0.0003, 0.0003, 0.0003, 0.0003, 0.0003, 0.0003, 0.0003, 0.0003, 0.0003, 0.0003, 0.0003, 0.0003, 0.0003, 0.0003, 0.0003, 0.0003, 0.0003, 0.0003, 0.0003, 0.0003, 0.0003, 0.0003, 0.0003, 0.0003, 0.0003, 0.0003, 0.0003, 0.0003, 0.0003, 0.0003, 0.0003, 0.0003, 0.0003, 0.0003, 0.0003, 0.0003, 0.0003, 0.0003, 0.0003, 0.0003, 0.0002, 0.0002, 0.0002, 0.0002, 0.0002, 0.0002, 0.0002, 0.0002, 0.0002, 0.0002, 0.0002, 0.0002, 0.0002, 0.0002, 0.0002, 0.0002, 0.0002, 0.0002, 0.0002, 0.0002, 0.0002, 0.0002, 0.0002, 0.0002, 0.0002, 0.0002, 0.0002, 0.0002, 0.0002, 0.0002, 0.0002, 0.0002, 0.0002, 0.0001, 0.0001, 0.0001, 0.0001, 0.0001, 0.0001, 0.0001]\n"
     ]
    }
   ],
   "source": [
    "# converting weight500 elements from strings to floats\n",
    "weight500 = list(np.float_(weight500))\n",
    "\n",
    "# dividing all weights by 100\n",
    "weight500[:] = [x / 100 for x in weight500]\n",
    "\n",
    "# round all weights to four decimal places\n",
    "weight500[:] = [round(num, 4) for num in weight500]\n",
    "\n",
    "# weights cannot equal zero\n",
    "if any(i == 0.0000 for i in weight500):\n",
    "    print(\"Fail\")\n",
    "else:\n",
    "    print(\"Pass\")\n",
    "\n",
    "print(weight500)"
   ]
  },
  {
   "cell_type": "markdown",
   "id": "dfffc511",
   "metadata": {},
   "source": [
    "###### Checking Lengths of Datasets"
   ]
  },
  {
   "cell_type": "markdown",
   "id": "a270a4c6",
   "metadata": {},
   "source": [
    "Weights will correspond to a stock ticker of the same index. Ensuring that the two lists have the same length ensures that there aren't any missing elements and that the weights correspond to the right ticker. We also observe that the S&P500 does not have exactly 500 tickers. This is because some companies have multiple classes of shares with large market capitalizations. For example, Alphabet (holding company of Google) lists both GOOG and GOOGL."
   ]
  },
  {
   "cell_type": "code",
   "execution_count": 9,
   "id": "dbb7cb02",
   "metadata": {},
   "outputs": [
    {
     "data": {
      "text/plain": [
       "(504, 504)"
      ]
     },
     "execution_count": 9,
     "metadata": {},
     "output_type": "execute_result"
    }
   ],
   "source": [
    "numTickers = len(SP500)\n",
    "numWeights = len(weight500)\n",
    "\n",
    "(numTickers, numWeights)"
   ]
  },
  {
   "cell_type": "markdown",
   "id": "1820f379",
   "metadata": {},
   "source": [
    "\n",
    "\n",
    "\n"
   ]
  },
  {
   "cell_type": "markdown",
   "id": "cc1d67ce",
   "metadata": {},
   "source": [
    "\n",
    "\n",
    "\n"
   ]
  },
  {
   "cell_type": "markdown",
   "id": "883d32df",
   "metadata": {},
   "source": [
    "\n",
    "\n",
    "\n"
   ]
  },
  {
   "cell_type": "markdown",
   "id": "6e864683",
   "metadata": {},
   "source": [
    "\n",
    "\n",
    "\n"
   ]
  },
  {
   "cell_type": "markdown",
   "id": "10447360",
   "metadata": {},
   "source": [
    "\n",
    "\n",
    "\n"
   ]
  },
  {
   "cell_type": "markdown",
   "id": "57116b36",
   "metadata": {},
   "source": [
    "# II. Screening Stocks"
   ]
  },
  {
   "cell_type": "markdown",
   "id": "23af96a0",
   "metadata": {},
   "source": [
    "###### Importing Dependencies"
   ]
  },
  {
   "cell_type": "code",
   "execution_count": 10,
   "id": "23cf6bdd",
   "metadata": {},
   "outputs": [],
   "source": [
    "import time\n",
    "import os\n",
    "import pandas as pd\n",
    "import pickle as pkl"
   ]
  },
  {
   "cell_type": "markdown",
   "id": "5c98457d",
   "metadata": {},
   "source": [
    "###### Ameritrade API"
   ]
  },
  {
   "cell_type": "markdown",
   "id": "d439aa7b",
   "metadata": {},
   "source": [
    "Ameritrade's API provides free stock data for almost all publicly traded stocks in the United States. As API keys are confidential, my Ameritrade API key was stored within a `keys.py` file. "
   ]
  },
  {
   "cell_type": "code",
   "execution_count": 11,
   "id": "267cf491",
   "metadata": {},
   "outputs": [],
   "source": [
    "from keys import ameritrade\n",
    "url = 'https://api.tdameritrade.com/v1/instruments'"
   ]
  },
  {
   "cell_type": "code",
   "execution_count": 12,
   "id": "b1607595",
   "metadata": {},
   "outputs": [],
   "source": [
    "def getMetrics(tickers):\n",
    "    \n",
    "    # ameritrade has limits on how many requests at a time\n",
    "    start = 0\n",
    "    end = 500\n",
    "    \n",
    "    while start < len(tickers):\n",
    "        tickers = tickers[start:end]\n",
    "    \n",
    "        # api\n",
    "        payload = {'apikey':ameritrade,\n",
    "                   'symbol': tickers,\n",
    "                   'projection':'fundamental'}\n",
    "\n",
    "        results = requests.get(url,params=payload)\n",
    "        data = results.json()\n",
    "\n",
    "        # file\n",
    "        name = 'temp' + '.pkL'\n",
    "\n",
    "        files = []\n",
    "        files.append(name)\n",
    "\n",
    "        with open(name, 'wb') as file:\n",
    "                pkl.dump(data, file)\n",
    "            \n",
    "        start = end\n",
    "        end += 500\n",
    "\n",
    "        time.sleep(1)\n",
    "    \n",
    "    \n",
    "    #\n",
    "    StockData = []\n",
    "\n",
    "    for file in files:\n",
    "        with open(file, 'rb') as f:\n",
    "            info = pkl.load(f)\n",
    "\n",
    "        tickers = list(info)\n",
    "        metrics = ['symbol', 'peRatio', 'pegRatio', 'returnOnEquity', 'returnOnEquity']\n",
    "\n",
    "        for ticker in tickers:\n",
    "            row = []\n",
    "\n",
    "            for metric in metrics:\n",
    "                row.append(info[ticker]['fundamental'][metric])\n",
    "\n",
    "            StockData.append(row)\n",
    "\n",
    "        os.remove(file)\n",
    "    \n",
    "    # dataframe\n",
    "    Titles = ['Ticker', 'Price to Earnings Ratio', 'Price to Earnings Growth', 'Return on Equity', 'Earnings Per Share Growth']\n",
    "    df = pd.DataFrame(StockData, columns=Titles)\n",
    "\n",
    "    return df        "
   ]
  },
  {
   "cell_type": "markdown",
   "id": "d15e7d0b",
   "metadata": {},
   "source": [
    "###### Stock Metrics Dataframe"
   ]
  },
  {
   "cell_type": "markdown",
   "id": "2bf0c20f",
   "metadata": {},
   "source": [
    "Notice that there are 493 stocks listed in the dataframe, rather than the 504 stocks listed in the list `SP500`. This indicates that we were not able to find information for 11 stocks."
   ]
  },
  {
   "cell_type": "code",
   "execution_count": 13,
   "id": "01eb4466",
   "metadata": {},
   "outputs": [
    {
     "data": {
      "text/html": [
       "<div>\n",
       "<style scoped>\n",
       "    .dataframe tbody tr th:only-of-type {\n",
       "        vertical-align: middle;\n",
       "    }\n",
       "\n",
       "    .dataframe tbody tr th {\n",
       "        vertical-align: top;\n",
       "    }\n",
       "\n",
       "    .dataframe thead th {\n",
       "        text-align: right;\n",
       "    }\n",
       "</style>\n",
       "<table border=\"1\" class=\"dataframe\">\n",
       "  <thead>\n",
       "    <tr style=\"text-align: right;\">\n",
       "      <th></th>\n",
       "      <th>Ticker</th>\n",
       "      <th>Price to Earnings Ratio</th>\n",
       "      <th>Price to Earnings Growth</th>\n",
       "      <th>Return on Equity</th>\n",
       "      <th>Earnings Per Share Growth</th>\n",
       "    </tr>\n",
       "  </thead>\n",
       "  <tbody>\n",
       "    <tr>\n",
       "      <th>0</th>\n",
       "      <td>TER</td>\n",
       "      <td>21.98038</td>\n",
       "      <td>0.000000</td>\n",
       "      <td>34.92339</td>\n",
       "      <td>34.92339</td>\n",
       "    </tr>\n",
       "    <tr>\n",
       "      <th>1</th>\n",
       "      <td>IPG</td>\n",
       "      <td>12.25141</td>\n",
       "      <td>0.391201</td>\n",
       "      <td>30.36495</td>\n",
       "      <td>30.36495</td>\n",
       "    </tr>\n",
       "    <tr>\n",
       "      <th>2</th>\n",
       "      <td>LVS</td>\n",
       "      <td>0.00000</td>\n",
       "      <td>0.000000</td>\n",
       "      <td>0.00000</td>\n",
       "      <td>0.00000</td>\n",
       "    </tr>\n",
       "    <tr>\n",
       "      <th>3</th>\n",
       "      <td>WYNN</td>\n",
       "      <td>0.00000</td>\n",
       "      <td>0.000000</td>\n",
       "      <td>0.00000</td>\n",
       "      <td>0.00000</td>\n",
       "    </tr>\n",
       "    <tr>\n",
       "      <th>4</th>\n",
       "      <td>TFC</td>\n",
       "      <td>11.73398</td>\n",
       "      <td>0.767079</td>\n",
       "      <td>10.03857</td>\n",
       "      <td>10.03857</td>\n",
       "    </tr>\n",
       "    <tr>\n",
       "      <th>...</th>\n",
       "      <td>...</td>\n",
       "      <td>...</td>\n",
       "      <td>...</td>\n",
       "      <td>...</td>\n",
       "      <td>...</td>\n",
       "    </tr>\n",
       "    <tr>\n",
       "      <th>488</th>\n",
       "      <td>GRMN</td>\n",
       "      <td>19.07120</td>\n",
       "      <td>0.000000</td>\n",
       "      <td>17.72269</td>\n",
       "      <td>17.72269</td>\n",
       "    </tr>\n",
       "    <tr>\n",
       "      <th>489</th>\n",
       "      <td>CCL</td>\n",
       "      <td>0.00000</td>\n",
       "      <td>0.000000</td>\n",
       "      <td>0.00000</td>\n",
       "      <td>0.00000</td>\n",
       "    </tr>\n",
       "    <tr>\n",
       "      <th>490</th>\n",
       "      <td>FIS</td>\n",
       "      <td>74.14937</td>\n",
       "      <td>0.085784</td>\n",
       "      <td>1.78297</td>\n",
       "      <td>1.78297</td>\n",
       "    </tr>\n",
       "    <tr>\n",
       "      <th>491</th>\n",
       "      <td>BAX</td>\n",
       "      <td>30.28800</td>\n",
       "      <td>0.000000</td>\n",
       "      <td>11.65216</td>\n",
       "      <td>11.65216</td>\n",
       "    </tr>\n",
       "    <tr>\n",
       "      <th>492</th>\n",
       "      <td>TEL</td>\n",
       "      <td>17.96720</td>\n",
       "      <td>0.355358</td>\n",
       "      <td>24.54102</td>\n",
       "      <td>24.54102</td>\n",
       "    </tr>\n",
       "  </tbody>\n",
       "</table>\n",
       "<p>493 rows × 5 columns</p>\n",
       "</div>"
      ],
      "text/plain": [
       "    Ticker  Price to Earnings Ratio  Price to Earnings Growth  \\\n",
       "0      TER                 21.98038                  0.000000   \n",
       "1      IPG                 12.25141                  0.391201   \n",
       "2      LVS                  0.00000                  0.000000   \n",
       "3     WYNN                  0.00000                  0.000000   \n",
       "4      TFC                 11.73398                  0.767079   \n",
       "..     ...                      ...                       ...   \n",
       "488   GRMN                 19.07120                  0.000000   \n",
       "489    CCL                  0.00000                  0.000000   \n",
       "490    FIS                 74.14937                  0.085784   \n",
       "491    BAX                 30.28800                  0.000000   \n",
       "492    TEL                 17.96720                  0.355358   \n",
       "\n",
       "     Return on Equity  Earnings Per Share Growth  \n",
       "0            34.92339                   34.92339  \n",
       "1            30.36495                   30.36495  \n",
       "2             0.00000                    0.00000  \n",
       "3             0.00000                    0.00000  \n",
       "4            10.03857                   10.03857  \n",
       "..                ...                        ...  \n",
       "488          17.72269                   17.72269  \n",
       "489           0.00000                    0.00000  \n",
       "490           1.78297                    1.78297  \n",
       "491          11.65216                   11.65216  \n",
       "492          24.54102                   24.54102  \n",
       "\n",
       "[493 rows x 5 columns]"
      ]
     },
     "execution_count": 13,
     "metadata": {},
     "output_type": "execute_result"
    }
   ],
   "source": [
    "metrics500 = getMetrics(tickers=SP500)\n",
    "metrics500"
   ]
  },
  {
   "cell_type": "markdown",
   "id": "e7caebf1",
   "metadata": {},
   "source": [
    "###### Screening Stocks"
   ]
  },
  {
   "cell_type": "markdown",
   "id": "d59ca86e",
   "metadata": {},
   "source": [
    "The proccess of screening stocks varies from person to person. There are a large number of factor models, stock metrics, and alternative data sources that can be taken into account whilst screening stocks. For the simplicity of this project, I chose the metrics Net Profit Margin, Price to Earnings Ratio, Growth in Price to Earnings Ratio, and the 52 Week High in order to assess the stocks. Assuming that a stock met the conditions for each of these metrics, it would pass the screening and would be a part of the final portfolio."
   ]
  },
  {
   "cell_type": "markdown",
   "id": "24e43f74",
   "metadata": {},
   "source": [
    "The conditions themselves in LaTex"
   ]
  },
  {
   "cell_type": "code",
   "execution_count": 14,
   "id": "de33e2ac",
   "metadata": {},
   "outputs": [
    {
     "data": {
      "text/html": [
       "<div>\n",
       "<style scoped>\n",
       "    .dataframe tbody tr th:only-of-type {\n",
       "        vertical-align: middle;\n",
       "    }\n",
       "\n",
       "    .dataframe tbody tr th {\n",
       "        vertical-align: top;\n",
       "    }\n",
       "\n",
       "    .dataframe thead th {\n",
       "        text-align: right;\n",
       "    }\n",
       "</style>\n",
       "<table border=\"1\" class=\"dataframe\">\n",
       "  <thead>\n",
       "    <tr style=\"text-align: right;\">\n",
       "      <th></th>\n",
       "      <th>Ticker</th>\n",
       "      <th>Price to Earnings Ratio</th>\n",
       "      <th>Price to Earnings Growth</th>\n",
       "      <th>Return on Equity</th>\n",
       "      <th>Earnings Per Share Growth</th>\n",
       "    </tr>\n",
       "  </thead>\n",
       "  <tbody>\n",
       "    <tr>\n",
       "      <th>54</th>\n",
       "      <td>V</td>\n",
       "      <td>32.43193</td>\n",
       "      <td>0.896747</td>\n",
       "      <td>42.42532</td>\n",
       "      <td>42.42532</td>\n",
       "    </tr>\n",
       "    <tr>\n",
       "      <th>61</th>\n",
       "      <td>NVDA</td>\n",
       "      <td>50.20367</td>\n",
       "      <td>0.654839</td>\n",
       "      <td>41.95237</td>\n",
       "      <td>41.95237</td>\n",
       "    </tr>\n",
       "    <tr>\n",
       "      <th>173</th>\n",
       "      <td>IT</td>\n",
       "      <td>34.76001</td>\n",
       "      <td>0.951695</td>\n",
       "      <td>382.39060</td>\n",
       "      <td>382.39060</td>\n",
       "    </tr>\n",
       "    <tr>\n",
       "      <th>240</th>\n",
       "      <td>MA</td>\n",
       "      <td>35.89780</td>\n",
       "      <td>0.968701</td>\n",
       "      <td>153.79370</td>\n",
       "      <td>153.79370</td>\n",
       "    </tr>\n",
       "    <tr>\n",
       "      <th>324</th>\n",
       "      <td>VRSK</td>\n",
       "      <td>31.30642</td>\n",
       "      <td>0.561549</td>\n",
       "      <td>41.01540</td>\n",
       "      <td>41.01540</td>\n",
       "    </tr>\n",
       "  </tbody>\n",
       "</table>\n",
       "</div>"
      ],
      "text/plain": [
       "    Ticker  Price to Earnings Ratio  Price to Earnings Growth  \\\n",
       "54       V                 32.43193                  0.896747   \n",
       "61    NVDA                 50.20367                  0.654839   \n",
       "173     IT                 34.76001                  0.951695   \n",
       "240     MA                 35.89780                  0.968701   \n",
       "324   VRSK                 31.30642                  0.561549   \n",
       "\n",
       "     Return on Equity  Earnings Per Share Growth  \n",
       "54           42.42532                   42.42532  \n",
       "61           41.95237                   41.95237  \n",
       "173         382.39060                  382.39060  \n",
       "240         153.79370                  153.79370  \n",
       "324          41.01540                   41.01540  "
      ]
     },
     "execution_count": 14,
     "metadata": {},
     "output_type": "execute_result"
    }
   ],
   "source": [
    "screen = metrics500[(metrics500['Price to Earnings Growth'] < 1 & (metrics500['Price to Earnings Growth'] > 0.4) & (metrics500['Return on Equity'] > 20) & (metrics500['Price to Earnings Ratio'] > 30) & (metrics500['Earnings Per Share Growth'] > 40))]\n",
    "screen"
   ]
  },
  {
   "cell_type": "markdown",
   "id": "8299da53",
   "metadata": {},
   "source": [
    "###### List of Top Stocks and Corresponding Weights"
   ]
  },
  {
   "cell_type": "code",
   "execution_count": 15,
   "id": "e622bfa7",
   "metadata": {},
   "outputs": [
    {
     "data": {
      "text/plain": [
       "(['V', 'NVDA', 'IT', 'MA', 'VRSK'], 5)"
      ]
     },
     "execution_count": 15,
     "metadata": {},
     "output_type": "execute_result"
    }
   ],
   "source": [
    "portfolio = screen.Ticker.values.tolist()\n",
    "portfolio, len(portfolio)"
   ]
  },
  {
   "cell_type": "code",
   "execution_count": 16,
   "id": "a2fd7f1a",
   "metadata": {},
   "outputs": [
    {
     "data": {
      "text/html": [
       "<div>\n",
       "<style scoped>\n",
       "    .dataframe tbody tr th:only-of-type {\n",
       "        vertical-align: middle;\n",
       "    }\n",
       "\n",
       "    .dataframe tbody tr th {\n",
       "        vertical-align: top;\n",
       "    }\n",
       "\n",
       "    .dataframe thead th {\n",
       "        text-align: right;\n",
       "    }\n",
       "</style>\n",
       "<table border=\"1\" class=\"dataframe\">\n",
       "  <thead>\n",
       "    <tr style=\"text-align: right;\">\n",
       "      <th></th>\n",
       "      <th>Index</th>\n",
       "      <th>Ticker</th>\n",
       "      <th>Weight</th>\n",
       "    </tr>\n",
       "  </thead>\n",
       "  <tbody>\n",
       "    <tr>\n",
       "      <th>0</th>\n",
       "      <td>13</td>\n",
       "      <td>V</td>\n",
       "      <td>0.0092</td>\n",
       "    </tr>\n",
       "    <tr>\n",
       "      <th>1</th>\n",
       "      <td>7</td>\n",
       "      <td>NVDA</td>\n",
       "      <td>0.0186</td>\n",
       "    </tr>\n",
       "    <tr>\n",
       "      <th>2</th>\n",
       "      <td>285</td>\n",
       "      <td>IT</td>\n",
       "      <td>0.0007</td>\n",
       "    </tr>\n",
       "    <tr>\n",
       "      <th>3</th>\n",
       "      <td>18</td>\n",
       "      <td>MA</td>\n",
       "      <td>0.0076</td>\n",
       "    </tr>\n",
       "    <tr>\n",
       "      <th>4</th>\n",
       "      <td>235</td>\n",
       "      <td>VRSK</td>\n",
       "      <td>0.0009</td>\n",
       "    </tr>\n",
       "  </tbody>\n",
       "</table>\n",
       "</div>"
      ],
      "text/plain": [
       "   Index Ticker  Weight\n",
       "0     13      V  0.0092\n",
       "1      7   NVDA  0.0186\n",
       "2    285     IT  0.0007\n",
       "3     18     MA  0.0076\n",
       "4    235   VRSK  0.0009"
      ]
     },
     "execution_count": 16,
     "metadata": {},
     "output_type": "execute_result"
    }
   ],
   "source": [
    "hold = []\n",
    "\n",
    "for top in portfolio:\n",
    "    index = SP500.index(top)\n",
    "    weight = weight500[index]\n",
    "    \n",
    "    hold.append([index, top ,weight])\n",
    "\n",
    "\n",
    "df5 = pd.DataFrame(hold)\n",
    "df5.columns =['Index', 'Ticker', 'Weight']\n",
    "\n",
    "df5"
   ]
  },
  {
   "cell_type": "markdown",
   "id": "59fd5b20",
   "metadata": {},
   "source": [
    "###### Adjusting Stock Weights"
   ]
  },
  {
   "cell_type": "markdown",
   "id": "a333f58d",
   "metadata": {},
   "source": [
    "The weights in the df_sw dataframe cannot be used since these are the stock's weightages with respect to the entire S&P500. With 278 stocks removed from the original amount, the weightage of the stocks needs to be adjusted accordingly. In the portfolio, the sum of stock weights should be equal to 100%. Therefore, we can use the formula below to calculate the adjusted weight of the stocks."
   ]
  },
  {
   "cell_type": "markdown",
   "id": "5421a29e",
   "metadata": {},
   "source": [
    "$$\\frac{Weight}{\\sum Weights} = \\frac{Adjusted Weight}{100}$$"
   ]
  },
  {
   "cell_type": "markdown",
   "id": "1dd05cd7",
   "metadata": {},
   "source": [
    "$$Adjusted   Weight = \\frac{Weight}{\\sum Weights} \\times 100 $$ "
   ]
  },
  {
   "cell_type": "code",
   "execution_count": 17,
   "id": "564fec4b",
   "metadata": {},
   "outputs": [
    {
     "data": {
      "text/plain": [
       "0.037"
      ]
     },
     "execution_count": 17,
     "metadata": {},
     "output_type": "execute_result"
    }
   ],
   "source": [
    "#Finding Sum of Weights\n",
    "sumWeights = df5.Weight.values.tolist()\n",
    "sum(sumWeights)"
   ]
  },
  {
   "cell_type": "code",
   "execution_count": 18,
   "id": "020ae145",
   "metadata": {},
   "outputs": [
    {
     "data": {
      "text/html": [
       "<div>\n",
       "<style scoped>\n",
       "    .dataframe tbody tr th:only-of-type {\n",
       "        vertical-align: middle;\n",
       "    }\n",
       "\n",
       "    .dataframe tbody tr th {\n",
       "        vertical-align: top;\n",
       "    }\n",
       "\n",
       "    .dataframe thead th {\n",
       "        text-align: right;\n",
       "    }\n",
       "</style>\n",
       "<table border=\"1\" class=\"dataframe\">\n",
       "  <thead>\n",
       "    <tr style=\"text-align: right;\">\n",
       "      <th></th>\n",
       "      <th>Index</th>\n",
       "      <th>Ticker</th>\n",
       "      <th>AdjustedWeight</th>\n",
       "    </tr>\n",
       "  </thead>\n",
       "  <tbody>\n",
       "    <tr>\n",
       "      <th>0</th>\n",
       "      <td>13</td>\n",
       "      <td>V</td>\n",
       "      <td>24.864865</td>\n",
       "    </tr>\n",
       "    <tr>\n",
       "      <th>1</th>\n",
       "      <td>7</td>\n",
       "      <td>NVDA</td>\n",
       "      <td>50.270270</td>\n",
       "    </tr>\n",
       "    <tr>\n",
       "      <th>2</th>\n",
       "      <td>285</td>\n",
       "      <td>IT</td>\n",
       "      <td>1.891892</td>\n",
       "    </tr>\n",
       "    <tr>\n",
       "      <th>3</th>\n",
       "      <td>18</td>\n",
       "      <td>MA</td>\n",
       "      <td>20.540541</td>\n",
       "    </tr>\n",
       "    <tr>\n",
       "      <th>4</th>\n",
       "      <td>235</td>\n",
       "      <td>VRSK</td>\n",
       "      <td>2.432432</td>\n",
       "    </tr>\n",
       "  </tbody>\n",
       "</table>\n",
       "</div>"
      ],
      "text/plain": [
       "   Index Ticker  AdjustedWeight\n",
       "0     13      V       24.864865\n",
       "1      7   NVDA       50.270270\n",
       "2    285     IT        1.891892\n",
       "3     18     MA       20.540541\n",
       "4    235   VRSK        2.432432"
      ]
     },
     "execution_count": 18,
     "metadata": {},
     "output_type": "execute_result"
    }
   ],
   "source": [
    "hold = []\n",
    "\n",
    "for top in portfolio:\n",
    "    index = SP500.index(top)\n",
    "    adjWeight = (weight500[index] / 0.037) * 100 \n",
    "    \n",
    "    hold.append([index, top , adjWeight])\n",
    "\n",
    "\n",
    "df5 = pd.DataFrame(hold)\n",
    "df5.columns =['Index', 'Ticker', 'AdjustedWeight']\n",
    "\n",
    "df5"
   ]
  },
  {
   "cell_type": "code",
   "execution_count": 19,
   "id": "7dc5e437",
   "metadata": {},
   "outputs": [
    {
     "data": {
      "text/plain": [
       "99.99999999999999"
      ]
     },
     "execution_count": 19,
     "metadata": {},
     "output_type": "execute_result"
    }
   ],
   "source": [
    "#Sum of Stock Weights is equal to 100\n",
    "adjWeights = df5.AdjustedWeight.values.tolist()\n",
    "weight500[:] = [round(num, 4) for num in weight500]\n",
    "\n",
    "sum(adjWeights)"
   ]
  },
  {
   "cell_type": "markdown",
   "id": "6a43c45c",
   "metadata": {},
   "source": [
    "\n",
    "\n",
    "\n"
   ]
  },
  {
   "cell_type": "markdown",
   "id": "5b76a58e",
   "metadata": {},
   "source": [
    "\n",
    "\n",
    "\n"
   ]
  },
  {
   "cell_type": "markdown",
   "id": "459b4511",
   "metadata": {},
   "source": [
    "\n",
    "\n",
    "\n"
   ]
  },
  {
   "cell_type": "markdown",
   "id": "f4c1781b",
   "metadata": {},
   "source": [
    "\n",
    "\n",
    "\n"
   ]
  },
  {
   "cell_type": "markdown",
   "id": "d7fc7a98",
   "metadata": {},
   "source": [
    "\n",
    "\n",
    "\n"
   ]
  },
  {
   "cell_type": "markdown",
   "id": "7881cada",
   "metadata": {},
   "source": [
    "# III. Portfolio Optimization (Data Collection)"
   ]
  },
  {
   "cell_type": "markdown",
   "id": "e5762d7a",
   "metadata": {},
   "source": [
    "###### Importing Dependencies"
   ]
  },
  {
   "cell_type": "code",
   "execution_count": 20,
   "id": "b4925167",
   "metadata": {},
   "outputs": [],
   "source": [
    "import datetime as dt\n",
    "from pandas_datareader import data as web\n",
    "import matplotlib.pyplot as plt"
   ]
  },
  {
   "cell_type": "markdown",
   "id": "f808dd3a",
   "metadata": {},
   "source": [
    "###### Portfolio Tickers and Initial Weights"
   ]
  },
  {
   "cell_type": "code",
   "execution_count": 21,
   "id": "8ea7ce96",
   "metadata": {},
   "outputs": [
    {
     "data": {
      "text/plain": [
       "(['V', 'NVDA', 'IT', 'MA', 'VRSK'],\n",
       " array([0.24864865, 0.5027027 , 0.01891892, 0.20540541, 0.02432432]))"
      ]
     },
     "execution_count": 21,
     "metadata": {},
     "output_type": "execute_result"
    }
   ],
   "source": [
    "EqualWeights = np.array([0.2, 0.2, 0.2, 0.2, 0.2])\n",
    "\n",
    "adjWeights = list(np.float_(adjWeights))\n",
    "adjWeights[:] = [x / 100 for x in adjWeights]\n",
    "adjWeights = np.array(adjWeights)\n",
    "\n",
    "portfolio, adjWeights"
   ]
  },
  {
   "cell_type": "markdown",
   "id": "437eb657",
   "metadata": {},
   "source": [
    "###### Historical Pricing Data"
   ]
  },
  {
   "cell_type": "code",
   "execution_count": 22,
   "id": "81df4e0a",
   "metadata": {},
   "outputs": [
    {
     "data": {
      "text/plain": [
       "'2022-08-14'"
      ]
     },
     "execution_count": 22,
     "metadata": {},
     "output_type": "execute_result"
    }
   ],
   "source": [
    "startDate = '2015-01-01'\n",
    "todayDate = dt.datetime.today().strftime('%Y-%m-%d')\n",
    "\n",
    "todayDate"
   ]
  },
  {
   "cell_type": "markdown",
   "id": "09ed1c9e",
   "metadata": {},
   "source": [
    "###### Stock Close Prices"
   ]
  },
  {
   "cell_type": "markdown",
   "id": "2e2d144c",
   "metadata": {},
   "source": [
    "A stock's closing price is the last price anyone paid for a share of that stock during the business hours of the exchange where the stock is listed. It's often used by investors to compare a stock's day-to-day performance (they are typically used in the line graphs depicting a stock's performance). The adjusted closing price of a stock factors in anything that could affect the stock's price after the market closes. "
   ]
  },
  {
   "cell_type": "code",
   "execution_count": 23,
   "id": "c3cb8b87",
   "metadata": {},
   "outputs": [
    {
     "data": {
      "text/html": [
       "<div>\n",
       "<style scoped>\n",
       "    .dataframe tbody tr th:only-of-type {\n",
       "        vertical-align: middle;\n",
       "    }\n",
       "\n",
       "    .dataframe tbody tr th {\n",
       "        vertical-align: top;\n",
       "    }\n",
       "\n",
       "    .dataframe thead th {\n",
       "        text-align: right;\n",
       "    }\n",
       "</style>\n",
       "<table border=\"1\" class=\"dataframe\">\n",
       "  <thead>\n",
       "    <tr style=\"text-align: right;\">\n",
       "      <th>Symbols</th>\n",
       "      <th>V</th>\n",
       "      <th>NVDA</th>\n",
       "      <th>IT</th>\n",
       "      <th>MA</th>\n",
       "      <th>VRSK</th>\n",
       "    </tr>\n",
       "    <tr>\n",
       "      <th>Date</th>\n",
       "      <th></th>\n",
       "      <th></th>\n",
       "      <th></th>\n",
       "      <th></th>\n",
       "      <th></th>\n",
       "    </tr>\n",
       "  </thead>\n",
       "  <tbody>\n",
       "    <tr>\n",
       "      <th>2015-01-02</th>\n",
       "      <td>62.883415</td>\n",
       "      <td>4.837622</td>\n",
       "      <td>83.599998</td>\n",
       "      <td>81.657890</td>\n",
       "      <td>62.517605</td>\n",
       "    </tr>\n",
       "    <tr>\n",
       "      <th>2015-01-05</th>\n",
       "      <td>61.495350</td>\n",
       "      <td>4.755916</td>\n",
       "      <td>82.099998</td>\n",
       "      <td>79.361031</td>\n",
       "      <td>61.706444</td>\n",
       "    </tr>\n",
       "    <tr>\n",
       "      <th>2015-01-06</th>\n",
       "      <td>61.099094</td>\n",
       "      <td>4.611723</td>\n",
       "      <td>81.349998</td>\n",
       "      <td>79.189476</td>\n",
       "      <td>61.491447</td>\n",
       "    </tr>\n",
       "    <tr>\n",
       "      <th>2015-01-07</th>\n",
       "      <td>61.917706</td>\n",
       "      <td>4.599707</td>\n",
       "      <td>82.599998</td>\n",
       "      <td>80.421310</td>\n",
       "      <td>61.530540</td>\n",
       "    </tr>\n",
       "    <tr>\n",
       "      <th>2015-01-08</th>\n",
       "      <td>62.748180</td>\n",
       "      <td>4.772738</td>\n",
       "      <td>83.430000</td>\n",
       "      <td>81.672211</td>\n",
       "      <td>62.146240</td>\n",
       "    </tr>\n",
       "  </tbody>\n",
       "</table>\n",
       "</div>"
      ],
      "text/plain": [
       "Symbols             V      NVDA         IT         MA       VRSK\n",
       "Date                                                            \n",
       "2015-01-02  62.883415  4.837622  83.599998  81.657890  62.517605\n",
       "2015-01-05  61.495350  4.755916  82.099998  79.361031  61.706444\n",
       "2015-01-06  61.099094  4.611723  81.349998  79.189476  61.491447\n",
       "2015-01-07  61.917706  4.599707  82.599998  80.421310  61.530540\n",
       "2015-01-08  62.748180  4.772738  83.430000  81.672211  62.146240"
      ]
     },
     "execution_count": 23,
     "metadata": {},
     "output_type": "execute_result"
    }
   ],
   "source": [
    "adjClose = web.get_data_yahoo(portfolio, start=startDate, end=todayDate)\n",
    "adjClose = adjClose['Adj Close']\n",
    "\n",
    "adjClose.head()"
   ]
  },
  {
   "cell_type": "code",
   "execution_count": 24,
   "id": "bb738330",
   "metadata": {},
   "outputs": [
    {
     "data": {
      "image/png": "[encoded data removed]",
      "text/plain": [
       "<Figure size 1080x360 with 1 Axes>"
      ]
     },
     "metadata": {
      "needs_background": "light"
     },
     "output_type": "display_data"
    }
   ],
   "source": [
    "plt.style.use('fivethirtyeight')\n",
    "plt.figure(figsize=(15, 5))\n",
    "\n",
    "stocks = adjClose\n",
    "\n",
    "for x in stocks.columns.values:\n",
    "  plt.plot(stocks[x],label=x)\n",
    "\n",
    "title = 'Adjusted Close Price History of Portfolio Stocks'\n",
    "\n",
    "plt.title(title, fontsize=30)\n",
    "plt.xlabel('Date',fontsize=24)\n",
    "plt.ylabel('Adjusted Closing Price ($)',fontsize=24)\n",
    "plt.legend(stocks.columns.values,loc='upper left', fontsize=12)\n",
    "plt.show()"
   ]
  },
  {
   "cell_type": "code",
   "execution_count": 25,
   "id": "eb9e6389",
   "metadata": {},
   "outputs": [
    {
     "data": {
      "text/html": [
       "<div>\n",
       "<style scoped>\n",
       "    .dataframe tbody tr th:only-of-type {\n",
       "        vertical-align: middle;\n",
       "    }\n",
       "\n",
       "    .dataframe tbody tr th {\n",
       "        vertical-align: top;\n",
       "    }\n",
       "\n",
       "    .dataframe thead th {\n",
       "        text-align: right;\n",
       "    }\n",
       "</style>\n",
       "<table border=\"1\" class=\"dataframe\">\n",
       "  <thead>\n",
       "    <tr style=\"text-align: right;\">\n",
       "      <th>Symbols</th>\n",
       "      <th>V</th>\n",
       "      <th>NVDA</th>\n",
       "      <th>IT</th>\n",
       "      <th>MA</th>\n",
       "      <th>VRSK</th>\n",
       "    </tr>\n",
       "    <tr>\n",
       "      <th>Date</th>\n",
       "      <th></th>\n",
       "      <th></th>\n",
       "      <th></th>\n",
       "      <th></th>\n",
       "      <th></th>\n",
       "    </tr>\n",
       "  </thead>\n",
       "  <tbody>\n",
       "    <tr>\n",
       "      <th>2015-01-02</th>\n",
       "      <td>NaN</td>\n",
       "      <td>NaN</td>\n",
       "      <td>NaN</td>\n",
       "      <td>NaN</td>\n",
       "      <td>NaN</td>\n",
       "    </tr>\n",
       "    <tr>\n",
       "      <th>2015-01-05</th>\n",
       "      <td>-0.022321</td>\n",
       "      <td>-0.017034</td>\n",
       "      <td>-0.018106</td>\n",
       "      <td>-0.028531</td>\n",
       "      <td>-0.013060</td>\n",
       "    </tr>\n",
       "    <tr>\n",
       "      <th>2015-01-06</th>\n",
       "      <td>-0.006465</td>\n",
       "      <td>-0.030788</td>\n",
       "      <td>-0.009177</td>\n",
       "      <td>-0.002164</td>\n",
       "      <td>-0.003490</td>\n",
       "    </tr>\n",
       "    <tr>\n",
       "      <th>2015-01-07</th>\n",
       "      <td>0.013309</td>\n",
       "      <td>-0.002609</td>\n",
       "      <td>0.015249</td>\n",
       "      <td>0.015436</td>\n",
       "      <td>0.000636</td>\n",
       "    </tr>\n",
       "    <tr>\n",
       "      <th>2015-01-08</th>\n",
       "      <td>0.013323</td>\n",
       "      <td>0.036928</td>\n",
       "      <td>0.009998</td>\n",
       "      <td>0.015435</td>\n",
       "      <td>0.009957</td>\n",
       "    </tr>\n",
       "  </tbody>\n",
       "</table>\n",
       "</div>"
      ],
      "text/plain": [
       "Symbols            V      NVDA        IT        MA      VRSK\n",
       "Date                                                        \n",
       "2015-01-02       NaN       NaN       NaN       NaN       NaN\n",
       "2015-01-05 -0.022321 -0.017034 -0.018106 -0.028531 -0.013060\n",
       "2015-01-06 -0.006465 -0.030788 -0.009177 -0.002164 -0.003490\n",
       "2015-01-07  0.013309 -0.002609  0.015249  0.015436  0.000636\n",
       "2015-01-08  0.013323  0.036928  0.009998  0.015435  0.009957"
      ]
     },
     "execution_count": 25,
     "metadata": {},
     "output_type": "execute_result"
    }
   ],
   "source": [
    "logReturns = np.log(adjClose/adjClose.shift(1))\n",
    "logReturns.head()"
   ]
  },
  {
   "cell_type": "markdown",
   "id": "33b5fb30",
   "metadata": {},
   "source": [
    "###### Mean Returns"
   ]
  },
  {
   "cell_type": "code",
   "execution_count": 26,
   "id": "d482f9e6",
   "metadata": {},
   "outputs": [
    {
     "data": {
      "text/plain": [
       "Symbols\n",
       "V       0.000633\n",
       "NVDA    0.001908\n",
       "IT      0.000681\n",
       "MA      0.000766\n",
       "VRSK    0.000614\n",
       "dtype: float64"
      ]
     },
     "execution_count": 26,
     "metadata": {},
     "output_type": "execute_result"
    }
   ],
   "source": [
    "meanReturns = logReturns.mean()\n",
    "meanReturns"
   ]
  },
  {
   "cell_type": "markdown",
   "id": "2e28c279",
   "metadata": {},
   "source": [
    "###### Covariance Matrix"
   ]
  },
  {
   "cell_type": "markdown",
   "id": "9efc820f",
   "metadata": {},
   "source": [
    "Covariance is a measure of the relationship between two or more variables. In finance, it is used to measure the relationship between two assets' returns. In practice, if there is a positive covariance, so the two stocks tend to move together. When one stock has a positive return, the other tends to have a positive return as well."
   ]
  },
  {
   "cell_type": "code",
   "execution_count": 27,
   "id": "84564ae7",
   "metadata": {},
   "outputs": [
    {
     "data": {
      "text/html": [
       "<div>\n",
       "<style scoped>\n",
       "    .dataframe tbody tr th:only-of-type {\n",
       "        vertical-align: middle;\n",
       "    }\n",
       "\n",
       "    .dataframe tbody tr th {\n",
       "        vertical-align: top;\n",
       "    }\n",
       "\n",
       "    .dataframe thead th {\n",
       "        text-align: right;\n",
       "    }\n",
       "</style>\n",
       "<table border=\"1\" class=\"dataframe\">\n",
       "  <thead>\n",
       "    <tr style=\"text-align: right;\">\n",
       "      <th>Symbols</th>\n",
       "      <th>V</th>\n",
       "      <th>NVDA</th>\n",
       "      <th>IT</th>\n",
       "      <th>MA</th>\n",
       "      <th>VRSK</th>\n",
       "    </tr>\n",
       "    <tr>\n",
       "      <th>Symbols</th>\n",
       "      <th></th>\n",
       "      <th></th>\n",
       "      <th></th>\n",
       "      <th></th>\n",
       "      <th></th>\n",
       "    </tr>\n",
       "  </thead>\n",
       "  <tbody>\n",
       "    <tr>\n",
       "      <th>V</th>\n",
       "      <td>0.000269</td>\n",
       "      <td>0.000251</td>\n",
       "      <td>0.000166</td>\n",
       "      <td>0.000266</td>\n",
       "      <td>0.000140</td>\n",
       "    </tr>\n",
       "    <tr>\n",
       "      <th>NVDA</th>\n",
       "      <td>0.000251</td>\n",
       "      <td>0.000883</td>\n",
       "      <td>0.000224</td>\n",
       "      <td>0.000282</td>\n",
       "      <td>0.000187</td>\n",
       "    </tr>\n",
       "    <tr>\n",
       "      <th>IT</th>\n",
       "      <td>0.000166</td>\n",
       "      <td>0.000224</td>\n",
       "      <td>0.000360</td>\n",
       "      <td>0.000183</td>\n",
       "      <td>0.000136</td>\n",
       "    </tr>\n",
       "    <tr>\n",
       "      <th>MA</th>\n",
       "      <td>0.000266</td>\n",
       "      <td>0.000282</td>\n",
       "      <td>0.000183</td>\n",
       "      <td>0.000325</td>\n",
       "      <td>0.000148</td>\n",
       "    </tr>\n",
       "    <tr>\n",
       "      <th>VRSK</th>\n",
       "      <td>0.000140</td>\n",
       "      <td>0.000187</td>\n",
       "      <td>0.000136</td>\n",
       "      <td>0.000148</td>\n",
       "      <td>0.000218</td>\n",
       "    </tr>\n",
       "  </tbody>\n",
       "</table>\n",
       "</div>"
      ],
      "text/plain": [
       "Symbols         V      NVDA        IT        MA      VRSK\n",
       "Symbols                                                  \n",
       "V        0.000269  0.000251  0.000166  0.000266  0.000140\n",
       "NVDA     0.000251  0.000883  0.000224  0.000282  0.000187\n",
       "IT       0.000166  0.000224  0.000360  0.000183  0.000136\n",
       "MA       0.000266  0.000282  0.000183  0.000325  0.000148\n",
       "VRSK     0.000140  0.000187  0.000136  0.000148  0.000218"
      ]
     },
     "execution_count": 27,
     "metadata": {},
     "output_type": "execute_result"
    }
   ],
   "source": [
    "covMatrix = logReturns.cov()\n",
    "covMatrix"
   ]
  },
  {
   "cell_type": "markdown",
   "id": "fd34ca69",
   "metadata": {},
   "source": [
    "The close price history, returns, and covariance matrix above were created primarily to illustrate and plot these ---. In practice, the function below will not utilize those dataframes and will instead compute everything within the function. "
   ]
  },
  {
   "cell_type": "markdown",
   "id": "76b0589a",
   "metadata": {},
   "source": [
    "\n",
    "\n",
    "\n"
   ]
  },
  {
   "cell_type": "markdown",
   "id": "404e7f73",
   "metadata": {},
   "source": [
    "\n",
    "\n",
    "\n"
   ]
  },
  {
   "cell_type": "markdown",
   "id": "ab51581a",
   "metadata": {},
   "source": [
    "\n",
    "\n",
    "\n"
   ]
  },
  {
   "cell_type": "markdown",
   "id": "4c9bb78c",
   "metadata": {},
   "source": [
    "\n",
    "\n",
    "\n"
   ]
  },
  {
   "cell_type": "markdown",
   "id": "e82906fe",
   "metadata": {},
   "source": [
    "\n",
    "\n",
    "\n"
   ]
  },
  {
   "cell_type": "markdown",
   "id": "076241e8",
   "metadata": {},
   "source": [
    "# IV. Portfolio Optimization (Functions and Efficient Frontier)"
   ]
  },
  {
   "cell_type": "markdown",
   "id": "11a48ea6",
   "metadata": {},
   "source": [
    "###### Importing Dependencies"
   ]
  },
  {
   "cell_type": "code",
   "execution_count": 28,
   "id": "76d42ca7",
   "metadata": {},
   "outputs": [],
   "source": [
    "from scipy.optimize import minimize"
   ]
  },
  {
   "cell_type": "code",
   "execution_count": 29,
   "id": "39c82d29",
   "metadata": {},
   "outputs": [],
   "source": [
    "def getData(stocks, start, end):\n",
    "    stockData = web.get_data_yahoo(stocks, start=start, end=end)\n",
    "    stockData = stockData['Close']\n",
    "    returns = stockData.pct_change()\n",
    "    meanReturns = returns.mean()\n",
    "    covMatrix = returns.cov()\n",
    "    return meanReturns, covMatrix"
   ]
  },
  {
   "cell_type": "code",
   "execution_count": 30,
   "id": "4f4a0379",
   "metadata": {},
   "outputs": [
    {
     "data": {
      "text/plain": [
       "(Symbols\n",
       " V       0.000740\n",
       " NVDA    0.002331\n",
       " IT      0.000860\n",
       " MA      0.000903\n",
       " VRSK    0.000711\n",
       " dtype: float64,\n",
       " Symbols         V      NVDA        IT        MA      VRSK\n",
       " Symbols                                                  \n",
       " V        0.000269  0.000249  0.000165  0.000267  0.000139\n",
       " NVDA     0.000249  0.000892  0.000220  0.000280  0.000186\n",
       " IT       0.000165  0.000220  0.000358  0.000181  0.000135\n",
       " MA       0.000267  0.000280  0.000181  0.000326  0.000147\n",
       " VRSK     0.000139  0.000186  0.000135  0.000147  0.000217)"
      ]
     },
     "execution_count": 30,
     "metadata": {},
     "output_type": "execute_result"
    }
   ],
   "source": [
    "getData(portfolio, startDate, todayDate)"
   ]
  },
  {
   "cell_type": "code",
   "execution_count": 31,
   "id": "3fe5c299",
   "metadata": {},
   "outputs": [],
   "source": [
    "def portfolioPerformance(weights, meanReturns, covMatrix):\n",
    "    returns = np.sum(meanReturns*weights)*252\n",
    "    std = np.sqrt(\n",
    "            np.dot(weights.T,np.dot(covMatrix, weights))\n",
    "           )*np.sqrt(252)\n",
    "    return returns, std"
   ]
  },
  {
   "cell_type": "markdown",
   "id": "c49ed03a",
   "metadata": {},
   "source": [
    "###### Adjusted Weights Performance"
   ]
  },
  {
   "cell_type": "code",
   "execution_count": 32,
   "id": "e5b38604",
   "metadata": {},
   "outputs": [
    {
     "data": {
      "text/plain": [
       "(0.3279680904108097, 0.32419442328111625)"
      ]
     },
     "execution_count": 32,
     "metadata": {},
     "output_type": "execute_result"
    }
   ],
   "source": [
    "portfolioPerformance(adjWeights, meanReturns, covMatrix)"
   ]
  },
  {
   "cell_type": "markdown",
   "id": "5cda372e",
   "metadata": {},
   "source": [
    "###### Equal Weights Performance"
   ]
  },
  {
   "cell_type": "code",
   "execution_count": 33,
   "id": "f58ac2b3",
   "metadata": {},
   "outputs": [
    {
     "data": {
      "text/plain": [
       "(0.23190225530815053, 0.2463626713923446)"
      ]
     },
     "execution_count": 33,
     "metadata": {},
     "output_type": "execute_result"
    }
   ],
   "source": [
    "portfolioPerformance(EqualWeights, meanReturns, covMatrix)"
   ]
  },
  {
   "cell_type": "markdown",
   "id": "73a6392c",
   "metadata": {},
   "source": [
    "Modern Portfolio Theory: Risk vs Reward     - portfolio risk and diversification\n",
    "Devised by Harry Markowitz\n",
    "Modern Portfolio Theory (MPT) is a theory on how risk-adverse investors can construct portfolios to maximize expected return based on a given level of market risk (Investopedia). \n",
    "Investors want to minimize risk and maximize reward"
   ]
  },
  {
   "cell_type": "markdown",
   "id": "0c6fc8ac",
   "metadata": {},
   "source": [
    "The purchasing of any asset comes with a potential risk and an associated potential reward\n",
    "From our asset, we have asset the potential future distrbution of resutrns\n",
    "We don't know what the stock returns would be in the future"
   ]
  },
  {
   "cell_type": "markdown",
   "id": "6168e572",
   "metadata": {},
   "source": [
    "check performance of adjusted weights portfolio\n",
    "check weights of equal weighted portfolio"
   ]
  },
  {
   "cell_type": "code",
   "execution_count": 34,
   "id": "6181a0a3",
   "metadata": {},
   "outputs": [],
   "source": [
    "def negativeSR(weights, meanReturns, covMatrix, riskFreeRate = 0):\n",
    "    pReturns, pStd = portfolioPerformance(weights, meanReturns, covMatrix)\n",
    "    return - (pReturns - riskFreeRate)/pStd\n",
    "\n",
    "def maxSR(meanReturns, covMatrix, riskFreeRate = 0, constraintSet=(0,1)):\n",
    "    \"Minimize the negative SR, by altering the weights of the portfolio\"\n",
    "    numAssets = len(meanReturns)\n",
    "    args = (meanReturns, covMatrix, riskFreeRate)\n",
    "    constraints = ({'type': 'eq', 'fun': lambda x: np.sum(x) - 1})\n",
    "    bound = constraintSet\n",
    "    bounds = tuple(bound for asset in range(numAssets))\n",
    "    result = minimize(negativeSR, numAssets*[1./numAssets], args=args,\n",
    "                        method='SLSQP', bounds=bounds, constraints=constraints)\n",
    "    return result"
   ]
  },
  {
   "cell_type": "markdown",
   "id": "c4516cda",
   "metadata": {},
   "source": [
    "###### Sharpe Ratio of Adjusted S&P500 Weights Portfolio"
   ]
  },
  {
   "cell_type": "code",
   "execution_count": 35,
   "id": "0198ff72",
   "metadata": {},
   "outputs": [
    {
     "data": {
      "text/plain": [
       "-1.0116401358527418"
      ]
     },
     "execution_count": 35,
     "metadata": {},
     "output_type": "execute_result"
    }
   ],
   "source": [
    "negativeSR(adjWeights, meanReturns, covMatrix, riskFreeRate = 0)"
   ]
  },
  {
   "cell_type": "markdown",
   "id": "cea16cac",
   "metadata": {},
   "source": [
    "###### Sharpe Ratio of Equal Weights Portfolio"
   ]
  },
  {
   "cell_type": "code",
   "execution_count": 36,
   "id": "ea6ddfbd",
   "metadata": {},
   "outputs": [
    {
     "data": {
      "text/plain": [
       "-0.9413043542576093"
      ]
     },
     "execution_count": 36,
     "metadata": {},
     "output_type": "execute_result"
    }
   ],
   "source": [
    "negativeSR(EqualWeights, meanReturns, covMatrix, riskFreeRate = 0)"
   ]
  },
  {
   "cell_type": "code",
   "execution_count": 37,
   "id": "4ec98fe5",
   "metadata": {},
   "outputs": [],
   "source": [
    "def portfolioVariance(weights, meanReturns, covMatrix):\n",
    "    return portfolioPerformance(weights, meanReturns, covMatrix)[1]\n",
    "\n",
    "def minimizeVariance(meanReturns, covMatrix, constraintSet=(0,1)):\n",
    "    \"\"\"Minimize the portfolio variance by altering the \n",
    "     weights/allocation of assets in the portfolio\"\"\"\n",
    "    numAssets = len(meanReturns)\n",
    "    args = (meanReturns, covMatrix)\n",
    "    constraints = ({'type': 'eq', 'fun': lambda x: np.sum(x) - 1})\n",
    "    bound = constraintSet\n",
    "    bounds = tuple(bound for asset in range(numAssets))\n",
    "    result = minimize(portfolioVariance, numAssets*[1./numAssets], args=args,\n",
    "                        method='SLSQP', bounds=bounds, constraints=constraints)\n",
    "    return result"
   ]
  },
  {
   "cell_type": "code",
   "execution_count": 38,
   "id": "8e065e1f",
   "metadata": {},
   "outputs": [],
   "source": [
    "def portfolioReturn(weights, meanReturns, covMatrix):\n",
    "        return portfolioPerformance(weights, meanReturns, covMatrix)[0]\n",
    "    \n",
    "def efficientOpt(meanReturns, covMatrix, returnTarget, constraintSet=(0,1)):\n",
    "    \"\"\"For each returnTarget, we want to optimise the portfolio for min variance\"\"\"\n",
    "    numAssets = len(meanReturns)\n",
    "    args = (meanReturns, covMatrix)\n",
    "    constraints = ({'type':'eq', 'fun': lambda x: portfolioReturn(x, meanReturns, covMatrix) - returnTarget},\n",
    "                    {'type': 'eq', 'fun': lambda x: np.sum(x) - 1})\n",
    "    bound = constraintSet\n",
    "    bounds = tuple(bound for asset in range(numAssets))\n",
    "    effOpt = minimize(portfolioVariance, numAssets*[1./numAssets], args=args, method = 'SLSQP', bounds=bounds, constraints=constraints)\n",
    "    return effOpt"
   ]
  },
  {
   "cell_type": "code",
   "execution_count": 39,
   "id": "7680904e",
   "metadata": {},
   "outputs": [],
   "source": [
    "def calculatedResults(meanReturns, covMatrix, riskFreeRate=0, constraintSet=(0,1)):\n",
    "    \"\"\"Read in mean, cov matrix, and other financial information\n",
    "        Output, Max SR , Min Volatility, efficient frontier \"\"\"\n",
    "    # Max Sharpe Ratio Portfolio\n",
    "    maxSR_Portfolio = maxSR(meanReturns, covMatrix)\n",
    "    maxSR_returns, maxSR_std = portfolioPerformance(maxSR_Portfolio['x'], meanReturns, covMatrix)\n",
    "    maxSR_returns, maxSR_std = round(maxSR_returns*100,2), round(maxSR_std*100,2)\n",
    "    maxSR_allocation = pd.DataFrame(maxSR_Portfolio['x'], index=meanReturns.index, columns=['allocation'])\n",
    "    maxSR_allocation.allocation = [round(i*100,0) for i in maxSR_allocation.allocation]\n",
    "    \n",
    "    # Min Volatility Portfolio\n",
    "    minVol_Portfolio = minimizeVariance(meanReturns, covMatrix)\n",
    "    minVol_returns, minVol_std = portfolioPerformance(minVol_Portfolio['x'], meanReturns, covMatrix)\n",
    "    minVol_returns, minVol_std = round(minVol_returns*100,2), round(minVol_std*100,2)\n",
    "    minVol_allocation = pd.DataFrame(minVol_Portfolio['x'], index=meanReturns.index, columns=['allocation'])\n",
    "    minVol_allocation.allocation = [round(i*100,0) for i in minVol_allocation.allocation]\n",
    "    # Efficient Frontier\n",
    "    efficientList = []\n",
    "    targetReturns = np.linspace(minVol_returns, maxSR_returns, 20)\n",
    "    for target in targetReturns:\n",
    "        efficientList.append(efficientOpt(meanReturns, covMatrix, target)['fun'])\n",
    "    return maxSR_returns, maxSR_std, maxSR_allocation, minVol_returns, minVol_std, minVol_allocation, efficientList, targetReturns"
   ]
  },
  {
   "cell_type": "code",
   "execution_count": 40,
   "id": "eb6e2769",
   "metadata": {},
   "outputs": [],
   "source": [
    "maxSR_returns, maxSR_std, maxSR_allocation, minVol_returns, minVol_std, minVol_allocation, efficientList, targetReturns = calculatedResults(meanReturns, covMatrix, riskFreeRate=0, constraintSet=(0,1))"
   ]
  },
  {
   "cell_type": "code",
   "execution_count": null,
   "id": "f23bf2cd",
   "metadata": {
    "scrolled": true
   },
   "outputs": [],
   "source": []
  },
  {
   "cell_type": "code",
   "execution_count": null,
   "id": "5a30f84e",
   "metadata": {},
   "outputs": [],
   "source": []
  },
  {
   "cell_type": "code",
   "execution_count": 41,
   "id": "8c7e147b",
   "metadata": {},
   "outputs": [
    {
     "data": {
      "image/png": "[encoded data removed]",
      "text/plain": [
       "<Figure size 864x576 with 1 Axes>"
      ]
     },
     "metadata": {
      "needs_background": "light"
     },
     "output_type": "display_data"
    }
   ],
   "source": [
    "x = efficientList\n",
    "y = targetReturns\n",
    "\n",
    "plt.figure(figsize=(12,8))\n",
    "plt.style.use('fivethirtyeight')\n",
    "\n",
    "plt.xlabel('Volatility')\n",
    "plt.ylabel('Return')\n",
    "\n",
    "# Max SR\n",
    "plt.scatter(maxSR_std, maxSR_returns,c='red', s=100) # red dot\n",
    "\n",
    "\n",
    "plt.plot(x, y, 'r--', linewidth=3)\n",
    "plt.show()"
   ]
  },
  {
   "cell_type": "code",
   "execution_count": null,
   "id": "3a75fc16",
   "metadata": {},
   "outputs": [],
   "source": []
  },
  {
   "cell_type": "code",
   "execution_count": 42,
   "id": "781f5b70",
   "metadata": {},
   "outputs": [],
   "source": [
    "np.random.seed(42)\n",
    "num_ports = 6000\n",
    "all_weights = np.zeros((num_ports, len(adjClose.columns)))\n",
    "ret_arr = np.zeros(num_ports)\n",
    "vol_arr = np.zeros(num_ports)\n",
    "sharpe_arr = np.zeros(num_ports)\n",
    "\n",
    "for x in range(num_ports):\n",
    "    # Weights\n",
    "    weights = np.array(np.random.random(5))\n",
    "    weights = weights/np.sum(weights)\n",
    "    \n",
    "    # Save weights\n",
    "    all_weights[x,:] = weights\n",
    "    \n",
    "    # Expected return\n",
    "    ret_arr[x] = np.sum( (logReturns.mean() * weights * 252))\n",
    "    \n",
    "    # Expected volatility\n",
    "    vol_arr[x] = np.sqrt(np.dot(weights.T, np.dot(logReturns.cov()*252, weights)))\n",
    "    \n",
    "    # Sharpe Ratio\n",
    "    sharpe_arr[x] = ret_arr[x]/vol_arr[x]"
   ]
  },
  {
   "cell_type": "code",
   "execution_count": 43,
   "id": "45127391",
   "metadata": {},
   "outputs": [
    {
     "name": "stdout",
     "output_type": "stream",
     "text": [
      "Max SR: 1.0521829821180773\n",
      "Location: 4304\n"
     ]
    }
   ],
   "source": [
    "print('Max SR: {}'.format(sharpe_arr.max()))\n",
    "print('Location: {}'.format(sharpe_arr.argmax()))"
   ]
  },
  {
   "cell_type": "code",
   "execution_count": 44,
   "id": "57024878",
   "metadata": {},
   "outputs": [
    {
     "name": "stdout",
     "output_type": "stream",
     "text": [
      "[0.32929617 0.31407276 0.01132636 0.19092092 0.15438379]\n"
     ]
    }
   ],
   "source": [
    "print(all_weights[1648,:])\n",
    "\n",
    "maxSR_return = ret_arr[sharpe_arr.argmax()]\n",
    "maxSR_vol = vol_arr[sharpe_arr.argmax()]"
   ]
  },
  {
   "cell_type": "code",
   "execution_count": 45,
   "id": "30f28912",
   "metadata": {},
   "outputs": [
    {
     "data": {
      "image/png": "[encoded data removed]",
      "text/plain": [
       "<Figure size 864x576 with 2 Axes>"
      ]
     },
     "metadata": {},
     "output_type": "display_data"
    }
   ],
   "source": [
    "plt.figure(figsize=(12,8))\n",
    "plt.style.use('fivethirtyeight')\n",
    "plt.scatter(vol_arr, ret_arr, c=sharpe_arr, cmap='viridis')\n",
    "plt.colorbar(label='Sharpe Ratio')\n",
    "plt.xlabel('Volatility')\n",
    "plt.ylabel('Return')\n",
    "plt.scatter(maxSR_vol, maxSR_return,c='red', s=50) # red dot\n",
    "plt.show()"
   ]
  },
  {
   "cell_type": "markdown",
   "id": "a69fd4b3",
   "metadata": {},
   "source": [
    "What we need to plot EF:\n",
    "FIRST: CURVE + DOT\n",
    "\n",
    "Random Portfolios:\n",
    "ALL THE RANDOMS"
   ]
  },
  {
   "cell_type": "code",
   "execution_count": 46,
   "id": "96da704e",
   "metadata": {},
   "outputs": [],
   "source": [
    "def get_ret_vol_sr(weights):\n",
    "    weights = np.array(weights)\n",
    "    ret = np.sum(logReturns.mean() * weights) * 252\n",
    "    vol = np.sqrt(np.dot(weights.T, np.dot(logReturns.cov()*252, weights)))\n",
    "    sr = ret/vol\n",
    "    return np.array([ret, vol, sr])\n",
    "\n",
    "def neg_sharpe(weights):\n",
    "# the number 2 is the sharpe ratio index from the get_ret_vol_sr\n",
    "    return get_ret_vol_sr(weights)[2] * -1\n",
    "\n",
    "def check_sum(weights):\n",
    "    #return 0 if sum of the weights is 1\n",
    "    return np.sum(weights)-1"
   ]
  },
  {
   "cell_type": "code",
   "execution_count": 47,
   "id": "c86540d9",
   "metadata": {},
   "outputs": [],
   "source": [
    "cons = ({'type':'eq', 'fun':check_sum})\n",
    "bounds = ((0,1), (0,1), (0,1), (0,1), (0,1))\n",
    "init_guess = [0.2, 0.2, 0.2, 0.2, 0.2]"
   ]
  },
  {
   "cell_type": "code",
   "execution_count": 48,
   "id": "d91c5b31",
   "metadata": {},
   "outputs": [
    {
     "name": "stdout",
     "output_type": "stream",
     "text": [
      "     fun: -1.053759347249131\n",
      "     jac: array([ 4.15731668e-02, -5.50448895e-05, -7.56978989e-06,  2.72274017e-04,\n",
      "        6.21527433e-05])\n",
      " message: 'Optimization terminated successfully'\n",
      "    nfev: 54\n",
      "     nit: 9\n",
      "    njev: 9\n",
      "  status: 0\n",
      " success: True\n",
      "       x: array([0.        , 0.56340726, 0.0969951 , 0.05060556, 0.28899208])\n"
     ]
    }
   ],
   "source": [
    "opt_results = minimize(neg_sharpe, init_guess,method='SLSQP', bounds=bounds, constraints=cons)\n",
    "print(opt_results)"
   ]
  },
  {
   "cell_type": "code",
   "execution_count": 49,
   "id": "7849dc2a",
   "metadata": {},
   "outputs": [
    {
     "data": {
      "text/plain": [
       "array([0.34199839, 0.32455075, 1.05375935])"
      ]
     },
     "execution_count": 49,
     "metadata": {},
     "output_type": "execute_result"
    }
   ],
   "source": [
    "get_ret_vol_sr(opt_results.x)"
   ]
  },
  {
   "cell_type": "code",
   "execution_count": 50,
   "id": "c154f3f8",
   "metadata": {},
   "outputs": [],
   "source": [
    "frontier_y = np.linspace(0.15,0.40,200)"
   ]
  },
  {
   "cell_type": "code",
   "execution_count": 51,
   "id": "3d017861",
   "metadata": {},
   "outputs": [],
   "source": [
    "def minimize_volatility(weights):\n",
    "    return get_ret_vol_sr(weights)[1]"
   ]
  },
  {
   "cell_type": "code",
   "execution_count": 52,
   "id": "2601c59c",
   "metadata": {},
   "outputs": [],
   "source": [
    "frontier_x = []\n",
    "\n",
    "for possible_return in frontier_y:\n",
    "    cons = ({'type':'eq', 'fun':check_sum},\n",
    "            {'type':'eq', 'fun': lambda w: get_ret_vol_sr(w)[0] - possible_return})\n",
    "    \n",
    "    result = minimize(minimize_volatility,init_guess,method='SLSQP', bounds=bounds, constraints=cons)\n",
    "    frontier_x.append(result['fun'])"
   ]
  },
  {
   "cell_type": "code",
   "execution_count": 53,
   "id": "167cef08",
   "metadata": {},
   "outputs": [
    {
     "data": {
      "image/png": "[encoded data removed]",
      "text/plain": [
       "<Figure size 864x576 with 2 Axes>"
      ]
     },
     "metadata": {},
     "output_type": "display_data"
    }
   ],
   "source": [
    "plt.figure(figsize=(12,8))\n",
    "plt.style.use('fivethirtyeight')\n",
    "plt.scatter(vol_arr, ret_arr, c=sharpe_arr, cmap='viridis')\n",
    "plt.colorbar(label='Sharpe Ratio')\n",
    "plt.xlabel('Volatility')\n",
    "plt.ylabel('Return')\n",
    "plt.scatter(maxSR_vol, maxSR_return,c='red', s=100) # red dot\n",
    "plt.plot(frontier_x,frontier_y, 'r--', linewidth=3)\n",
    "plt.show()"
   ]
  },
  {
   "cell_type": "code",
   "execution_count": null,
   "id": "afbef0c2",
   "metadata": {},
   "outputs": [],
   "source": []
  }
 ],
 "metadata": {
  "kernelspec": {
   "display_name": "Python 3 (ipykernel)",
   "language": "python",
   "name": "python3"
  },
  "language_info": {
   "codemirror_mode": {
    "name": "ipython",
    "version": 3
   },
   "file_extension": ".py",
   "mimetype": "text/x-python",
   "name": "python",
   "nbconvert_exporter": "python",
   "pygments_lexer": "ipython3",
   "version": "3.10.5"
  }
 },
 "nbformat": 4,
 "nbformat_minor": 5
}
